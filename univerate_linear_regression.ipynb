{
  "nbformat": 4,
  "nbformat_minor": 0,
  "metadata": {
    "colab": {
      "name": "univerate_linear_regression.ipynb",
      "provenance": [],
      "collapsed_sections": [],
      "authorship_tag": "ABX9TyOoUoPniismu2VUoewydTMs",
      "include_colab_link": true
    },
    "kernelspec": {
      "name": "python3",
      "display_name": "Python 3"
    },
    "language_info": {
      "name": "python"
    }
  },
  "cells": [
    {
      "cell_type": "markdown",
      "metadata": {
        "id": "view-in-github",
        "colab_type": "text"
      },
      "source": [
        "<a href=\"https://colab.research.google.com/github/kanstat/testing/blob/main/univerate_linear_regression.ipynb\" target=\"_parent\"><img src=\"https://colab.research.google.com/assets/colab-badge.svg\" alt=\"Open In Colab\"/></a>"
      ]
    },
    {
      "cell_type": "code",
      "execution_count": null,
      "metadata": {
        "id": "PUt_VFEFKtQN"
      },
      "outputs": [],
      "source": [
        "# For univeriate linear regression there is only one input feature vector. \n",
        "# equation Y = b0+b1*X\n",
        "# y->output, b0,b1-> regression cofficiets, x-> input feature vector\n",
        "\n",
        "\n",
        "# predict the value based on cofficients and feature vector\n",
        "def predict(x,b0,b1):\n",
        "  return b0+b1*x\n"
      ]
    },
    {
      "cell_type": "code",
      "source": [
        "#cost function-> computes the error percentage with the current value of\n",
        "# regression cofficients. defines how far the model is wrt actual regression cofficients.\n",
        "def cost(x,y,b0,b1):\n",
        "  errors = []\n",
        "  for x,y in zip(x,y):\n",
        "    prediction = predict(x,b0,b1)\n",
        "    expected =y\n",
        "    difference =prediction-expected\n",
        "    errors.append(difference) \n",
        "    mse = sum([e * e for e in errors])/len(errors)\n",
        "    return mse"
      ],
      "metadata": {
        "id": "K5sApwXkMgCp"
      },
      "execution_count": null,
      "outputs": []
    },
    {
      "cell_type": "code",
      "source": [
        "#cost derivative->\n",
        "def cost_derivative(x,y,b0,b1,i):\n",
        "  return sum ([2*(predict(xi,b0,b1)-yi)*1\n",
        "               if i==0\n",
        "               else 2*(predict(x,b0,b1))*xi\n",
        "               for xi,yi in zip(x,y)])/len(x)"
      ],
      "metadata": {
        "id": "14MTTuMnO6eW"
      },
      "execution_count": null,
      "outputs": []
    },
    {
      "cell_type": "code",
      "source": [
        "def update_coeff(x,y,b0,b1,i,alpha):\n",
        "  bi= alpha*cost_derivative(x,y,b0,b1,i)\n",
        "  return bi"
      ],
      "metadata": {
        "id": "ylJ-5vBhRJ7Q"
      },
      "execution_count": null,
      "outputs": []
    }
  ]
}