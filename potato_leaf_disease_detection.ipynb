{
  "nbformat": 4,
  "nbformat_minor": 0,
  "metadata": {
    "colab": {
      "name": "potato_leaf_disease_detection.ipynb",
      "provenance": [],
      "collapsed_sections": [],
      "include_colab_link": true
    },
    "kernelspec": {
      "name": "python3",
      "display_name": "Python 3"
    },
    "language_info": {
      "name": "python"
    },
    "accelerator": "GPU"
  },
  "cells": [
    {
      "cell_type": "markdown",
      "metadata": {
        "id": "view-in-github",
        "colab_type": "text"
      },
      "source": [
        "<a href=\"https://colab.research.google.com/github/kanstat/Machine_learning/blob/main/potato_leaf_disease_detection.ipynb\" target=\"_parent\"><img src=\"https://colab.research.google.com/assets/colab-badge.svg\" alt=\"Open In Colab\"/></a>"
      ]
    },
    {
      "cell_type": "code",
      "execution_count": 1,
      "metadata": {
        "id": "5bPnFFAHXdEw"
      },
      "outputs": [],
      "source": [
        "#install kaggle\n",
        "! pip install -q kaggle"
      ]
    },
    {
      "cell_type": "code",
      "source": [
        "#uploag kaggle json from local system\n",
        "from google.colab import files\n",
        "files.upload()"
      ],
      "metadata": {
        "colab": {
          "resources": {
            "http://localhost:8080/nbextensions/google.colab/files.js": {
              "data": "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",
              "ok": true,
              "headers": [
                [
                  "content-type",
                  "application/javascript"
                ]
              ],
              "status": 200,
              "status_text": ""
            }
          },
          "base_uri": "https://localhost:8080/",
          "height": 90
        },
        "id": "pc5FTop7You4",
        "outputId": "68c512f5-1f61-455d-ab23-439a20b4b7ae"
      },
      "execution_count": 2,
      "outputs": [
        {
          "output_type": "display_data",
          "data": {
            "text/plain": [
              "<IPython.core.display.HTML object>"
            ],
            "text/html": [
              "\n",
              "     <input type=\"file\" id=\"files-b6461b52-10f5-492a-b97e-7d19fe6b1712\" name=\"files[]\" multiple disabled\n",
              "        style=\"border:none\" />\n",
              "     <output id=\"result-b6461b52-10f5-492a-b97e-7d19fe6b1712\">\n",
              "      Upload widget is only available when the cell has been executed in the\n",
              "      current browser session. Please rerun this cell to enable.\n",
              "      </output>\n",
              "      <script src=\"/nbextensions/google.colab/files.js\"></script> "
            ]
          },
          "metadata": {}
        },
        {
          "output_type": "stream",
          "name": "stdout",
          "text": [
            "Saving kaggle.json to kaggle.json\n"
          ]
        },
        {
          "output_type": "execute_result",
          "data": {
            "text/plain": [
              "{'kaggle.json': b'{\"username\":\"xskanstat\",\"key\":\"8379b0f1e19c1adc7bf64356a177d4df\"}'}"
            ]
          },
          "metadata": {},
          "execution_count": 2
        }
      ]
    },
    {
      "cell_type": "code",
      "source": [
        "#create a kaggle directory\n",
        "! mkdir ~/.kaggle"
      ],
      "metadata": {
        "id": "j4PPReeNZBhD"
      },
      "execution_count": 3,
      "outputs": []
    },
    {
      "cell_type": "code",
      "source": [
        "#copy the kaggle.json to folder created\n",
        "! cp kaggle.json ~/.kaggle/"
      ],
      "metadata": {
        "id": "fhuiejfnZzVH"
      },
      "execution_count": 4,
      "outputs": []
    },
    {
      "cell_type": "code",
      "source": [
        "#permission for the json to act\n",
        "! chmod 600 ~/.kaggle/kaggle.json"
      ],
      "metadata": {
        "id": "3KZsFVTLaLDI"
      },
      "execution_count": 5,
      "outputs": []
    },
    {
      "cell_type": "code",
      "source": [
        "#to list all the dataset in kaggle\n",
        "! kaggle datasets list"
      ],
      "metadata": {
        "colab": {
          "base_uri": "https://localhost:8080/"
        },
        "id": "YLzbAmlwag4q",
        "outputId": "2dcaf7f2-2588-4646-c1ac-283610509237"
      },
      "execution_count": 6,
      "outputs": [
        {
          "output_type": "stream",
          "name": "stdout",
          "text": [
            "ref                                                                   title                                             size  lastUpdated          downloadCount  voteCount  usabilityRating  \n",
            "--------------------------------------------------------------------  -----------------------------------------------  -----  -------------------  -------------  ---------  ---------------  \n",
            "muratkokludataset/date-fruit-datasets                                 Date Fruit Datasets                              408KB  2022-04-03 09:25:39           9929       1344  0.9375           \n",
            "victorsoeiro/netflix-tv-shows-and-movies                              Netflix TV Shows and Movies                        2MB  2022-05-15 00:01:23           2037         72  1.0              \n",
            "mdmahmudulhasansuzan/students-adaptability-level-in-online-education  Students Adaptability Level in Online Education    6KB  2022-04-16 04:46:28           6610        168  1.0              \n",
            "muratkokludataset/acoustic-extinguisher-fire-dataset                  Acoustic Extinguisher Fire Dataset               621KB  2022-04-02 22:59:36           1578       1164  0.9375           \n",
            "muratkokludataset/rice-image-dataset                                  Rice Image Dataset                               219MB  2022-04-03 02:12:00           1943       1111  0.875            \n",
            "muratkokludataset/raisin-dataset                                      Raisin Dataset                                   112KB  2022-04-03 00:23:16            785        993  0.9375           \n",
            "muratkokludataset/dry-bean-dataset                                    Dry Bean Dataset                                   5MB  2022-04-02 23:19:30            632        989  0.9375           \n",
            "paradisejoy/top-hits-spotify-from-20002019                            Top Hits Spotify from 2000-2019                   94KB  2022-04-26 17:30:03           2378         57  1.0              \n",
            "muratkokludataset/pistachio-dataset                                   Pistachio Dataset                                  2MB  2022-04-03 08:38:21            680       1011  0.9375           \n",
            "muratkokludataset/rice-msc-dataset                                    Rice MSC Dataset                                 102MB  2022-04-03 01:33:52            305        980  0.9375           \n",
            "muratkokludataset/grapevine-leaves-image-dataset                      Grapevine Leaves Image Dataset                   109MB  2022-04-03 09:00:54            248       1018  0.875            \n",
            "muratkokludataset/rice-dataset-commeo-and-osmancik                    Rice Dataset Commeo and Osmancik                 524KB  2022-04-03 00:40:03            163        968  0.875            \n",
            "muratkokludataset/durum-wheat-dataset                                 Durum Wheat Dataset                              983MB  2022-04-03 00:02:29            121        990  0.875            \n",
            "mysarahmadbhat/airline-passenger-satisfaction                         Airline Passenger Satisfaction                     2MB  2022-05-19 11:46:02            776         21  1.0              \n",
            "muratkokludataset/pistachio-image-dataset                             Pistachio Image Dataset                           27MB  2022-03-28 18:01:27            659       1059  0.9375           \n",
            "muratkokludataset/pumpkin-seeds-dataset                               Pumpkin Seeds Dataset                            393KB  2022-03-28 18:28:16            772        987  0.9375           \n",
            "ujjwalchowdhury/energy-efficiency-data-set                            Energy Efficiency Data Set                         6KB  2022-05-12 13:51:03            808         35  0.9705882        \n",
            "surajjha101/stores-area-and-sales-data                                Supermarket store branches sales analysis         10KB  2022-04-29 11:10:16           2149         78  1.0              \n",
            "rinichristy/covid19-coronavirus-pandemic                              COVID-19 Coronavirus Pandemic                      9KB  2022-04-05 08:43:16           5038        116  1.0              \n",
            "jjdaguirre/forbes-billionaires-2022                                   Forbes billionaires 2022                          56KB  2022-04-30 18:48:22           1019         30  1.0              \n"
          ]
        }
      ]
    },
    {
      "cell_type": "code",
      "source": [
        "#just to connect google colab with kaggle to use any kaggle dataset\n",
        "! kaggle datasets download -d abbasataiemontazer/potato-leaf"
      ],
      "metadata": {
        "colab": {
          "base_uri": "https://localhost:8080/"
        },
        "id": "rf2qxFEHa1qI",
        "outputId": "ba43bc43-44b7-41f7-efd5-078c394b513c"
      },
      "execution_count": 7,
      "outputs": [
        {
          "output_type": "stream",
          "name": "stdout",
          "text": [
            "Downloading potato-leaf.zip to /content\n",
            "\r  0% 0.00/25.2M [00:00<?, ?B/s]\r 36% 9.00M/25.2M [00:00<00:00, 67.6MB/s]\n",
            "\r100% 25.2M/25.2M [00:00<00:00, 138MB/s] \n"
          ]
        }
      ]
    },
    {
      "cell_type": "code",
      "source": [
        "#unzip train data\n",
        "!unzip potato-leaf.zip"
      ],
      "metadata": {
        "colab": {
          "base_uri": "https://localhost:8080/"
        },
        "id": "w0tfqL98cmST",
        "outputId": "7add7369-eecb-41be-825b-e146c2192761"
      },
      "execution_count": 8,
      "outputs": [
        {
          "output_type": "stream",
          "name": "stdout",
          "text": [
            "Archive:  potato-leaf.zip\n",
            "  inflating: Potato/Test/Potato___Early_blight/034959c1-f1e8-4a79-a6d5-3c1d14efa2f3___RS_Early.B 7136.JPG  \n",
            "  inflating: Potato/Test/Potato___Early_blight/042135e2-e126-4900-9212-d42d900b8125___RS_Early.B 8791.JPG  \n",
            "  inflating: Potato/Test/Potato___Early_blight/0604174e-3018-4faa-9975-0be32d2c0789___RS_Early.B 7123.JPG  \n",
            "  inflating: Potato/Test/Potato___Early_blight/07953ca1-8935-449f-b338-4357ed683b2d___RS_Early.B 6815.JPG  \n",
            "  inflating: Potato/Test/Potato___Early_blight/08029ccc-387e-4be6-9389-04f7b82fdb2a___RS_Early.B 9130.JPG  \n",
            "  inflating: Potato/Test/Potato___Early_blight/08194ca3-f0b2-4aaa-8df8-5ec5ddc6696a___RS_Early.B 8151.JPG  \n",
            "  inflating: Potato/Test/Potato___Early_blight/08392b44-ecc6-4f38-8566-361b552cfe21___RS_Early.B 7393.JPG  \n",
            "  inflating: Potato/Test/Potato___Early_blight/107827b3-faa5-457c-97fd-3e34d2657f6b___RS_Early.B 7162.JPG  \n",
            "  inflating: Potato/Test/Potato___Early_blight/109730cd-03f3-4139-a464-5f9151483e8c___RS_Early.B 6738.JPG  \n",
            "  inflating: Potato/Test/Potato___Early_blight/12429fa8-02ea-4017-88ef-b2d219b892f7___RS_Early.B 6916.JPG  \n",
            "  inflating: Potato/Test/Potato___Early_blight/12826416-efc5-49d3-b615-731629c95435___RS_Early.B 7215.JPG  \n",
            "  inflating: Potato/Test/Potato___Early_blight/16133ed7-f960-44a5-bd03-8e665e777363___RS_Early.B 7504.JPG  \n",
            "  inflating: Potato/Test/Potato___Early_blight/17520079-9d7b-481a-bc9e-676c5404d160___RS_Early.B 6774.JPG  \n",
            "  inflating: Potato/Test/Potato___Early_blight/17667077-cf29-4976-9282-359c6da25cf6___RS_Early.B 6971.JPG  \n",
            "  inflating: Potato/Test/Potato___Early_blight/17756ec1-9c95-43b3-bedc-933b6e0887f3___RS_Early.B 8251.JPG  \n",
            "  inflating: Potato/Test/Potato___Early_blight/17848019-6609-4cc9-b27b-c70b296ceb09___RS_Early.B 7049.JPG  \n",
            "  inflating: Potato/Test/Potato___Early_blight/203357f4-1deb-42b2-99ed-32df34aa166c___RS_Early.B 6780.JPG  \n",
            "  inflating: Potato/Test/Potato___Early_blight/20421747-c083-48a1-aed5-b1097ae50491___RS_Early.B 8203.JPG  \n",
            "  inflating: Potato/Test/Potato___Early_blight/20978e65-f4d0-419a-bab9-f6042ab2d318___RS_Early.B 6868.JPG  \n",
            "  inflating: Potato/Test/Potato___Early_blight/211094c5-4983-49ff-a92e-b992039bd048___RS_Early.B 6927.JPG  \n",
            "  inflating: Potato/Test/Potato___Early_blight/23546e04-7151-4dbd-95a1-687d963eb132___RS_Early.B 7402.JPG  \n",
            "  inflating: Potato/Test/Potato___Early_blight/25642761-2905-48af-b8da-1064a0f6b876___RS_Early.B 6831.JPG  \n",
            "  inflating: Potato/Test/Potato___Early_blight/25703c4f-ec40-4099-b249-a4fd07b07752___RS_Early.B 7040.JPG  \n",
            "  inflating: Potato/Test/Potato___Early_blight/283134dd-8b32-447e-8e82-547d3b69f4d4___RS_Early.B 7494.JPG  \n",
            "  inflating: Potato/Test/Potato___Early_blight/29386668-721c-4359-99a6-734f1a4b096b___RS_Early.B 8362.JPG  \n",
            "  inflating: Potato/Test/Potato___Early_blight/29508e75-1a9d-4838-b929-cf42f8638e83___RS_Early.B 6782.JPG  \n",
            "  inflating: Potato/Test/Potato___Early_blight/29922d76-0eda-4e7c-89af-7688c656bfdd___RS_Early.B 8353.JPG  \n",
            "  inflating: Potato/Test/Potato___Early_blight/29978e78-7d4a-4fff-a659-52e45e9b96b3___RS_Early.B 7672.JPG  \n",
            "  inflating: Potato/Test/Potato___Early_blight/31290247-3f4f-445d-8bad-20d7dccbf979___RS_Early.B 7019.JPG  \n",
            "  inflating: Potato/Test/Potato___Early_blight/33019904-ac3b-4083-a192-ce4092758ddd___RS_Early.B 8344.JPG  \n",
            "  inflating: Potato/Test/Potato___Early_blight/349730da-a627-4da6-90d5-707c4a3dba88___RS_Early.B 7553.JPG  \n",
            "  inflating: Potato/Test/Potato___Early_blight/357426c8-5b7b-4d56-9cb0-13cfaecc219f___RS_Early.B 7326.JPG  \n",
            "  inflating: Potato/Test/Potato___Early_blight/36548ca6-33b3-4a74-9b2a-52eba7aee9a3___RS_Early.B 9205.JPG  \n",
            "  inflating: Potato/Test/Potato___Early_blight/3682433d-fb0a-495b-a6e8-d753542b042b___RS_Early.B 8189.JPG  \n",
            "  inflating: Potato/Test/Potato___Early_blight/37471260-d7b4-4ccd-901e-974332ef2eb9___RS_Early.B 7967.JPG  \n",
            "  inflating: Potato/Test/Potato___Early_blight/37957a08-5b06-49f7-9973-29f167dd95b8___RS_Early.B 8758.JPG  \n",
            "  inflating: Potato/Test/Potato___Early_blight/38757e70-6278-4961-b1f3-19fccbb085f5___RS_Early.B 6968.JPG  \n",
            "  inflating: Potato/Test/Potato___Early_blight/38807f81-ce49-4978-916a-a6cd2a95bfb0___RS_Early.B 8397.JPG  \n",
            "  inflating: Potato/Test/Potato___Early_blight/419611a4-5597-43d6-ae92-c3c09bc549d7___RS_Early.B 7182.JPG  \n",
            "  inflating: Potato/Test/Potato___Early_blight/42148e3c-34d6-484e-a4b8-8dc037667a4c___RS_Early.B 8235.JPG  \n",
            "  inflating: Potato/Test/Potato___Early_blight/4217355a-471b-4045-9199-55003f2c9b99___RS_Early.B 7469.JPG  \n",
            "  inflating: Potato/Test/Potato___Early_blight/438176fc-2e4a-45d1-9014-3eb2391c5832___RS_Early.B 8147.JPG  \n",
            "  inflating: Potato/Test/Potato___Early_blight/454203b9-0376-4db3-92ed-047545daa7c6___RS_Early.B 6953.JPG  \n",
            "  inflating: Potato/Test/Potato___Early_blight/467991cb-4b55-4b00-9b18-7ff5efdd7adf___RS_Early.B 7290.JPG  \n",
            "  inflating: Potato/Test/Potato___Early_blight/46819687-0705-4628-8748-9cb356587f30___RS_Early.B 8421.JPG  \n",
            "  inflating: Potato/Test/Potato___Early_blight/4857420e-b28e-4bb5-aa03-5e333cf27af0___RS_Early.B 6847.JPG  \n",
            "  inflating: Potato/Test/Potato___Early_blight/510146c8-7368-4acc-847d-523f55b3d424___RS_Early.B 6678.JPG  \n",
            "  inflating: Potato/Test/Potato___Early_blight/520475a1-5acf-433f-a306-cff6ec1a99ef___RS_Early.B 9159.JPG  \n",
            "  inflating: Potato/Test/Potato___Early_blight/524142aa-78fb-4fab-895c-ddb993d07479___RS_Early.B 7435.JPG  \n",
            "  inflating: Potato/Test/Potato___Early_blight/53257270-67b3-4408-aaec-abbd9f5f19f0___RS_Early.B 7212.JPG  \n",
            "  inflating: Potato/Test/Potato___Early_blight/54260e42-8e3f-44c2-b252-c784391ce639___RS_Early.B 7508.JPG  \n",
            "  inflating: Potato/Test/Potato___Early_blight/569206bf-423e-4508-b1b4-2ca6821aceac___RS_Early.B 7554.JPG  \n",
            "  inflating: Potato/Test/Potato___Early_blight/5755142f-0cba-45b7-a563-beb1bf6db374___RS_Early.B 8321.JPG  \n",
            "  inflating: Potato/Test/Potato___Early_blight/585062b6-d5a4-4677-8b7f-773257399423___RS_Early.B 8558.JPG  \n",
            "  inflating: Potato/Test/Potato___Early_blight/59676e33-8884-4359-83d9-e07df07f31a1___RS_Early.B 7041.JPG  \n",
            "  inflating: Potato/Test/Potato___Early_blight/60096f66-1bf2-4d8d-8137-ac2358ab71d0___RS_Early.B 6978.JPG  \n",
            "  inflating: Potato/Test/Potato___Early_blight/60418916-8278-448a-af45-21ee8ef60a95___RS_Early.B 7957.JPG  \n",
            "  inflating: Potato/Test/Potato___Early_blight/62490062-4c67-4caf-bec5-df1342ec2987___RS_Early.B 7946.JPG  \n",
            "  inflating: Potato/Test/Potato___Early_blight/6319585f-ed2f-4657-ae79-a23db65d0fce___RS_Early.B 7033.JPG  \n",
            "  inflating: Potato/Test/Potato___Early_blight/655010d0-0bf7-4cba-8ebe-591a8bc5f552___RS_Early.B 7668.JPG  \n",
            "  inflating: Potato/Test/Potato___Early_blight/66642302-1334-4c23-8613-f98387352360___RS_Early.B 8766.JPG  \n",
            "  inflating: Potato/Test/Potato___Early_blight/66785df0-db24-4c3d-821b-8ab94e7e6a06___RS_Early.B 7086.JPG  \n",
            "  inflating: Potato/Test/Potato___Early_blight/67468907-b28a-4740-a9f4-ce69b93878c9___RS_Early.B 7142.JPG  \n",
            "  inflating: Potato/Test/Potato___Early_blight/677662b1-2c4e-4d93-b4fd-950815b9d2c8___RS_Early.B 8813.JPG  \n",
            "  inflating: Potato/Test/Potato___Early_blight/68662e76-300e-49f6-8467-27dd63aa18ed___RS_Early.B 7163.JPG  \n",
            "  inflating: Potato/Test/Potato___Early_blight/686938d8-5fcc-4482-850f-0e8720206046___RS_Early.B 7769.JPG  \n",
            "  inflating: Potato/Test/Potato___Early_blight/691161ad-7897-4654-a7bc-14d8b5839621___RS_Early.B 6976.JPG  \n",
            "  inflating: Potato/Test/Potato___Early_blight/7227b3db-c212-4370-8b42-443eea1577aa___RS_Early.B 7306.JPG  \n",
            "  inflating: Potato/Test/Potato___Early_blight/7248171d-98a5-4bf0-9a8d-5c5a8820eba9___RS_Early.B 6680.JPG  \n",
            "  inflating: Potato/Test/Potato___Early_blight/74316ef6-7cce-4ed9-8fbf-9bf42d14657c___RS_Early.B 7352.JPG  \n",
            "  inflating: Potato/Test/Potato___Early_blight/7456db33-766c-4a68-b924-ddf69d579981___RS_Early.B 6723.JPG  \n",
            "  inflating: Potato/Test/Potato___Early_blight/7486e823-64f7-4e43-ab51-26261b077fc2___RS_Early.B 6785.JPG  \n",
            "  inflating: Potato/Test/Potato___Early_blight/7584a5b8-b701-4255-9dde-a60b6442cc37___RS_Early.B 9154.JPG  \n",
            "  inflating: Potato/Test/Potato___Early_blight/77725a5a-c0b8-4b7c-bc42-ac99f51428c1___RS_Early.B 7401.JPG  \n",
            "  inflating: Potato/Test/Potato___Early_blight/7795f733-eeb0-4353-bdb8-b2f4d8d622d4___RS_Early.B 6960.JPG  \n",
            "  inflating: Potato/Test/Potato___Early_blight/78071f69-3d02-4576-bd46-28732dd528aa___RS_Early.B 9228.JPG  \n",
            "  inflating: Potato/Test/Potato___Early_blight/78313ae7-3589-4d23-a5b6-0457e500bd1a___RS_Early.B 6768.JPG  \n",
            "  inflating: Potato/Test/Potato___Early_blight/7855ccc3-28ac-4269-a8ce-618df8a27573___RS_Early.B 7834.JPG  \n",
            "  inflating: Potato/Test/Potato___Early_blight/8002c1e4-0066-4764-9ed5-52d8334cd5c6___RS_Early.B 7855.JPG  \n",
            "  inflating: Potato/Test/Potato___Early_blight/8081f3a1-d992-43bf-afa4-402ed06a83b1___RS_Early.B 6860.JPG  \n",
            "  inflating: Potato/Test/Potato___Early_blight/82048f32-5a2c-491c-8771-109a1024fd5a___RS_Early.B 8199.JPG  \n",
            "  inflating: Potato/Test/Potato___Early_blight/8435fd63-0136-44f9-8dd4-6ca27bcddd97___RS_Early.B 7017.JPG  \n",
            "  inflating: Potato/Test/Potato___Early_blight/84546db4-ea7c-4357-bf3d-6afcae9a05bf___RS_Early.B 7637.JPG  \n",
            "  inflating: Potato/Test/Potato___Early_blight/848336c4-eaad-47e7-8458-5e80d5520d05___RS_Early.B 7729.JPG  \n",
            "  inflating: Potato/Test/Potato___Early_blight/8493b49f-1b73-4d5c-b6f9-ae9a41091643___RS_Early.B 6720.JPG  \n",
            "  inflating: Potato/Test/Potato___Early_blight/85626b40-beca-4bc0-90ed-fc6090c6b18e___RS_Early.B 8598.JPG  \n",
            "  inflating: Potato/Test/Potato___Early_blight/8636092c-9357-4b4c-9d2d-c45c3dcf9253___RS_Early.B 7981.JPG  \n",
            "  inflating: Potato/Test/Potato___Early_blight/8784362f-5fc6-4ad9-b11d-d06b272cefb5___RS_Early.B 6907.JPG  \n",
            "  inflating: Potato/Test/Potato___Early_blight/887347a3-ee1c-4141-a423-ffe050dd246e___RS_Early.B 7851.JPG  \n",
            "  inflating: Potato/Test/Potato___Early_blight/89273b26-09d5-4bf7-a6a5-22c47a613b93___RS_Early.B 7383.JPG  \n",
            "  inflating: Potato/Test/Potato___Early_blight/8994b76b-6e1e-42d3-b07c-99abca3fa35b___RS_Early.B 7762.JPG  \n",
            "  inflating: Potato/Test/Potato___Early_blight/900514b4-8768-4370-bc53-998e390644db___RS_Early.B 7788.JPG  \n",
            "  inflating: Potato/Test/Potato___Early_blight/904770c5-2c05-43a1-a4d7-bccb5eafe1b7___RS_Early.B 7129.JPG  \n",
            "  inflating: Potato/Test/Potato___Early_blight/906218cf-65e8-4713-841f-01707a9dd20c___RS_Early.B 7270.JPG  \n",
            "  inflating: Potato/Test/Potato___Early_blight/9125d133-5b86-4363-8fbe-79c813ac8795___RS_Early.B 6748.JPG  \n",
            "  inflating: Potato/Test/Potato___Early_blight/9141a8b4-6144-446d-b71d-925bcd432840___RS_Early.B 8648.JPG  \n",
            "  inflating: Potato/Test/Potato___Early_blight/92757a8e-b68a-45b3-9d70-0281c8ea90ca___RS_Early.B 7199.JPG  \n",
            "  inflating: Potato/Test/Potato___Early_blight/93701beb-c734-41ea-a5ef-9e5ca4728dfc___RS_Early.B 6885.JPG  \n",
            "  inflating: Potato/Test/Potato___Early_blight/9541d815-f209-4f13-892e-ca4e97ae5d8e___RS_Early.B 8981.JPG  \n",
            "  inflating: Potato/Test/Potato___Early_blight/9846eead-9fc1-4c35-8b63-1adfbdf0b118___RS_Early.B 8325.JPG  \n",
            "  inflating: Potato/Test/Potato___Late_blight/00695906-210d-4a9d-822e-986a17384115___RS_LB 4026.JPG  \n",
            "  inflating: Potato/Test/Potato___Late_blight/02212653-e92b-49aa-96b7-9497af51e502___RS_LB 3151.JPG  \n",
            "  inflating: Potato/Test/Potato___Late_blight/031672c9-bf0a-46bf-8b52-d7cdc067612e___RS_LB 5019.JPG  \n",
            "  inflating: Potato/Test/Potato___Late_blight/0441138d-5f9f-4ede-ab9a-49edabc605b3___RS_LB 4235.JPG  \n",
            "  inflating: Potato/Test/Potato___Late_blight/0450570b-44d1-4290-956d-5d970164a2e2___RS_LB 5160.JPG  \n",
            "  inflating: Potato/Test/Potato___Late_blight/051089cf-e083-4fdb-9256-aac12b8a55d2___RS_LB 4078.JPG  \n",
            "  inflating: Potato/Test/Potato___Late_blight/05817623-2c4e-4517-88a1-fe81b9a73742___RS_LB 3920.JPG  \n",
            "  inflating: Potato/Test/Potato___Late_blight/09287918-9f73-4707-823f-f4331f5114a3___RS_LB 2604.JPG  \n",
            "  inflating: Potato/Test/Potato___Late_blight/127521ec-3cc5-4f98-ac73-ad561ec29e73___RS_LB 3219.JPG  \n",
            "  inflating: Potato/Test/Potato___Late_blight/145216a1-aab7-4f40-851d-a56c436ad0e3___RS_LB 2715.JPG  \n",
            "  inflating: Potato/Test/Potato___Late_blight/14691d2b-446b-4f0e-921b-60d3b76cbf03___RS_LB 2518.JPG  \n",
            "  inflating: Potato/Test/Potato___Late_blight/1531198a-c611-47ee-af7d-7b124b863870___RS_LB 4793.JPG  \n",
            "  inflating: Potato/Test/Potato___Late_blight/1650365d-437c-4d36-b110-113a88c1090a___RS_LB 5459.JPG  \n",
            "  inflating: Potato/Test/Potato___Late_blight/17515ff9-075f-45a2-b8e6-1b8ba25c293d___RS_LB 4980.JPG  \n",
            "  inflating: Potato/Test/Potato___Late_blight/19323229-6fdc-4231-bd3e-a46ddcff2111___RS_LB 3196.JPG  \n",
            "  inflating: Potato/Test/Potato___Late_blight/19393f68-e96c-4c93-b4d1-39e1c54e53b1___RS_LB 4051.JPG  \n",
            "  inflating: Potato/Test/Potato___Late_blight/201186ce-cec5-47ef-9f88-bd8c4abab2c8___RS_LB 2813.JPG  \n",
            "  inflating: Potato/Test/Potato___Late_blight/20880dc9-069c-40e5-81be-6d6e33f9519c___RS_LB 4098.JPG  \n",
            "  inflating: Potato/Test/Potato___Late_blight/2122118e-02ee-452b-864c-adf36ed5ce9c___RS_LB 2890.JPG  \n",
            "  inflating: Potato/Test/Potato___Late_blight/24482fe2-5139-4f73-909e-9ea4a3d8bf5d___RS_LB 4733.JPG  \n",
            "  inflating: Potato/Test/Potato___Late_blight/2565077d-44d3-4213-82c2-bf5ae9a64368___RS_LB 3295.JPG  \n",
            "  inflating: Potato/Test/Potato___Late_blight/25978f86-dca7-4052-bf6b-7d14ce0438ad___RS_LB 5016.JPG  \n",
            "  inflating: Potato/Test/Potato___Late_blight/2846161c-9ac0-4ef3-b563-aee344dac80d___RS_LB 4851.JPG  \n",
            "  inflating: Potato/Test/Potato___Late_blight/30777af4-cbb4-44bf-946b-f1c5d17704ee___RS_LB 4822.JPG  \n",
            "  inflating: Potato/Test/Potato___Late_blight/30920583-57a6-4cc2-81d6-84879ec3af46___RS_LB 4930.JPG  \n",
            "  inflating: Potato/Test/Potato___Late_blight/319335dc-6a48-4fe4-932b-326f1455f3cd___RS_LB 4703.JPG  \n",
            "  inflating: Potato/Test/Potato___Late_blight/326919e6-16b9-442b-ada3-e4c37b3ab8ef___RS_LB 3187.JPG  \n",
            "  inflating: Potato/Test/Potato___Late_blight/33551627-5824-42b9-9547-4df44590fee1___RS_LB 4848.JPG  \n",
            "  inflating: Potato/Test/Potato___Late_blight/33938ff2-ee2c-4571-96dd-6229a0cb4e0c___RS_LB 5184.JPG  \n",
            "  inflating: Potato/Test/Potato___Late_blight/350662fe-0ebf-4e6b-9ff9-6ceaf9d22067___RS_LB 3877.JPG  \n",
            "  inflating: Potato/Test/Potato___Late_blight/351386f8-c501-45f6-ab0d-e9c1d1584204___RS_LB 5195.JPG  \n",
            "  inflating: Potato/Test/Potato___Late_blight/35621849-08fd-442a-a94e-139b2657106e___RS_LB 4055.JPG  \n",
            "  inflating: Potato/Test/Potato___Late_blight/36555aa6-0ca3-412c-be9f-50f12500861f___RS_LB 3907.JPG  \n",
            "  inflating: Potato/Test/Potato___Late_blight/37075adc-dd51-4a5b-8a6c-0649cb98516b___RS_LB 2678.JPG  \n",
            "  inflating: Potato/Test/Potato___Late_blight/40285dce-33de-4a59-82f4-2eb1d6d38469___RS_LB 4929.JPG  \n",
            "  inflating: Potato/Test/Potato___Late_blight/4043044d-1e8d-4861-9152-99660fdffa9e___RS_LB 4438.JPG  \n",
            "  inflating: Potato/Test/Potato___Late_blight/42451eb3-fb45-4b9a-8dd3-c9b9aa3a29c8___RS_LB 4340.JPG  \n",
            "  inflating: Potato/Test/Potato___Late_blight/43396f0d-f05b-4dce-a209-9edcbd62d39c___RS_LB 4407.JPG  \n",
            "  inflating: Potato/Test/Potato___Late_blight/437640c6-1680-4d1b-aa0b-c1dd52aa13a5___RS_LB 4926.JPG  \n",
            "  inflating: Potato/Test/Potato___Late_blight/44112cb9-7423-4983-bb9a-cb32e3ea9ac3___RS_LB 2793.JPG  \n",
            "  inflating: Potato/Test/Potato___Late_blight/44722935-fb60-4ecf-8503-f8258aa4e3e7___RS_LB 3225.JPG  \n",
            "  inflating: Potato/Test/Potato___Late_blight/465165a0-33c0-4593-8324-03513e71079d___RS_LB 4445.JPG  \n",
            "  inflating: Potato/Test/Potato___Late_blight/465669d7-b75c-4aab-8ccc-af3566baf2e3___RS_LB 4985.JPG  \n",
            "  inflating: Potato/Test/Potato___Late_blight/468629f7-6ca2-4823-9a39-d42b4d92c4bb___RS_LB 5312.JPG  \n",
            "  inflating: Potato/Test/Potato___Late_blight/489107b2-13f2-401b-b931-39ca7fd4be2b___RS_LB 2665.JPG  \n",
            "  inflating: Potato/Test/Potato___Late_blight/49835c13-105d-4afb-95dd-b4ee15f3d287___RS_LB 4099.JPG  \n",
            "  inflating: Potato/Test/Potato___Late_blight/516099d5-5399-4d6e-916d-014a84a02a18___RS_LB 4118.JPG  \n",
            "  inflating: Potato/Test/Potato___Late_blight/523537e5-5795-40f6-ad49-9394aeca3f2e___RS_LB 3848.JPG  \n",
            "  inflating: Potato/Test/Potato___Late_blight/5318452f-222d-4abc-b39c-55fa6c26a82a___RS_LB 3063.JPG  \n",
            "  inflating: Potato/Test/Potato___Late_blight/53367bb0-3f38-4c90-a71d-05592341e4aa___RS_LB 4149.JPG  \n",
            "  inflating: Potato/Test/Potato___Late_blight/541591d3-3560-4540-ac2c-9749936e80ae___RS_LB 2553.JPG  \n",
            "  inflating: Potato/Test/Potato___Late_blight/5576794b-902c-4df2-ae8d-da30faa37d5d___RS_LB 4443.JPG  \n",
            "  inflating: Potato/Test/Potato___Late_blight/55987838-6174-4182-be76-78ddd50890fb___RS_LB 4714.JPG  \n",
            "  inflating: Potato/Test/Potato___Late_blight/5674826f-aeb6-4142-809e-ea9e4fd391c3___RS_LB 2940.JPG  \n",
            "  inflating: Potato/Test/Potato___Late_blight/57462a7c-a8f4-4b99-b312-a8b6e6a0e6f0___RS_LB 5330.JPG  \n",
            "  inflating: Potato/Test/Potato___Late_blight/57980690-2488-4715-ae89-84e84d17ee10___RS_LB 3978.JPG  \n",
            "  inflating: Potato/Test/Potato___Late_blight/58334b81-9aab-4b5c-b655-f7078a81135b___RS_LB 3846.JPG  \n",
            "  inflating: Potato/Test/Potato___Late_blight/58475c1a-a4c2-43bd-b361-60523b5c62d2___RS_LB 3912.JPG  \n",
            "  inflating: Potato/Test/Potato___Late_blight/600100de-8374-4ddd-a816-318235e27948___RS_LB 2895.JPG  \n",
            "  inflating: Potato/Test/Potato___Late_blight/60463ced-752c-4af3-9082-1de380c572e4___RS_LB 2580.JPG  \n",
            "  inflating: Potato/Test/Potato___Late_blight/629303c0-a89e-4f67-9ac8-aa769cf3a163___RS_LB 3945.JPG  \n",
            "  inflating: Potato/Test/Potato___Late_blight/63490f84-88b0-4105-bb76-23990e98c692___RS_LB 3041.JPG  \n",
            "  inflating: Potato/Test/Potato___Late_blight/6522615a-cbe1-4770-a137-25a2c081e1d9___RS_LB 2917.JPG  \n",
            "  inflating: Potato/Test/Potato___Late_blight/66473aff-3438-4a8c-8c05-5fed8a4255ae___RS_LB 4473.JPG  \n",
            "  inflating: Potato/Test/Potato___Late_blight/668455c6-f7cf-4dc3-a4a8-858e7d4b55c9___RS_LB 3878.JPG  \n",
            "  inflating: Potato/Test/Potato___Late_blight/67001c81-d182-4bc6-b9b8-f25ddb0a2db4___RS_LB 5231.JPG  \n",
            "  inflating: Potato/Test/Potato___Late_blight/68882ae5-79b6-4681-9e06-af8ae5999779___RS_LB 3952.JPG  \n",
            "  inflating: Potato/Test/Potato___Late_blight/7153262e-7692-441e-9677-056a349d62b8___RS_LB 4813.JPG  \n",
            "  inflating: Potato/Test/Potato___Late_blight/716325d9-fca6-46b4-8f5a-f6729c211200___RS_LB 3958.JPG  \n",
            "  inflating: Potato/Test/Potato___Late_blight/72485a02-60b9-424a-ba1f-de8078b07176___RS_LB 3148.JPG  \n",
            "  inflating: Potato/Test/Potato___Late_blight/73366261-64f3-4219-a43a-97cda85474a9___RS_LB 3332.JPG  \n",
            "  inflating: Potato/Test/Potato___Late_blight/74277267-6a9f-44d0-95fe-7f52f89630a0___RS_LB 5074.JPG  \n",
            "  inflating: Potato/Test/Potato___Late_blight/764311f2-6fd3-424d-aabc-9ad013a41997___RS_LB 3136.JPG  \n",
            "  inflating: Potato/Test/Potato___Late_blight/77164347-18bd-4466-aca9-0f61e6a36468___RS_LB 4155.JPG  \n",
            "  inflating: Potato/Test/Potato___Late_blight/7774658c-0dcb-4b7c-a1fa-573de03373dd___RS_LB 3135.JPG  \n",
            "  inflating: Potato/Test/Potato___Late_blight/815516f8-6fb1-4f92-bdff-63349e5ee83f___RS_LB 3237.JPG  \n",
            "  inflating: Potato/Test/Potato___Late_blight/82967117-2bcc-4949-b060-738e7b66b755___RS_LB 4744.JPG  \n",
            "  inflating: Potato/Test/Potato___Late_blight/84559c6d-0589-4d8d-8fc3-a818b067f85c___RS_LB 4608.JPG  \n",
            "  inflating: Potato/Test/Potato___Late_blight/8829e413-5a7a-4680-b873-e71dfa9dbfe4___RS_LB 3974.JPG  \n",
            "  inflating: Potato/Test/Potato___Late_blight/9001b18c-b659-4c56-9dfb-0d0bf64a7b4a___RS_LB 4987.JPG  \n",
            "  inflating: Potato/Test/Potato___Late_blight/9009c86e-1205-4694-b0bb-ef7cf78dd104___RS_LB 3995.JPG  \n",
            "  inflating: Potato/Test/Potato___Late_blight/90302aa5-644e-4857-b60f-92f6aed488fa___RS_LB 3246.JPG  \n",
            "  inflating: Potato/Test/Potato___Late_blight/9032d569-294e-4b8b-a70f-ecff949e43e2___RS_LB 3998.JPG  \n",
            "  inflating: Potato/Test/Potato___Late_blight/90596f7b-1efa-4595-8d57-bcbd4c48253f___RS_LB 4753.JPG  \n",
            "  inflating: Potato/Test/Potato___Late_blight/908546cd-34b8-4502-ab09-0c5bb7c1d87b___RS_LB 4912.JPG  \n",
            "  inflating: Potato/Test/Potato___Late_blight/910139a3-cd42-4adc-a24b-3602fd4de7d3___RS_LB 4415.JPG  \n",
            "  inflating: Potato/Test/Potato___Late_blight/9157168d-8377-4a75-8dc2-d7c951efeb55___RS_LB 4978.JPG  \n",
            "  inflating: Potato/Test/Potato___Late_blight/919150bd-372b-44e0-a70e-a13e60dccbce___RS_LB 3263.JPG  \n",
            "  inflating: Potato/Test/Potato___Late_blight/9254f86d-5d83-4217-a7f5-84d08e1b93ee___RS_LB 4037.JPG  \n",
            "  inflating: Potato/Test/Potato___Late_blight/93935af4-3aae-4dd6-90d9-fb28e439faf0___RS_LB 3299.JPG  \n",
            "  inflating: Potato/Test/Potato___Late_blight/9475f5bf-607b-4091-8a6d-8f09921478a7___RS_LB 5191.JPG  \n",
            "  inflating: Potato/Test/Potato___Late_blight/9570095c-02e9-497b-bec1-4e526f3462e5___RS_LB 2815.JPG  \n",
            "  inflating: Potato/Test/Potato___Late_blight/95816fab-df6d-4730-8f52-4b64aac47e3d___RS_LB 3056.JPG  \n",
            "  inflating: Potato/Test/Potato___Late_blight/9631fd8f-244c-4047-98e4-aecc907624c1___RS_LB 4573.JPG  \n",
            "  inflating: Potato/Test/Potato___Late_blight/96879d98-11ca-40c7-9708-9ca8f235f407___RS_LB 2739.JPG  \n",
            "  inflating: Potato/Test/Potato___Late_blight/974344ba-438f-4190-b71c-875924190fdc___RS_LB 3866.JPG  \n",
            "  inflating: Potato/Test/Potato___Late_blight/990428a4-bfa8-450d-a755-fade1df0a214___RS_LB 4082.JPG  \n",
            "  inflating: Potato/Test/Potato___Late_blight/9933b288-b5fe-4cbf-a9fa-58ef769b6f7c___RS_LB 2540.JPG  \n",
            "  inflating: Potato/Test/Potato___Late_blight/9934bde8-1c89-4ba6-95e6-015a69540873___RS_LB 4146.JPG  \n",
            "  inflating: Potato/Test/Potato___Late_blight/9996efa6-219d-4f07-aa12-dc8ca40609b9___RS_LB 2840.JPG  \n",
            "  inflating: Potato/Test/Potato___healthy/Potato_healthy-26-_0_4635.jpg  \n",
            "  inflating: Potato/Test/Potato___healthy/Potato_healthy-26-_0_6502.jpg  \n",
            "  inflating: Potato/Test/Potato___healthy/Potato_healthy-26-_0_8117.jpg  \n",
            "  inflating: Potato/Test/Potato___healthy/Potato_healthy-26-_0_9285.jpg  \n",
            "  inflating: Potato/Test/Potato___healthy/Potato_healthy-27-_0_1057.jpg  \n",
            "  inflating: Potato/Test/Potato___healthy/Potato_healthy-27-_0_202.jpg  \n",
            "  inflating: Potato/Test/Potato___healthy/Potato_healthy-27-_0_3311.jpg  \n",
            "  inflating: Potato/Test/Potato___healthy/Potato_healthy-27-_0_9917.jpg  \n",
            "  inflating: Potato/Test/Potato___healthy/Potato_healthy-28-_0_5194.jpg  \n",
            "  inflating: Potato/Test/Potato___healthy/Potato_healthy-28-_0_8369.jpg  \n",
            "  inflating: Potato/Test/Potato___healthy/Potato_healthy-28-_0_8545.jpg  \n",
            "  inflating: Potato/Test/Potato___healthy/Potato_healthy-28-_0_9271.jpg  \n",
            "  inflating: Potato/Test/Potato___healthy/Potato_healthy-29-_0_522.jpg  \n",
            "  inflating: Potato/Test/Potato___healthy/Potato_healthy-29-_0_5436.jpg  \n",
            "  inflating: Potato/Test/Potato___healthy/Potato_healthy-29-_0_90.jpg  \n",
            "  inflating: Potato/Test/Potato___healthy/Potato_healthy-29-_0_9318.jpg  \n",
            "  inflating: Potato/Test/Potato___healthy/Potato_healthy-30-_0_3335.jpg  \n",
            "  inflating: Potato/Test/Potato___healthy/Potato_healthy-30-_0_5073.jpg  \n",
            "  inflating: Potato/Test/Potato___healthy/Potato_healthy-30-_0_563.jpg  \n",
            "  inflating: Potato/Test/Potato___healthy/Potato_healthy-30-_0_7912.jpg  \n",
            "  inflating: Potato/Test/Potato___healthy/Potato_healthy-31-_0_2766.jpg  \n",
            "  inflating: Potato/Test/Potato___healthy/Potato_healthy-31-_0_8340.jpg  \n",
            "  inflating: Potato/Test/Potato___healthy/Potato_healthy-31-_0_839.jpg  \n",
            "  inflating: Potato/Test/Potato___healthy/Potato_healthy-31-_0_9178.jpg  \n",
            "  inflating: Potato/Test/Potato___healthy/Potato_healthy-32-_0_2382.jpg  \n",
            "  inflating: Potato/Test/Potato___healthy/Potato_healthy-32-_0_2740.jpg  \n",
            "  inflating: Potato/Test/Potato___healthy/Potato_healthy-32-_0_4295.jpg  \n",
            "  inflating: Potato/Test/Potato___healthy/Potato_healthy-32-_0_7410.jpg  \n",
            "  inflating: Potato/Test/Potato___healthy/Potato_healthy-33-_0_2978.jpg  \n",
            "  inflating: Potato/Test/Potato___healthy/Potato_healthy-33-_0_4762.jpg  \n",
            "  inflating: Potato/Test/Potato___healthy/Potato_healthy-33-_0_8005.jpg  \n",
            "  inflating: Potato/Test/Potato___healthy/Potato_healthy-33-_0_9870.jpg  \n",
            "  inflating: Potato/Test/Potato___healthy/Potato_healthy-34-_0_3420.jpg  \n",
            "  inflating: Potato/Test/Potato___healthy/Potato_healthy-34-_0_483.jpg  \n",
            "  inflating: Potato/Test/Potato___healthy/Potato_healthy-34-_0_5397.jpg  \n",
            "  inflating: Potato/Test/Potato___healthy/Potato_healthy-34-_0_8155.jpg  \n",
            "  inflating: Potato/Test/Potato___healthy/Potato_healthy-35-_0_3642.jpg  \n",
            "  inflating: Potato/Test/Potato___healthy/Potato_healthy-35-_0_3861.jpg  \n",
            "  inflating: Potato/Test/Potato___healthy/Potato_healthy-35-_0_8200.jpg  \n",
            "  inflating: Potato/Test/Potato___healthy/Potato_healthy-35-_0_892.jpg  \n",
            "  inflating: Potato/Test/Potato___healthy/Potato_healthy-36-_0_4796.jpg  \n",
            "  inflating: Potato/Test/Potato___healthy/Potato_healthy-36-_0_7671.jpg  \n",
            "  inflating: Potato/Test/Potato___healthy/Potato_healthy-36-_0_8046.jpg  \n",
            "  inflating: Potato/Test/Potato___healthy/Potato_healthy-36-_0_9453.jpg  \n",
            "  inflating: Potato/Test/Potato___healthy/Potato_healthy-37-_0_1717.jpg  \n",
            "  inflating: Potato/Test/Potato___healthy/Potato_healthy-37-_0_1925.jpg  \n",
            "  inflating: Potato/Test/Potato___healthy/Potato_healthy-37-_0_6540.jpg  \n",
            "  inflating: Potato/Test/Potato___healthy/Potato_healthy-37-_0_7226.jpg  \n",
            "  inflating: Potato/Test/Potato___healthy/Potato_healthy-38-_0_5133.jpg  \n",
            "  inflating: Potato/Test/Potato___healthy/Potato_healthy-38-_0_5432.jpg  \n",
            "  inflating: Potato/Test/Potato___healthy/Potato_healthy-38-_0_5655.jpg  \n",
            "  inflating: Potato/Test/Potato___healthy/Potato_healthy-38-_0_739.jpg  \n",
            "  inflating: Potato/Test/Potato___healthy/Potato_healthy-39-_0_1499.jpg  \n",
            "  inflating: Potato/Test/Potato___healthy/Potato_healthy-39-_0_1922.jpg  \n",
            "  inflating: Potato/Test/Potato___healthy/Potato_healthy-39-_0_6873.jpg  \n",
            "  inflating: Potato/Test/Potato___healthy/Potato_healthy-39-_0_7424.jpg  \n",
            "  inflating: Potato/Test/Potato___healthy/Potato_healthy-40-_0_1629.jpg  \n",
            "  inflating: Potato/Test/Potato___healthy/Potato_healthy-40-_0_2103.jpg  \n",
            "  inflating: Potato/Test/Potato___healthy/Potato_healthy-40-_0_5427.jpg  \n",
            "  inflating: Potato/Test/Potato___healthy/Potato_healthy-40-_0_7698.jpg  \n",
            "  inflating: Potato/Test/Potato___healthy/Potato_healthy-41-_0_2629.jpg  \n",
            "  inflating: Potato/Test/Potato___healthy/Potato_healthy-41-_0_697.jpg  \n",
            "  inflating: Potato/Test/Potato___healthy/Potato_healthy-41-_0_7424.jpg  \n",
            "  inflating: Potato/Test/Potato___healthy/Potato_healthy-41-_0_9291.jpg  \n",
            "  inflating: Potato/Test/Potato___healthy/Potato_healthy-42-_0_2538.jpg  \n",
            "  inflating: Potato/Test/Potato___healthy/Potato_healthy-42-_0_2949.jpg  \n",
            "  inflating: Potato/Test/Potato___healthy/Potato_healthy-42-_0_446.jpg  \n",
            "  inflating: Potato/Test/Potato___healthy/Potato_healthy-42-_0_5065.jpg  \n",
            "  inflating: Potato/Test/Potato___healthy/Potato_healthy-43-_0_3128.jpg  \n",
            "  inflating: Potato/Test/Potato___healthy/Potato_healthy-43-_0_5909.jpg  \n",
            "  inflating: Potato/Test/Potato___healthy/Potato_healthy-43-_0_7909.jpg  \n",
            "  inflating: Potato/Test/Potato___healthy/Potato_healthy-43-_0_8883.jpg  \n",
            "  inflating: Potato/Test/Potato___healthy/Potato_healthy-44-_0_2639.jpg  \n",
            "  inflating: Potato/Test/Potato___healthy/Potato_healthy-44-_0_6109.jpg  \n",
            "  inflating: Potato/Test/Potato___healthy/Potato_healthy-44-_0_9252.jpg  \n",
            "  inflating: Potato/Test/Potato___healthy/Potato_healthy-44-_0_9323.jpg  \n",
            "  inflating: Potato/Test/Potato___healthy/Potato_healthy-45-_0_561.jpg  \n",
            "  inflating: Potato/Test/Potato___healthy/Potato_healthy-45-_0_6777.jpg  \n",
            "  inflating: Potato/Test/Potato___healthy/Potato_healthy-45-_0_7254.jpg  \n",
            "  inflating: Potato/Test/Potato___healthy/Potato_healthy-45-_0_9708.jpg  \n",
            "  inflating: Potato/Test/Potato___healthy/Potato_healthy-46-_0_1786.jpg  \n",
            "  inflating: Potato/Test/Potato___healthy/Potato_healthy-46-_0_6185.jpg  \n",
            "  inflating: Potato/Test/Potato___healthy/Potato_healthy-46-_0_8389.jpg  \n",
            "  inflating: Potato/Test/Potato___healthy/Potato_healthy-46-_0_9804.jpg  \n",
            "  inflating: Potato/Test/Potato___healthy/Potato_healthy-47-_0_1909.jpg  \n",
            "  inflating: Potato/Test/Potato___healthy/Potato_healthy-47-_0_2245.jpg  \n",
            "  inflating: Potato/Test/Potato___healthy/Potato_healthy-47-_0_2947.jpg  \n",
            "  inflating: Potato/Test/Potato___healthy/Potato_healthy-47-_0_610.jpg  \n",
            "  inflating: Potato/Test/Potato___healthy/Potato_healthy-48-_0_2412.jpg  \n",
            "  inflating: Potato/Test/Potato___healthy/Potato_healthy-48-_0_3399.jpg  \n",
            "  inflating: Potato/Test/Potato___healthy/Potato_healthy-48-_0_796.jpg  \n",
            "  inflating: Potato/Test/Potato___healthy/Potato_healthy-48-_0_9953.jpg  \n",
            "  inflating: Potato/Test/Potato___healthy/Potato_healthy-49-_0_2244.jpg  \n",
            "  inflating: Potato/Test/Potato___healthy/Potato_healthy-49-_0_2884.jpg  \n",
            "  inflating: Potato/Test/Potato___healthy/Potato_healthy-49-_0_3413.jpg  \n",
            "  inflating: Potato/Test/Potato___healthy/Potato_healthy-49-_0_8902.jpg  \n",
            "  inflating: Potato/Test/Potato___healthy/Potato_healthy-50-_0_1102.jpg  \n",
            "  inflating: Potato/Test/Potato___healthy/Potato_healthy-50-_0_3134.jpg  \n",
            "  inflating: Potato/Test/Potato___healthy/Potato_healthy-50-_0_9285.jpg  \n",
            "  inflating: Potato/Test/Potato___healthy/Potato_healthy-50-_0_9887.jpg  \n",
            "  inflating: Potato/Train/Potato___Early_blight/b475147c-92bc-419a-b2c3-7d5aabbb79ec___RS_Early.B 7379.JPG  \n",
            "  inflating: Potato/Train/Potato___Early_blight/b6220993-c51f-48fa-bee9-fb5cb89cc0c4___RS_Early.B 7467.JPG  \n",
            "  inflating: Potato/Train/Potato___Early_blight/b7157976-61c2-4366-87c5-e3de23aa7c10___RS_Early.B 7227.JPG  \n",
            "  inflating: Potato/Train/Potato___Early_blight/b7883606-5157-4dc1-b965-fc10f8fe1796___RS_Early.B 7598.JPG  \n",
            "  inflating: Potato/Train/Potato___Early_blight/b817817e-a6b1-4123-88e7-db98b453ce17___RS_Early.B 6880.JPG  \n",
            "  inflating: Potato/Train/Potato___Early_blight/b8578828-0e34-4511-9739-9ef0170774b2___RS_Early.B 7416.JPG  \n",
            "  inflating: Potato/Train/Potato___Early_blight/b8803558-9e0f-404e-80b3-c78d0bc7f6d0___RS_Early.B 7548.JPG  \n",
            "  inflating: Potato/Train/Potato___Early_blight/ba5dfd98-89d6-49d5-b398-beb05cb9d8ad___RS_Early.B 7824.JPG  \n",
            "  inflating: Potato/Train/Potato___Early_blight/ba96aab6-adb5-4021-b6ad-3305f50aec12___RS_Early.B 7317.JPG  \n",
            "  inflating: Potato/Train/Potato___Early_blight/bac19c19-ab8b-466a-a317-56c1f35fb082___RS_Early.B 7141.JPG  \n",
            "  inflating: Potato/Train/Potato___Early_blight/bb07a1b7-b9ad-4016-a013-9ff0e4636d4a___RS_Early.B 7156.JPG  \n",
            "  inflating: Potato/Train/Potato___Early_blight/bb38077f-ee91-4c0b-af46-f90b21b9e9db___RS_Early.B 7121.JPG  \n",
            "  inflating: Potato/Train/Potato___Early_blight/bb3d6df0-683e-4f04-afaf-277a36edad6c___RS_Early.B 9070.JPG  \n",
            "  inflating: Potato/Train/Potato___Early_blight/bb4e9c01-6166-424d-a379-9ef405fdd555___RS_Early.B 6843.JPG  \n",
            "  inflating: Potato/Train/Potato___Early_blight/bb569e8c-4f57-481f-86d9-291ebd67336e___RS_Early.B 7543.JPG  \n",
            "  inflating: Potato/Train/Potato___Early_blight/bc378ba0-533d-42db-a8b2-82decc73f4d5___RS_Early.B 9092.JPG  \n",
            "  inflating: Potato/Train/Potato___Early_blight/bc7552e4-3901-41b8-8bef-727eeca4270e___RS_Early.B 7942.JPG  \n",
            "  inflating: Potato/Train/Potato___Early_blight/bc8a7fa5-1f77-4829-a1ee-0ccbeef289eb___RS_Early.B 7228.JPG  \n",
            "  inflating: Potato/Train/Potato___Early_blight/bcc2199e-a6c6-4e0d-a7a7-f7c4b25f2c04___RS_Early.B 7007.JPG  \n",
            "  inflating: Potato/Train/Potato___Early_blight/bcedd1ec-17b4-495b-b47f-5877ef836f88___RS_Early.B 7248.JPG  \n",
            "  inflating: Potato/Train/Potato___Early_blight/bcf169b0-dea7-49eb-b976-4a2d1f36c574___RS_Early.B 7870.JPG  \n",
            "  inflating: Potato/Train/Potato___Early_blight/bd4c7de8-0616-45d4-a060-54b8329a9462___RS_Early.B 6902.JPG  \n",
            "  inflating: Potato/Train/Potato___Early_blight/bddc2487-ecc6-447e-902f-3560a62e5e83___RS_Early.B 7307.JPG  \n",
            "  inflating: Potato/Train/Potato___Early_blight/be5f03e6-810f-4f22-9e5a-37a66826f7e5___RS_Early.B 6807.JPG  \n",
            "  inflating: Potato/Train/Potato___Early_blight/be89d35f-e382-4b1c-95e8-af88d969d306___RS_Early.B 6758.JPG  \n",
            "  inflating: Potato/Train/Potato___Early_blight/bea108c2-bdf1-484d-807c-fa9431f4dc95___RS_Early.B 7265.JPG  \n",
            "  inflating: Potato/Train/Potato___Early_blight/beb20b26-07f9-4215-8264-dca1283514ac___RS_Early.B 7644.JPG  \n",
            "  inflating: Potato/Train/Potato___Early_blight/bf972aad-9f3f-40c8-9fc7-fdcf57a94c6f___RS_Early.B 7151.JPG  \n",
            "  inflating: Potato/Train/Potato___Early_blight/c03a3f69-00b7-4aa5-a49f-794416af0598___RS_Early.B 8112.JPG  \n",
            "  inflating: Potato/Train/Potato___Early_blight/c09e4b05-b196-4955-abd4-6aed44c40132___RS_Early.B 6823.JPG  \n",
            "  inflating: Potato/Train/Potato___Early_blight/c0d9fcd4-79cb-43e4-82bc-1e48e9e2a572___RS_Early.B 7279.JPG  \n",
            "  inflating: Potato/Train/Potato___Early_blight/c10de41b-4c38-41c4-b278-600071051453___RS_Early.B 8093.JPG  \n",
            "  inflating: Potato/Train/Potato___Early_blight/c10f959b-1f3d-4581-8299-640e87b1b653___RS_Early.B 7949.JPG  \n",
            "  inflating: Potato/Train/Potato___Early_blight/c14e2b11-510b-4967-ac96-ae965972ad50___RS_Early.B 7327.JPG  \n",
            "  inflating: Potato/Train/Potato___Early_blight/c17c36ed-c36f-42d4-812d-3b17158063d3___RS_Early.B 8398.JPG  \n",
            "  inflating: Potato/Train/Potato___Early_blight/c18f83e1-2144-440f-9603-74fe58c66073___RS_Early.B 7844.JPG  \n",
            "  inflating: Potato/Train/Potato___Early_blight/c28107c6-ea57-4044-bb6e-508d6d360cd7___RS_Early.B 7057.JPG  \n",
            "  inflating: Potato/Train/Potato___Early_blight/c2cc82b8-9f74-4e40-9792-c121a89a84c0___RS_Early.B 8524.JPG  \n",
            "  inflating: Potato/Train/Potato___Early_blight/c30ce1e1-5f05-4cb7-a95a-f22d3621c54f___RS_Early.B 6964.JPG  \n",
            "  inflating: Potato/Train/Potato___Early_blight/c3356ff5-91b3-4673-b1d2-d47195b162cd___RS_Early.B 8352.JPG  \n",
            "  inflating: Potato/Train/Potato___Early_blight/c3bf3f15-b1ae-4e36-97a4-f341879db6ae___RS_Early.B 8263.JPG  \n",
            "  inflating: Potato/Train/Potato___Early_blight/c3ce9bae-e62a-4dd9-afa0-f020c48b87cc___RS_Early.B 6704.JPG  \n",
            "  inflating: Potato/Train/Potato___Early_blight/c3d68a2f-0c7a-4060-bfc4-8baf01d3f2fe___RS_Early.B 8010.JPG  \n",
            "  inflating: Potato/Train/Potato___Early_blight/c419a9f0-5fb9-4db6-a229-5c08c36896fe___RS_Early.B 8585.JPG  \n",
            "  inflating: Potato/Train/Potato___Early_blight/c42b5e69-2673-42ef-8e14-a785fea3aad6___RS_Early.B 9107.JPG  \n",
            "  inflating: Potato/Train/Potato___Early_blight/c42e79e4-76c0-406e-9779-6168330f4ca5___RS_Early.B 9008.JPG  \n",
            "  inflating: Potato/Train/Potato___Early_blight/c43a5fd7-c60c-4a04-9835-bd35b551ec44___RS_Early.B 6701.JPG  \n",
            "  inflating: Potato/Train/Potato___Early_blight/c47fa8ac-b2a5-4470-bda6-26dec4000409___RS_Early.B 7395.JPG  \n",
            "  inflating: Potato/Train/Potato___Early_blight/c48693cf-14bb-48ec-96fe-240bd2269866___RS_Early.B 7609.JPG  \n",
            "  inflating: Potato/Train/Potato___Early_blight/c4b16bb7-f358-4010-a04c-10206bad02e9___RS_Early.B 8391.JPG  \n",
            "  inflating: Potato/Train/Potato___Early_blight/c4dd703b-1d4c-4e4c-8064-0e1d743c47ae___RS_Early.B 7050.JPG  \n",
            "  inflating: Potato/Train/Potato___Early_blight/c4ec31de-5466-49c0-b034-84a825327e0b___RS_Early.B 8062.JPG  \n",
            "  inflating: Potato/Train/Potato___Early_blight/c53d85d7-bddb-422b-955c-6842cce9a927___RS_Early.B 7253.JPG  \n",
            "  inflating: Potato/Train/Potato___Early_blight/c53efbea-fddd-481d-aec5-14fd3c3e1723___RS_Early.B 7796.JPG  \n",
            "  inflating: Potato/Train/Potato___Early_blight/c5464947-d6f8-4d5e-9cad-009db19adf67___RS_Early.B 7181.JPG  \n",
            "  inflating: Potato/Train/Potato___Early_blight/c59f2dde-4805-4f63-b47a-79fe9cd9364b___RS_Early.B 7510.JPG  \n",
            "  inflating: Potato/Train/Potato___Early_blight/c5a12e34-99ea-443e-a67e-3f2651508773___RS_Early.B 7647.JPG  \n",
            "  inflating: Potato/Train/Potato___Early_blight/c5b121ff-fc3c-406a-8127-2a7e413a0903___RS_Early.B 9006.JPG  \n",
            "  inflating: Potato/Train/Potato___Early_blight/c5c57ff6-cff1-4be6-a2fd-324efc139881___RS_Early.B 7450.JPG  \n",
            "  inflating: Potato/Train/Potato___Early_blight/c5cb3e89-f00f-4032-80ca-eb39bead0796___RS_Early.B 8645.JPG  \n",
            "  inflating: Potato/Train/Potato___Early_blight/c5dc57d8-9a0d-4046-9eb4-b9db2f720a47___RS_Early.B 7047.JPG  \n",
            "  inflating: Potato/Train/Potato___Early_blight/c630212c-205f-469d-bb8d-9a143f65ab03___RS_Early.B 9000.JPG  \n",
            "  inflating: Potato/Train/Potato___Early_blight/c653b79e-4f42-4a9e-8c5c-7a85483a3c29___RS_Early.B 9108.JPG  \n",
            "  inflating: Potato/Train/Potato___Early_blight/c7067769-af82-46d6-8f42-d7a184e3f59a___RS_Early.B 7916.JPG  \n",
            "  inflating: Potato/Train/Potato___Early_blight/c71ad6f9-6258-4602-84dc-ecf75296672c___RS_Early.B 7525.JPG  \n",
            "  inflating: Potato/Train/Potato___Early_blight/c7212fa9-df1e-485e-a471-1011dd797865___RS_Early.B 8680.JPG  \n",
            "  inflating: Potato/Train/Potato___Early_blight/c74c801d-a6e5-44dc-a7e8-f3a5f39a300e___RS_Early.B 7864.JPG  \n",
            "  inflating: Potato/Train/Potato___Early_blight/c777a0ce-5d2b-4e87-8cc4-d5f8847a4553___RS_Early.B 8239.JPG  \n",
            "  inflating: Potato/Train/Potato___Early_blight/c7f27f40-6634-4118-9990-6897e0c68579___RS_Early.B 7197.JPG  \n",
            "  inflating: Potato/Train/Potato___Early_blight/c7fb1eeb-741c-4583-ad3f-ed46d5c2c920___RS_Early.B 8865.JPG  \n",
            "  inflating: Potato/Train/Potato___Early_blight/c82e587c-a0f2-451e-9057-e3719a3d9562___RS_Early.B 6824.JPG  \n",
            "  inflating: Potato/Train/Potato___Early_blight/c8a008b3-a81d-410c-97aa-94e92118e572___RS_Early.B 7616.JPG  \n",
            "  inflating: Potato/Train/Potato___Early_blight/c8dedd98-c5d7-4ef4-b4f4-70d0bae0e178___RS_Early.B 7128.JPG  \n",
            "  inflating: Potato/Train/Potato___Early_blight/c91060f7-f9dd-4930-ad0a-8a4a6bd803d2___RS_Early.B 7869.JPG  \n",
            "  inflating: Potato/Train/Potato___Early_blight/c9296b35-7b8b-4ac2-99db-07c426ec774b___RS_Early.B 6832.JPG  \n",
            "  inflating: Potato/Train/Potato___Early_blight/c9bd759f-bd34-4333-a7b9-23ad810bba32___RS_Early.B 8033.JPG  \n",
            "  inflating: Potato/Train/Potato___Early_blight/c9bff7de-c589-4ed2-92fe-cd9ca2a1df16___RS_Early.B 7846.JPG  \n",
            "  inflating: Potato/Train/Potato___Early_blight/c9d5a9b6-4e5c-42df-8f9b-5f57e13000df___RS_Early.B 6933.JPG  \n",
            "  inflating: Potato/Train/Potato___Early_blight/ca1bc7af-3220-4b45-b76d-8f950128c489___RS_Early.B 7266.JPG  \n",
            "  inflating: Potato/Train/Potato___Early_blight/ca2c9c12-f2ba-4864-806c-b85f4fb36f92___RS_Early.B 7640.JPG  \n",
            "  inflating: Potato/Train/Potato___Early_blight/cac99520-3403-4602-961d-3a668bb980fb___RS_Early.B 7388.JPG  \n",
            "  inflating: Potato/Train/Potato___Early_blight/caef0735-6517-4194-b124-5916815e4a71___RS_Early.B 7956.JPG  \n",
            "  inflating: Potato/Train/Potato___Early_blight/caf7512b-4e4e-44fc-ae7d-8544168cf903___RS_Early.B 7120.JPG  \n",
            "  inflating: Potato/Train/Potato___Early_blight/cb5241ed-1a40-488a-9236-64ed07e6ebbf___RS_Early.B 6712.JPG  \n",
            "  inflating: Potato/Train/Potato___Early_blight/cb615e16-034f-465a-89a6-91e091698723___RS_Early.B 6796.JPG  \n",
            "  inflating: Potato/Train/Potato___Early_blight/cbd4ef4a-1e84-41ac-8744-b5a1c52461be___RS_Early.B 8191.JPG  \n",
            "  inflating: Potato/Train/Potato___Early_blight/cc48c415-4a2d-4d8d-94db-c736e7b7c882___RS_Early.B 7705.JPG  \n",
            "  inflating: Potato/Train/Potato___Early_blight/cc63b147-ad2a-4bc1-aa05-a07b3c6b7761___RS_Early.B 7091.JPG  \n",
            "  inflating: Potato/Train/Potato___Early_blight/cc716d92-3d2e-4cce-bc77-bb4c8155b88c___RS_Early.B 8288.JPG  \n",
            "  inflating: Potato/Train/Potato___Early_blight/ccec0636-2984-4164-aad7-34b1b84ec42b___RS_Early.B 7766.JPG  \n",
            "  inflating: Potato/Train/Potato___Early_blight/cceeec9d-e0d9-4512-a1f0-faa5dc6bbf40___RS_Early.B 8381.JPG  \n",
            "  inflating: Potato/Train/Potato___Early_blight/cd025ad0-9486-4ee6-b545-c9040dc4e1c7___RS_Early.B 8821.JPG  \n",
            "  inflating: Potato/Train/Potato___Early_blight/cdc5ed26-b023-41cb-9cd8-07e62df1e369___RS_Early.B 6864.JPG  \n",
            "  inflating: Potato/Train/Potato___Early_blight/ce9d9a96-23cc-4d24-ab68-3932cba59ae2___RS_Early.B 7080.JPG  \n",
            "  inflating: Potato/Train/Potato___Early_blight/cea35641-b4f8-49cb-bbeb-c98cfc79870e___RS_Early.B 7189.JPG  \n",
            "  inflating: Potato/Train/Potato___Early_blight/cf3169aa-b842-46ed-bb1a-3e02b6858c86___RS_Early.B 7566.JPG  \n",
            "  inflating: Potato/Train/Potato___Early_blight/cf38c261-5bae-4b5d-92b4-16c634557d2a___RS_Early.B 7169.JPG  \n",
            "  inflating: Potato/Train/Potato___Early_blight/cf761f3d-755a-42b2-83cb-729443246c6a___RS_Early.B 7319.JPG  \n",
            "  inflating: Potato/Train/Potato___Early_blight/cfa37804-6d71-45fe-bd88-c899b9534992___RS_Early.B 6673.JPG  \n",
            "  inflating: Potato/Train/Potato___Early_blight/cfd3112d-e376-4b82-bc06-de0bfba0ab41___RS_Early.B 8389.JPG  \n",
            "  inflating: Potato/Train/Potato___Early_blight/cff1ed1b-51ec-4d44-ab1f-7a3dc1ec9ea9___RS_Early.B 7100.JPG  \n",
            "  inflating: Potato/Train/Potato___Early_blight/d0221e13-4d76-45e5-9cd1-7cac63833f52___RS_Early.B 7191.JPG  \n",
            "  inflating: Potato/Train/Potato___Early_blight/d031102c-679d-4323-a5ee-4c52ed2d5740___RS_Early.B 6947.JPG  \n",
            "  inflating: Potato/Train/Potato___Early_blight/d036af36-99a4-4b25-aa40-2477883e73cf___RS_Early.B 8269.JPG  \n",
            "  inflating: Potato/Train/Potato___Early_blight/d03ee4f8-b77d-4f0f-8d13-d0a019a37a66___RS_Early.B 6970.JPG  \n",
            "  inflating: Potato/Train/Potato___Early_blight/d063f825-aa36-4cfd-a227-4c3f30760aa2___RS_Early.B 8307.JPG  \n",
            "  inflating: Potato/Train/Potato___Early_blight/d06681cc-3ed1-4af2-ae40-2597eaea3dd4___RS_Early.B 8691.JPG  \n",
            "  inflating: Potato/Train/Potato___Early_blight/d0719ccc-a4c3-406e-bf73-94115fefde12___RS_Early.B 8569.JPG  \n",
            "  inflating: Potato/Train/Potato___Early_blight/d0be9a48-d0f6-4d34-9c80-3eb7631e2d8d___RS_Early.B 8143.JPG  \n",
            "  inflating: Potato/Train/Potato___Early_blight/d0fc4557-34a0-4324-8b2c-865853e0face___RS_Early.B 6912.JPG  \n",
            "  inflating: Potato/Train/Potato___Early_blight/d1072068-911c-4656-8bf2-e662982199e1___RS_Early.B 8141.JPG  \n",
            "  inflating: Potato/Train/Potato___Early_blight/d1184bb1-defe-44b3-aa71-d03fe11bf535___RS_Early.B 8787.JPG  \n",
            "  inflating: Potato/Train/Potato___Early_blight/d1625c19-c90f-4a5f-bfc8-cb406ad20753___RS_Early.B 8649.JPG  \n",
            "  inflating: Potato/Train/Potato___Early_blight/d1b4cb77-db0e-42db-b1c0-25d222844241___RS_Early.B 7130.JPG  \n",
            "  inflating: Potato/Train/Potato___Early_blight/d24073c7-875b-4e86-b8cd-58853f13c191___RS_Early.B 6761.JPG  \n",
            "  inflating: Potato/Train/Potato___Early_blight/d286d101-227f-48ba-b906-586879eb6a00___RS_Early.B 7095.JPG  \n",
            "  inflating: Potato/Train/Potato___Early_blight/d2dcbc63-47c6-4a67-914b-cb1e117b58b0___RS_Early.B 7159.JPG  \n",
            "  inflating: Potato/Train/Potato___Early_blight/d3240683-1636-4373-84aa-01ce594c19a0___RS_Early.B 8340.JPG  \n",
            "  inflating: Potato/Train/Potato___Early_blight/d32f991e-d1da-44a3-b3e0-2f99cc038900___RS_Early.B 6994.JPG  \n",
            "  inflating: Potato/Train/Potato___Early_blight/d3a1b356-0ffa-4d47-9f52-410bbd0e3e3d___RS_Early.B 8884.JPG  \n",
            "  inflating: Potato/Train/Potato___Early_blight/d435f2db-74fc-4b82-9dd8-9ffdc51650c6___RS_Early.B 9181.JPG  \n",
            "  inflating: Potato/Train/Potato___Early_blight/d44a363d-c186-416e-8fad-1a456699bba2___RS_Early.B 7229.JPG  \n",
            "  inflating: Potato/Train/Potato___Early_blight/d472b6e3-a00c-4b4e-b13a-cdababff9d24___RS_Early.B 7699.JPG  \n",
            "  inflating: Potato/Train/Potato___Early_blight/d4cd2357-1142-4f0c-8c44-201241a27573___RS_Early.B 9146.JPG  \n",
            "  inflating: Potato/Train/Potato___Early_blight/d4f3066f-adb8-401b-a27f-19a12c336ebe___RS_Early.B 8626.JPG  \n",
            "  inflating: Potato/Train/Potato___Early_blight/d50dde4d-fe2f-4e8c-b336-69be71e34ce8___RS_Early.B 6905.JPG  \n",
            "  inflating: Potato/Train/Potato___Early_blight/d55f09eb-e463-4abd-aac6-fb144b30ead7___RS_Early.B 9004.JPG  \n",
            "  inflating: Potato/Train/Potato___Early_blight/d5673be4-4d62-4287-b9a4-3653b88d1604___RS_Early.B 8304.JPG  \n",
            "  inflating: Potato/Train/Potato___Early_blight/d59c5aa9-8d45-45db-be3e-0276e24641f5___RS_Early.B 7897.JPG  \n",
            "  inflating: Potato/Train/Potato___Early_blight/d5c51ec6-506e-4b85-b774-66f6a5493c90___RS_Early.B 7071.JPG  \n",
            "  inflating: Potato/Train/Potato___Early_blight/d6ffc732-27cc-4391-9820-be9d386fb245___RS_Early.B 7032.JPG  \n",
            "  inflating: Potato/Train/Potato___Early_blight/d7c9765e-4a73-4eeb-9f9e-9ed98b7e93fe___RS_Early.B 7601.JPG  \n",
            "  inflating: Potato/Train/Potato___Early_blight/d825093a-2bd7-458d-a9a1-036db6c08dec___RS_Early.B 9018.JPG  \n",
            "  inflating: Potato/Train/Potato___Early_blight/d829c0d8-016e-4337-b80f-bb1f329b1d4d___RS_Early.B 8797.JPG  \n",
            "  inflating: Potato/Train/Potato___Early_blight/d84ba2ee-6ef5-45b7-a15a-b677b99cd3f6___RS_Early.B 6772.JPG  \n",
            "  inflating: Potato/Train/Potato___Early_blight/d87f93fa-f6f8-49f1-b9e1-8f196f377df8___RS_Early.B 7244.JPG  \n",
            "  inflating: Potato/Train/Potato___Early_blight/d8a55ed1-7b3a-4b25-84b2-6046c0d9e3ab___RS_Early.B 7443.JPG  \n",
            "  inflating: Potato/Train/Potato___Early_blight/d8a8d6e5-d82d-4f7c-aac5-183e85549d9b___RS_Early.B 7799.JPG  \n",
            "  inflating: Potato/Train/Potato___Early_blight/d8efc91f-6e85-4508-8d49-9c4a11c4c71a___RS_Early.B 7484.JPG  \n",
            "  inflating: Potato/Train/Potato___Early_blight/d91d88d1-89d4-4017-b0f0-9e875bedfcab___RS_Early.B 7201.JPG  \n",
            "  inflating: Potato/Train/Potato___Early_blight/d9293730-8ba7-4f41-936a-eb129bde096b___RS_Early.B 8102.JPG  \n",
            "  inflating: Potato/Train/Potato___Early_blight/d9303294-b0d9-4066-85d1-4ef58977b78e___RS_Early.B 7337.JPG  \n",
            "  inflating: Potato/Train/Potato___Early_blight/d97f6469-bef9-4276-b918-efb1a1859fb7___RS_Early.B 6958.JPG  \n",
            "  inflating: Potato/Train/Potato___Early_blight/d998c614-017c-4f90-8e39-f8c500d21218___RS_Early.B 8292.JPG  \n",
            "  inflating: Potato/Train/Potato___Early_blight/d9a1cd5f-e2f2-49f7-b5f1-22cf02eb5ba4___RS_Early.B 8891.JPG  \n",
            "  inflating: Potato/Train/Potato___Early_blight/d9b34eaa-9d54-41fe-9ea2-335fe0b572ee___RS_Early.B 7735.JPG  \n",
            "  inflating: Potato/Train/Potato___Early_blight/d9ebe6a0-d46e-47fe-950e-938f7ce83afb___RS_Early.B 7419.JPG  \n",
            "  inflating: Potato/Train/Potato___Early_blight/da3115aa-a34b-42b2-97a9-9a1922770c8d___RS_Early.B 6708.JPG  \n",
            "  inflating: Potato/Train/Potato___Early_blight/da412bf6-6bee-4dfb-8bc7-b6e9f80971ff___RS_Early.B 6808.JPG  \n",
            "  inflating: Potato/Train/Potato___Early_blight/da4c4f0f-ea7b-489a-8ac1-f8c63ff59bc4___RS_Early.B 8818.JPG  \n",
            "  inflating: Potato/Train/Potato___Early_blight/daa35c03-7307-4e2e-8b15-f33bfff5a12d___RS_Early.B 7712.JPG  \n",
            "  inflating: Potato/Train/Potato___Early_blight/db4dbc48-209d-4615-95cd-1d7ee7f1d7e0___RS_Early.B 7545.JPG  \n",
            "  inflating: Potato/Train/Potato___Early_blight/db5d0f5f-a722-4f12-96bf-c9608e5c7f2a___RS_Early.B 8945.JPG  \n",
            "  inflating: Potato/Train/Potato___Early_blight/db60c4cf-30f1-460c-a345-3045f192f725___RS_Early.B 6722.JPG  \n",
            "  inflating: Potato/Train/Potato___Early_blight/db79941d-3ca1-42f1-b06e-d150a49d476a___RS_Early.B 8742.JPG  \n",
            "  inflating: Potato/Train/Potato___Early_blight/dbdf96e5-2f8c-475b-b2dd-40a5862e10f7___RS_Early.B 8017.JPG  \n",
            "  inflating: Potato/Train/Potato___Early_blight/dbe05365-9166-45f7-94cf-cefca787215a___RS_Early.B 9144.JPG  \n",
            "  inflating: Potato/Train/Potato___Early_blight/dbee10d3-333b-4c62-aa90-23c1f859519c___RS_Early.B 7252.JPG  \n",
            "  inflating: Potato/Train/Potato___Early_blight/dc0536f7-e777-4751-8733-f643eb18329a___RS_Early.B 7492.JPG  \n",
            "  inflating: Potato/Train/Potato___Early_blight/dc2775b9-e62e-4fe5-921f-e1cf5c4e2fe4___RS_Early.B 6942.JPG  \n",
            "  inflating: Potato/Train/Potato___Early_blight/dc34096f-8974-4a76-8d15-42ee86038015___RS_Early.B 6734.JPG  \n",
            "  inflating: Potato/Train/Potato___Early_blight/dc3e6480-10c2-429b-bd9a-b8dd7d538594___RS_Early.B 8061.JPG  \n",
            "  inflating: Potato/Train/Potato___Early_blight/dc6516c4-a74c-465f-85a1-55608ee518da___RS_Early.B 8843.JPG  \n",
            "  inflating: Potato/Train/Potato___Early_blight/dcb9073d-df5b-4a15-aecf-1c3af587cd74___RS_Early.B 8982.JPG  \n",
            "  inflating: Potato/Train/Potato___Early_blight/dcc46f93-d842-496d-980b-4b29a00551d5___RS_Early.B 8424.JPG  \n",
            "  inflating: Potato/Train/Potato___Early_blight/dcc9e3a4-04dc-46fd-9bc9-739334aa23d9___RS_Early.B 6799.JPG  \n",
            "  inflating: Potato/Train/Potato___Early_blight/dcdcc724-b029-4987-9d12-ccc8893ac6b4___RS_Early.B 8387.JPG  \n",
            "  inflating: Potato/Train/Potato___Early_blight/dd1e0739-c899-4c1e-99c8-fd83a6d55694___RS_Early.B 7862.JPG  \n",
            "  inflating: Potato/Train/Potato___Early_blight/dd875158-7897-4f5d-ada1-46e7e382ea96___RS_Early.B 7912.JPG  \n",
            "  inflating: Potato/Train/Potato___Early_blight/dd9c3ad3-aa94-4d00-88c8-8e4618e8832e___RS_Early.B 7633.JPG  \n",
            "  inflating: Potato/Train/Potato___Early_blight/ddc6aed7-43bd-49bc-88d0-6f942acb362a___RS_Early.B 7328.JPG  \n",
            "  inflating: Potato/Train/Potato___Early_blight/de1ff62e-87aa-420a-9eeb-cb0e3475e84d___RS_Early.B 6918.JPG  \n",
            "  inflating: Potato/Train/Potato___Early_blight/de44f09b-b207-4805-8970-2999f9c2dc7c___RS_Early.B 7917.JPG  \n",
            "  inflating: Potato/Train/Potato___Early_blight/de8d212e-1bbf-41d7-b13b-29f0746223aa___RS_Early.B 8022.JPG  \n",
            "  inflating: Potato/Train/Potato___Early_blight/dea6a6e4-cfb0-4c00-a0f7-bdd1e52f82e0___RS_Early.B 7246.JPG  \n",
            "  inflating: Potato/Train/Potato___Early_blight/deb1d849-ecf2-4451-8ff7-ca6b0bbbf434___RS_Early.B 7677.JPG  \n",
            "  inflating: Potato/Train/Potato___Early_blight/df67aec2-c706-4a6f-8a4a-e11d7eb41eb8___RS_Early.B 7287.JPG  \n",
            "  inflating: Potato/Train/Potato___Early_blight/df7e4d39-fb74-4e6d-9d32-04d7d2165135___RS_Early.B 6700.JPG  \n",
            "  inflating: Potato/Train/Potato___Early_blight/e0042931-92f3-4527-b292-872075f4261d___RS_Early.B 7203.JPG  \n",
            "  inflating: Potato/Train/Potato___Early_blight/e00d7014-a909-4d98-892b-da96a2be9a2e___RS_Early.B 7535.JPG  \n",
            "  inflating: Potato/Train/Potato___Early_blight/e016d105-f5cd-4082-a8c9-1913ea3fcfbb___RS_Early.B 7800.JPG  \n",
            "  inflating: Potato/Train/Potato___Early_blight/e0326fde-a613-4ec2-bc3b-e1d2154bdbcd___RS_Early.B 7679.JPG  \n",
            "  inflating: Potato/Train/Potato___Early_blight/e0552fed-9af3-4fbd-80e8-09151a839cf9___RS_Early.B 7576.JPG  \n",
            "  inflating: Potato/Train/Potato___Early_blight/e0654927-6cc0-491f-86d3-acb5ad261904___RS_Early.B 8341.JPG  \n",
            "  inflating: Potato/Train/Potato___Early_blight/e09798e4-23b1-4485-873b-605bc350f327___RS_Early.B 7320.JPG  \n",
            "  inflating: Potato/Train/Potato___Early_blight/e09c5edb-1e38-44bb-bb55-260fa32d6a58___RS_Early.B 7340.JPG  \n",
            "  inflating: Potato/Train/Potato___Early_blight/e11d63b8-93fa-41ba-b826-99811ee4c232___RS_Early.B 7387.JPG  \n",
            "  inflating: Potato/Train/Potato___Early_blight/e12f2cbd-6ced-45c5-8d83-96e19b92bfdd___RS_Early.B 8367.JPG  \n",
            "  inflating: Potato/Train/Potato___Early_blight/e1710bad-79c1-4b36-bbd2-b257c50697a5___RS_Early.B 7426.JPG  \n",
            "  inflating: Potato/Train/Potato___Early_blight/e217c2fe-b0d5-45e6-a7fa-98f253444d54___RS_Early.B 7067.JPG  \n",
            "  inflating: Potato/Train/Potato___Early_blight/e24cb505-5756-4269-aa4f-57d27da31b20___RS_Early.B 8973.JPG  \n",
            "  inflating: Potato/Train/Potato___Early_blight/e3007682-ad4b-4a62-b64d-ebb0c4537077___RS_Early.B 7772.JPG  \n",
            "  inflating: Potato/Train/Potato___Early_blight/e304fbf5-d145-433c-8f67-7b486581166a___RS_Early.B 7434.JPG  \n",
            "  inflating: Potato/Train/Potato___Early_blight/e3779bc5-a8e2-4be6-8e15-4a4713ab9531___RS_Early.B 8431.JPG  \n",
            "  inflating: Potato/Train/Potato___Early_blight/e40b6718-52b6-46a7-970c-5f1b6bae23af___RS_Early.B 8287.JPG  \n",
            "  inflating: Potato/Train/Potato___Early_blight/e490f736-a52f-434f-ada7-3bb255d99635___RS_Early.B 7417.JPG  \n",
            "  inflating: Potato/Train/Potato___Early_blight/e4b0f6ac-2b1e-4e10-8733-de421a01c390___RS_Early.B 8254.JPG  \n",
            "  inflating: Potato/Train/Potato___Early_blight/e4bd2479-dd2f-41ce-9544-4f1804c4ab8b___RS_Early.B 8601.JPG  \n",
            "  inflating: Potato/Train/Potato___Early_blight/e50bd734-03b9-479b-9ca0-48ef217a2c59___RS_Early.B 7976.JPG  \n",
            "  inflating: Potato/Train/Potato___Early_blight/e50e7166-a67d-4207-a49c-0240b0218d48___RS_Early.B 8907.JPG  \n",
            "  inflating: Potato/Train/Potato___Early_blight/e57ca76e-a4c3-40f2-a673-9f48b3b357ae___RS_Early.B 7539.JPG  \n",
            "  inflating: Potato/Train/Potato___Early_blight/e5c94100-3e1c-4fb1-8b6b-f281b491adff___RS_Early.B 8604.JPG  \n",
            "  inflating: Potato/Train/Potato___Early_blight/e5d559da-71d8-4999-9d5a-05da9e6bf12e___RS_Early.B 7491.JPG  \n",
            "  inflating: Potato/Train/Potato___Early_blight/e6693b54-623a-4323-aa79-3e0fc3c07288___RS_Early.B 9198.JPG  \n",
            "  inflating: Potato/Train/Potato___Early_blight/e6aec621-1699-433a-8cf5-7310ec895810___RS_Early.B 8764.JPG  \n",
            "  inflating: Potato/Train/Potato___Early_blight/e6d543a1-8e5e-4709-9329-b93d63f52edf___RS_Early.B 8324.JPG  \n",
            "  inflating: Potato/Train/Potato___Early_blight/e6d7262c-803d-4346-a36d-4f384196e21c___RS_Early.B 6893.JPG  \n",
            "  inflating: Potato/Train/Potato___Early_blight/e786a4fe-5aa1-4da2-a16f-4ee82c56e317___RS_Early.B 7245.JPG  \n",
            "  inflating: Potato/Train/Potato___Early_blight/e7b48816-19f7-4dc2-bf52-dfbb85e1f59a___RS_Early.B 7240.JPG  \n",
            "  inflating: Potato/Train/Potato___Early_blight/e7cab6f5-308b-41ea-af82-e20cfe540729___RS_Early.B 7177.JPG  \n",
            "  inflating: Potato/Train/Potato___Early_blight/e8db5472-3858-478a-b1ae-9198329a49a5___RS_Early.B 7528.JPG  \n",
            "  inflating: Potato/Train/Potato___Early_blight/e912f95d-d159-47bc-b1ed-f0f08c3c391d___RS_Early.B 8366.JPG  \n",
            "  inflating: Potato/Train/Potato___Early_blight/e9643c88-239f-4587-8093-3b96eb3723f4___RS_Early.B 7353.JPG  \n",
            "  inflating: Potato/Train/Potato___Early_blight/e9f9e200-b7ff-4a59-af32-b4faf3f27b17___RS_Early.B 8028.JPG  \n",
            "  inflating: Potato/Train/Potato___Early_blight/ea403e5a-34b3-4b06-a94d-65ad2e78831f___RS_Early.B 8136.JPG  \n",
            "  inflating: Potato/Train/Potato___Early_blight/ea87f5c8-69f9-44e0-997b-bb896350765e___RS_Early.B 7798.JPG  \n",
            "  inflating: Potato/Train/Potato___Early_blight/eb4fbc2b-c1a4-473f-a4e1-71ba04a7133c___RS_Early.B 7716.JPG  \n",
            "  inflating: Potato/Train/Potato___Early_blight/ec4e730c-02c1-4b4e-b9fc-9387e2f30a8a___RS_Early.B 7701.JPG  \n",
            "  inflating: Potato/Train/Potato___Early_blight/ec6b34ed-69c6-466a-81a9-4ca18eb25275___RS_Early.B 7038.JPG  \n",
            "  inflating: Potato/Train/Potato___Early_blight/ec9a34ed-90de-417e-bf87-31e748c8c770___RS_Early.B 7968.JPG  \n",
            "  inflating: Potato/Train/Potato___Early_blight/ec9ea109-34c7-48c5-bbac-40a36b21fa05___RS_Early.B 8761.JPG  \n",
            "  inflating: Potato/Train/Potato___Early_blight/ecf9d01d-b97f-4cf8-99e5-7036bd91b5d1___RS_Early.B 8650.JPG  \n",
            "  inflating: Potato/Train/Potato___Early_blight/ed270d5d-3523-4bc2-b208-4f5304bbfeef___RS_Early.B 8218.JPG  \n",
            "  inflating: Potato/Train/Potato___Early_blight/ed64bc0c-d2e5-44fd-a21a-f4d6b4f2f219___RS_Early.B 7366.JPG  \n",
            "  inflating: Potato/Train/Potato___Early_blight/ed78ac4f-ce50-4de8-b508-ad07b9d99176___RS_Early.B 7313.JPG  \n",
            "  inflating: Potato/Train/Potato___Early_blight/edc5f476-dd30-4fab-a8a1-71faf6210420___RS_Early.B 7315.JPG  \n",
            "  inflating: Potato/Train/Potato___Early_blight/ede5199d-4bf1-4bd0-a460-2168350ed05a___RS_Early.B 8773.JPG  \n",
            "  inflating: Potato/Train/Potato___Early_blight/ee584747-fea1-4d16-9c03-40bfc9bcf1c7___RS_Early.B 8600.JPG  \n",
            "  inflating: Potato/Train/Potato___Early_blight/ee8df9d4-1893-49a4-b2e9-aee2b1e85ca0___RS_Early.B 6926.JPG  \n",
            "  inflating: Potato/Train/Potato___Early_blight/eec2262a-d16b-42e1-99bd-6891ef392988___RS_Early.B 7085.JPG  \n",
            "  inflating: Potato/Train/Potato___Early_blight/ef5b06f0-4c81-4e47-9ec3-499af1571d9e___RS_Early.B 8455.JPG  \n",
            "  inflating: Potato/Train/Potato___Early_blight/ef722b35-2ab8-409d-a971-b3a853a72cb3___RS_Early.B 7184.JPG  \n",
            "  inflating: Potato/Train/Potato___Early_blight/ef825fcb-d776-4dfd-a6ed-3bd49912806e___RS_Early.B 7985.JPG  \n",
            "  inflating: Potato/Train/Potato___Early_blight/efa2f117-a774-4fcc-8445-142742aa7816___RS_Early.B 7458.JPG  \n",
            "  inflating: Potato/Train/Potato___Early_blight/efb6e5e5-d83c-4634-a9f6-3f2332713497___RS_Early.B 6788.JPG  \n",
            "  inflating: Potato/Train/Potato___Early_blight/efd49e70-b8d6-493f-9099-b3d9d534f365___RS_Early.B 7854.JPG  \n",
            "  inflating: Potato/Train/Potato___Early_blight/f069744b-375b-4fee-b1f9-23963195e936___RS_Early.B 6837.JPG  \n",
            "  inflating: Potato/Train/Potato___Early_blight/f0a1af30-47b5-430b-b563-ef9a32a55dc7___RS_Early.B 6781.JPG  \n",
            "  inflating: Potato/Train/Potato___Early_blight/f0b444a4-ddd7-4286-8a80-423f7e71c526___RS_Early.B 8753.JPG  \n",
            "  inflating: Potato/Train/Potato___Early_blight/f0cdbf74-8401-48d1-b1cc-94862e1a4452___RS_Early.B 7447.JPG  \n",
            "  inflating: Potato/Train/Potato___Early_blight/f0f41a0d-7679-4e56-85df-44934fe0cb3b___RS_Early.B 7054.JPG  \n",
            "  inflating: Potato/Train/Potato___Early_blight/f12d7916-b4f0-46f7-91bd-8dc097743149___RS_Early.B 8963.JPG  \n",
            "  inflating: Potato/Train/Potato___Early_blight/f15637d3-829d-46f9-b45e-1e1768d6b8c9___RS_Early.B 7635.JPG  \n",
            "  inflating: Potato/Train/Potato___Early_blight/f164ce92-d109-47ca-9f75-380a7f16155a___RS_Early.B 7104.JPG  \n",
            "  inflating: Potato/Train/Potato___Early_blight/f188a6c1-fbed-4941-a5a7-e11a6b4ddcfb___RS_Early.B 6910.JPG  \n",
            "  inflating: Potato/Train/Potato___Early_blight/f194debe-e829-4bfb-af09-681e50358f50___RS_Early.B 7739.JPG  \n",
            "  inflating: Potato/Train/Potato___Early_blight/f20b88af-30e2-4270-a035-2cf217469cf8___RS_Early.B 8266.JPG  \n",
            "  inflating: Potato/Train/Potato___Early_blight/f217f3ba-56fa-4f97-bf9a-07697e08e845___RS_Early.B 9161.JPG  \n",
            "  inflating: Potato/Train/Potato___Early_blight/f2540cea-220b-4ba2-bf16-7c1c7f32c38c___RS_Early.B 7997.JPG  \n",
            "  inflating: Potato/Train/Potato___Early_blight/f2a56e13-438e-4bef-a3ea-beb9f347d481___RS_Early.B 6691.JPG  \n",
            "  inflating: Potato/Train/Potato___Early_blight/f2e7be26-b7d3-4e99-8630-8b1650192b02___RS_Early.B 7275.JPG  \n",
            "  inflating: Potato/Train/Potato___Early_blight/f32a2d3d-9ac5-426c-81d1-bc279def9ba4___RS_Early.B 7636.JPG  \n",
            "  inflating: Potato/Train/Potato___Early_blight/f3360814-9e4c-46b0-85ed-73fc77ef7810___RS_Early.B 7550.JPG  \n",
            "  inflating: Potato/Train/Potato___Early_blight/f3483bdf-7adf-40fe-b478-044b7c9daff2___RS_Early.B 7034.JPG  \n",
            "  inflating: Potato/Train/Potato___Early_blight/f3ad73cc-2e88-4157-97ea-d57d87c5760c___RS_Early.B 6687.JPG  \n",
            "  inflating: Potato/Train/Potato___Early_blight/f3b29f09-c337-4233-8968-0fcc66c9fa2a___RS_Early.B 8115.JPG  \n",
            "  inflating: Potato/Train/Potato___Early_blight/f400079a-ff67-45c2-8a50-5c5b1e08dc25___RS_Early.B 8491.JPG  \n",
            "  inflating: Potato/Train/Potato___Early_blight/f48fc3b4-b7e7-4ad5-a651-0bf61a5173ff___RS_Early.B 8597.JPG  \n",
            "  inflating: Potato/Train/Potato___Early_blight/f536e055-666e-41cc-8ee2-c1af2fbf754a___RS_Early.B 8104.JPG  \n",
            "  inflating: Potato/Train/Potato___Early_blight/f56f07b9-9f3a-4c80-a4f8-daf49f479db2___RS_Early.B 8741.JPG  \n",
            "  inflating: Potato/Train/Potato___Early_blight/f5ec7cce-c3cc-4b4a-b716-d70175b1dcd2___RS_Early.B 7520.JPG  \n",
            "  inflating: Potato/Train/Potato___Early_blight/f5fca019-b28f-4000-9d5e-b0b5fd061304___RS_Early.B 7503.JPG  \n",
            "  inflating: Potato/Train/Potato___Early_blight/f686133a-e89a-4242-a52d-02f32ffd5275___RS_Early.B 8295.JPG  \n",
            "  inflating: Potato/Train/Potato___Early_blight/f6d020f8-8578-4c96-afc2-a1e97adb1ea9___RS_Early.B 7521.JPG  \n",
            "  inflating: Potato/Train/Potato___Early_blight/f6d8c094-970c-41c5-9f5d-3ded7c8f7b15___RS_Early.B 6846.JPG  \n",
            "  inflating: Potato/Train/Potato___Early_blight/f7740cb1-3295-4022-ae6c-7ffeee775f6f___RS_Early.B 8991.JPG  \n",
            "  inflating: Potato/Train/Potato___Early_blight/f7a5e3e3-796e-4f4a-943c-24d26e2591d4___RS_Early.B 8679.JPG  \n",
            "  inflating: Potato/Train/Potato___Early_blight/f7db505f-aabe-4b96-b719-8c930b5ff471___RS_Early.B 9224.JPG  \n",
            "  inflating: Potato/Train/Potato___Early_blight/f813e04e-a4f1-4c7f-a56d-cf0829801acb___RS_Early.B 8836.JPG  \n",
            "  inflating: Potato/Train/Potato___Early_blight/f838c192-a78c-460c-ab90-313dd5014a47___RS_Early.B 7718.JPG  \n",
            "  inflating: Potato/Train/Potato___Early_blight/f89d5362-f38f-4acf-8fca-2ea154c07cce___RS_Early.B 7018.JPG  \n",
            "  inflating: Potato/Train/Potato___Early_blight/f8b3542b-559a-4aa4-9f4a-ec4d22f4386f___RS_Early.B 7309.JPG  \n",
            "  inflating: Potato/Train/Potato___Early_blight/f8b57e69-5902-4253-8404-11811ecf13e8___RS_Early.B 6995.JPG  \n",
            "  inflating: Potato/Train/Potato___Early_blight/f8de1c8d-67a0-4825-9ad6-e15809ff909c___RS_Early.B 7348.JPG  \n",
            "  inflating: Potato/Train/Potato___Early_blight/f917c191-cca4-4a78-8238-a40b586f9058___RS_Early.B 7945.JPG  \n",
            "  inflating: Potato/Train/Potato___Early_blight/f9461507-6875-43f7-800d-502ffdb8ec05___RS_Early.B 7604.JPG  \n",
            "  inflating: Potato/Train/Potato___Early_blight/f9580dc3-d5d9-4990-a64d-3974a9d1c687___RS_Early.B 8755.JPG  \n",
            "  inflating: Potato/Train/Potato___Early_blight/f980fef9-bcf5-47fd-8426-2c503dc35f88___RS_Early.B 6745.JPG  \n",
            "  inflating: Potato/Train/Potato___Early_blight/fa61b2e4-413c-4503-a2a2-cff2d8a11351___RS_Early.B 7370.JPG  \n",
            "  inflating: Potato/Train/Potato___Early_blight/fa8656fd-03b1-467c-a877-99ce5632d580___RS_Early.B 7630.JPG  \n",
            "  inflating: Potato/Train/Potato___Early_blight/faac446b-34ac-414a-9f0e-148d6ee87bfa___RS_Early.B 8934.JPG  \n",
            "  inflating: Potato/Train/Potato___Early_blight/fb8d862d-29c3-41ab-888d-cef47286ee9a___RS_Early.B 8975.JPG  \n",
            "  inflating: Potato/Train/Potato___Early_blight/fba7a41d-25df-4a1c-93d1-98d62e3376e0___RS_Early.B 8207.JPG  \n",
            "  inflating: Potato/Train/Potato___Early_blight/fbbe7b93-e6da-4dc8-b1ee-ba5646a5e039___RS_Early.B 8216.JPG  \n",
            "  inflating: Potato/Train/Potato___Early_blight/fbc1b154-7b53-4ac5-ad3a-5e9e5078a289___RS_Early.B 7551.JPG  \n",
            "  inflating: Potato/Train/Potato___Early_blight/fbc7567e-ce08-4ad0-b8fe-ffd98296ce02___RS_Early.B 8607.JPG  \n",
            "  inflating: Potato/Train/Potato___Early_blight/fc1ab935-21b3-42e7-a870-02fd71c5d845___RS_Early.B 6894.JPG  \n",
            "  inflating: Potato/Train/Potato___Early_blight/fc603fb2-e2a0-4990-8a75-0e4f80f40694___RS_Early.B 7584.JPG  \n",
            "  inflating: Potato/Train/Potato___Early_blight/fc73fc01-6a63-4b3b-bfed-74625c5b4b05___RS_Early.B 6945.JPG  \n",
            "  inflating: Potato/Train/Potato___Early_blight/fc87399a-b45c-4b0f-a6c9-54f0e4f9d3c5___RS_Early.B 7277.JPG  \n",
            "  inflating: Potato/Train/Potato___Early_blight/fcbf4e6c-ba09-40f5-97c2-063bb20844bc___RS_Early.B 6938.JPG  \n",
            "  inflating: Potato/Train/Potato___Early_blight/fd59ab68-681f-4aca-ae95-6f73bf8caad7___RS_Early.B 7118.JPG  \n",
            "  inflating: Potato/Train/Potato___Early_blight/fd5b1e1f-48a8-42bd-82b5-cf762504708b___RS_Early.B 8149.JPG  \n",
            "  inflating: Potato/Train/Potato___Early_blight/fdc1f5ed-66b5-4564-8957-055905b8a569___RS_Early.B 8244.JPG  \n",
            "  inflating: Potato/Train/Potato___Early_blight/fdc691b0-2b15-4cb6-8f5d-c4e5654389e0___RS_Early.B 7935.JPG  \n",
            "  inflating: Potato/Train/Potato___Early_blight/fdf3c33c-dad6-4f13-bd58-a31d327d9cb9___RS_Early.B 8947.JPG  \n",
            "  inflating: Potato/Train/Potato___Early_blight/fe24f700-d37f-4e51-b07c-931e8c3ded81___RS_Early.B 8792.JPG  \n",
            "  inflating: Potato/Train/Potato___Early_blight/fe2a7818-f2ec-4255-93f0-586c88a41624___RS_Early.B 7043.JPG  \n",
            "  inflating: Potato/Train/Potato___Early_blight/fe772b3d-351c-4d18-9dcb-26feb90afa0d___RS_Early.B 7456.JPG  \n",
            "  inflating: Potato/Train/Potato___Early_blight/ffef8a3b-3e8a-4c24-a27e-64c41708f7a0___RS_Early.B 7132.JPG  \n",
            "  inflating: Potato/Train/Potato___Late_blight/b03529cf-21fd-4c94-a948-461a8d17e01c___RS_LB 4828.JPG  \n",
            "  inflating: Potato/Train/Potato___Late_blight/b11189c8-ab6f-4d69-9ffa-e52749d2a3a5___RS_LB 4537.JPG  \n",
            "  inflating: Potato/Train/Potato___Late_blight/b294595b-8950-4e5b-8dfc-2ad9ca2c5e0a___RS_LB 4475.JPG  \n",
            "  inflating: Potato/Train/Potato___Late_blight/b3123a68-bf01-4d71-a561-e1e7363a6419___RS_LB 2586.JPG  \n",
            "  inflating: Potato/Train/Potato___Late_blight/b334273e-833f-48fc-b6fb-7d7a31e1a541___RS_LB 4112.JPG  \n",
            "  inflating: Potato/Train/Potato___Late_blight/b402845e-5414-423e-9f6d-29e3bdbb505b___RS_LB 2825.JPG  \n",
            "  inflating: Potato/Train/Potato___Late_blight/b41284a3-27e9-4f0c-8946-4deb0b8fc238___RS_LB 2839.JPG  \n",
            "  inflating: Potato/Train/Potato___Late_blight/b5190917-8638-44bf-b16a-8004d2b6a58f___RS_LB 5241.JPG  \n",
            "  inflating: Potato/Train/Potato___Late_blight/b5442887-db0b-4b94-a6f1-18505731a599___RS_LB 4969.JPG  \n",
            "  inflating: Potato/Train/Potato___Late_blight/b86274d3-554a-495d-8304-76484e3c4d15___RS_LB 4442.JPG  \n",
            "  inflating: Potato/Train/Potato___Late_blight/b86630ca-89d0-4f83-9942-c1bfcce6b06c___RS_LB 4339.JPG  \n",
            "  inflating: Potato/Train/Potato___Late_blight/b9302a2f-a369-4b05-aed6-632287f42ed7___RS_LB 4452.JPG  \n",
            "  inflating: Potato/Train/Potato___Late_blight/b9474ec5-5a67-4207-98ec-5671c19f8f59___RS_LB 2545.JPG  \n",
            "  inflating: Potato/Train/Potato___Late_blight/b9939f3e-c71c-4653-acff-109a8266dddf___RS_LB 2787.JPG  \n",
            "  inflating: Potato/Train/Potato___Late_blight/ba15e1af-3f3a-4eef-8be1-4f0a221444fd___RS_LB 2866.JPG  \n",
            "  inflating: Potato/Train/Potato___Late_blight/baac20f4-7978-4258-8cd0-f3f8fe98bf83___RS_LB 4774.JPG  \n",
            "  inflating: Potato/Train/Potato___Late_blight/bb1949c9-c779-4490-b1cc-d82302bc1df9___RS_LB 2901.JPG  \n",
            "  inflating: Potato/Train/Potato___Late_blight/bb19c5f3-2937-4c87-b964-d922088f4b19___RS_LB 4950.JPG  \n",
            "  inflating: Potato/Train/Potato___Late_blight/bb3049f8-7377-4610-b13f-8daf6753bda7___RS_LB 4031.JPG  \n",
            "  inflating: Potato/Train/Potato___Late_blight/bb4aa884-a811-4229-bfc0-1df1e7330877___RS_LB 5049.JPG  \n",
            "  inflating: Potato/Train/Potato___Late_blight/bb81b8a0-3d1e-4cef-aeb5-31ac32f1761a___RS_LB 5268.JPG  \n",
            "  inflating: Potato/Train/Potato___Late_blight/bbdf98a1-9e54-4afd-bdfc-870d91627a52___RS_LB 2853.JPG  \n",
            "  inflating: Potato/Train/Potato___Late_blight/bc53f0fd-df00-42c6-ad50-aef25d2c6f7a___RS_LB 2954.JPG  \n",
            "  inflating: Potato/Train/Potato___Late_blight/bc5b403e-ecc2-4fde-bafa-9b8698e4545c___RS_LB 4448.JPG  \n",
            "  inflating: Potato/Train/Potato___Late_blight/bc91cb1b-aece-4108-92db-839a106351a5___RS_LB 3087.JPG  \n",
            "  inflating: Potato/Train/Potato___Late_blight/bd586e94-fa36-4aed-be05-7a0028d40118___RS_LB 2650.JPG  \n",
            "  inflating: Potato/Train/Potato___Late_blight/bd632f59-ff1c-452f-b504-053fa95ab000___RS_LB 4356.JPG  \n",
            "  inflating: Potato/Train/Potato___Late_blight/bd70c718-5846-42a1-8b05-22792ec98738___RS_LB 4992.JPG  \n",
            "  inflating: Potato/Train/Potato___Late_blight/bd94e2a1-d503-417b-8552-f252a5665476___RS_LB 4006.JPG  \n",
            "  inflating: Potato/Train/Potato___Late_blight/be013aee-1311-4679-ae86-1c6fba5f55e5___RS_LB 2799.JPG  \n",
            "  inflating: Potato/Train/Potato___Late_blight/be6b5fab-c3de-4d33-b7fc-87bf794d8705___RS_LB 4850.JPG  \n",
            "  inflating: Potato/Train/Potato___Late_blight/befda082-9237-4371-bd11-5d3513a365a5___RS_LB 2608.JPG  \n",
            "  inflating: Potato/Train/Potato___Late_blight/bf07f2b7-6ab3-4192-a418-ecabc32a11fe___RS_LB 2576.JPG  \n",
            "  inflating: Potato/Train/Potato___Late_blight/bf6ce80d-ca31-4d72-b56a-dbd6e6f2847a___RS_LB 4022.JPG  \n",
            "  inflating: Potato/Train/Potato___Late_blight/c008d8a7-aa55-400b-ad6c-f4fd7654c516___RS_LB 5242.JPG  \n",
            "  inflating: Potato/Train/Potato___Late_blight/c01daf14-9595-4b10-974d-3452fe133060___RS_LB 4463.JPG  \n",
            "  inflating: Potato/Train/Potato___Late_blight/c073bdde-9753-4035-8758-31fdc7cae993___RS_LB 2916.JPG  \n",
            "  inflating: Potato/Train/Potato___Late_blight/c0a69909-e94c-4155-a008-20b5445c56d7___RS_LB 3909.JPG  \n",
            "  inflating: Potato/Train/Potato___Late_blight/c0aeb29d-b504-47b5-aa5f-940a4f3b4e89___RS_LB 2972.JPG  \n",
            "  inflating: Potato/Train/Potato___Late_blight/c0e1bf8b-8b3d-4e00-bbd7-dc134dd9ca42___RS_LB 3234.JPG  \n",
            "  inflating: Potato/Train/Potato___Late_blight/c101232e-6487-495c-ad3a-27cd1e5fb2b9___RS_LB 2573.JPG  \n",
            "  inflating: Potato/Train/Potato___Late_blight/c1389cbc-d327-478b-92b3-550c3210ed5a___RS_LB 4025.JPG  \n",
            "  inflating: Potato/Train/Potato___Late_blight/c16b698a-77b9-48f7-943a-457d475242ef___RS_LB 2918.JPG  \n",
            "  inflating: Potato/Train/Potato___Late_blight/c18a017c-262c-41ca-93f3-8fc97ffd7043___RS_LB 4770.JPG  \n",
            "  inflating: Potato/Train/Potato___Late_blight/c206ebe3-c06e-4eb9-a537-a719cfa1e3c0___RS_LB 5140.JPG  \n",
            "  inflating: Potato/Train/Potato___Late_blight/c268fd1d-0a6d-46f1-bbcd-81b4e79894e6___RS_LB 2808.JPG  \n",
            "  inflating: Potato/Train/Potato___Late_blight/c3134b97-50a1-4aa2-937d-1e15405b9803___RS_LB 4565.JPG  \n",
            "  inflating: Potato/Train/Potato___Late_blight/c3cd2ad3-174e-48b4-a7a5-ce63be745fd5___RS_LB 3243.JPG  \n",
            "  inflating: Potato/Train/Potato___Late_blight/c4263e49-60ed-4f6b-aa78-cc9f3117ce73___RS_LB 4100.JPG  \n",
            "  inflating: Potato/Train/Potato___Late_blight/c48719ce-1230-465b-b481-177b7e0f7074___RS_LB 3835.JPG  \n",
            "  inflating: Potato/Train/Potato___Late_blight/c4aec622-2e7b-49f6-bab3-6c4dce29f155___RS_LB 3118.JPG  \n",
            "  inflating: Potato/Train/Potato___Late_blight/c4c1c25f-0594-4c81-a1e0-a609ee1f0808___RS_LB 2653.JPG  \n",
            "  inflating: Potato/Train/Potato___Late_blight/c58de13c-b59d-4497-ae5a-08b425919b64___RS_LB 3116.JPG  \n",
            "  inflating: Potato/Train/Potato___Late_blight/c5ff46d5-8f49-409f-b3c1-9a1a25418f47___RS_LB 2596.JPG  \n",
            "  inflating: Potato/Train/Potato___Late_blight/c60533e5-8080-4c77-8ae4-7c1f2f7350cb___RS_LB 2810.JPG  \n",
            "  inflating: Potato/Train/Potato___Late_blight/c63d5cca-9639-4d42-88c4-13572afa1dda___RS_LB 2747.JPG  \n",
            "  inflating: Potato/Train/Potato___Late_blight/c66982eb-dd83-487a-98c6-2aefdf5d7be0___RS_LB 4683.JPG  \n",
            "  inflating: Potato/Train/Potato___Late_blight/c6842cfb-6996-4a51-bc0a-7e2f89a903f0___RS_LB 3911.JPG  \n",
            "  inflating: Potato/Train/Potato___Late_blight/c6c8843f-6b36-472a-9a87-bf1a235e08b6___RS_LB 5136.JPG  \n",
            "  inflating: Potato/Train/Potato___Late_blight/c6d1bbe7-c1d8-4760-9bb2-a97eac1ca0a8___RS_LB 3838.JPG  \n",
            "  inflating: Potato/Train/Potato___Late_blight/c6d79fa2-e6fc-4c95-a805-c7ff53075b15___RS_LB 4328.JPG  \n",
            "  inflating: Potato/Train/Potato___Late_blight/c6ecc36c-1886-4d2d-89aa-0e9e9dc7ba32___RS_LB 4997.JPG  \n",
            "  inflating: Potato/Train/Potato___Late_blight/c746bac3-3c7a-445c-b78e-19294bd9a9cb___RS_LB 5233.JPG  \n",
            "  inflating: Potato/Train/Potato___Late_blight/c77d14df-faac-47e9-97e1-fc84a7aa6e74___RS_LB 4322.JPG  \n",
            "  inflating: Potato/Train/Potato___Late_blight/c7853012-d4e6-4c0d-a14d-1220a0a6d3b1___RS_LB 3871.JPG  \n",
            "  inflating: Potato/Train/Potato___Late_blight/c7982d1f-7472-44ba-a39d-76085c4d90cd___RS_LB 3072.JPG  \n",
            "  inflating: Potato/Train/Potato___Late_blight/c7adbae8-04db-489d-b9e6-c12de387d25c___RS_LB 2697.JPG  \n",
            "  inflating: Potato/Train/Potato___Late_blight/c7c82b7c-078f-4ba9-90e3-db36a73bda22___RS_LB 5430.JPG  \n",
            "  inflating: Potato/Train/Potato___Late_blight/c84a1cfc-5e19-46df-a315-c7fb6a61e60f___RS_LB 4103.JPG  \n",
            "  inflating: Potato/Train/Potato___Late_blight/c87b7e98-d4ed-446a-bf9e-47bd454f279b___RS_LB 2860.JPG  \n",
            "  inflating: Potato/Train/Potato___Late_blight/c89d5a2a-2c1e-496e-84b8-b7a844a97ac9___RS_LB 4920.JPG  \n",
            "  inflating: Potato/Train/Potato___Late_blight/c8bfd67e-892e-4502-982a-adba5505be5d___RS_LB 4444.JPG  \n",
            "  inflating: Potato/Train/Potato___Late_blight/c970a188-e4e6-43cd-aff7-d0ac40d378dc___RS_LB 4834.JPG  \n",
            "  inflating: Potato/Train/Potato___Late_blight/c98f32e2-c52c-4a35-bc34-c32af5a18b07___RS_LB 2807.JPG  \n",
            "  inflating: Potato/Train/Potato___Late_blight/ca14c4bc-c9a5-4294-835e-6c3b81e61496___RS_LB 3080.JPG  \n",
            "  inflating: Potato/Train/Potato___Late_blight/cb4fe901-5ca8-43e9-9a4f-3b9bf34ea364___RS_LB 3943.JPG  \n",
            "  inflating: Potato/Train/Potato___Late_blight/cba4be0b-2554-4a9e-8dd0-94cbb2467388___RS_LB 3335.JPG  \n",
            "  inflating: Potato/Train/Potato___Late_blight/cbb653f7-72fd-4499-9d90-efdcd8c30077___RS_LB 2764.JPG  \n",
            "  inflating: Potato/Train/Potato___Late_blight/ccdf64d2-81fe-429e-8041-05b5a9ce50c9___RS_LB 5052.JPG  \n",
            "  inflating: Potato/Train/Potato___Late_blight/cd04dd6c-fe7b-4587-ae2e-69228969d9d6___RS_LB 4824.JPG  \n",
            "  inflating: Potato/Train/Potato___Late_blight/cd0b4621-eccd-434a-8bc1-d3a6d24a2f05___RS_LB 5250.JPG  \n",
            "  inflating: Potato/Train/Potato___Late_blight/cd38f533-9b7d-4afd-bbd9-9ee5ab2aa3e8___RS_LB 2680.JPG  \n",
            "  inflating: Potato/Train/Potato___Late_blight/cd413b65-05b0-4bbd-9896-4951d11e920d___RS_LB 4575.JPG  \n",
            "  inflating: Potato/Train/Potato___Late_blight/cdad6bf9-1ca8-4feb-87b6-960dd55acf2e___RS_LB 3186.JPG  \n",
            "  inflating: Potato/Train/Potato___Late_blight/cdd030ec-609e-4f61-9335-6cf89a6f35d2___RS_LB 2776.JPG  \n",
            "  inflating: Potato/Train/Potato___Late_blight/ce38cb15-70c8-4203-adbb-db648eb87554___RS_LB 4107.JPG  \n",
            "  inflating: Potato/Train/Potato___Late_blight/ce5ec29b-599c-4c69-ba4d-04df7ab1c46f___RS_LB 4945.JPG  \n",
            "  inflating: Potato/Train/Potato___Late_blight/ced49a2c-c7b3-4c10-9475-2b004afebff1___RS_LB 4436.JPG  \n",
            "  inflating: Potato/Train/Potato___Late_blight/cf2e3e15-2284-474a-a36a-b102aa7d50cc___RS_LB 4760.JPG  \n",
            "  inflating: Potato/Train/Potato___Late_blight/cf336796-9b96-4156-adc4-6fbeaebf2a6a___RS_LB 3207.JPG  \n",
            "  inflating: Potato/Train/Potato___Late_blight/cf83a586-2f2a-423b-8e1c-f7c284a20ec1___RS_LB 2785.JPG  \n",
            "  inflating: Potato/Train/Potato___Late_blight/cf979c44-abfa-4ed3-865e-ee0c204ba9f0___RS_LB 4662.JPG  \n",
            "  inflating: Potato/Train/Potato___Late_blight/d01b2206-84b5-41f6-9a40-b238282940bd___RS_LB 2631.JPG  \n",
            "  inflating: Potato/Train/Potato___Late_blight/d0262161-b887-4357-b707-cde01cf5726d___RS_LB 3044.JPG  \n",
            "  inflating: Potato/Train/Potato___Late_blight/d105e6d5-4268-4b21-8709-24b894196454___RS_LB 3282.JPG  \n",
            "  inflating: Potato/Train/Potato___Late_blight/d1a28228-aae8-4348-b7a1-545dcf72d842___RS_LB 3875.JPG  \n",
            "  inflating: Potato/Train/Potato___Late_blight/d1ae329b-19bc-40c3-afb1-404ecf3c98ee___RS_LB 2613.JPG  \n",
            "  inflating: Potato/Train/Potato___Late_blight/d20fef22-7016-4115-9930-a66b32c718c6___RS_LB 4417.JPG  \n",
            "  inflating: Potato/Train/Potato___Late_blight/d2d8eb78-d267-4c37-a18c-b39a0bb11d82___RS_LB 3147.JPG  \n",
            "  inflating: Potato/Train/Potato___Late_blight/d2f57448-1770-46dc-97e3-40247d37094b___RS_LB 4455.JPG  \n",
            "  inflating: Potato/Train/Potato___Late_blight/d2ff230f-99a5-4dc5-968c-246d772788af___RS_LB 3279.JPG  \n",
            "  inflating: Potato/Train/Potato___Late_blight/d30021ba-fbbd-451b-b257-1fc5c6ac54d4___RS_LB 4466.JPG  \n",
            "  inflating: Potato/Train/Potato___Late_blight/d30d25f1-74ca-42d3-804d-c31b06720c46___RS_LB 2817.JPG  \n",
            "  inflating: Potato/Train/Potato___Late_blight/d36e9212-7594-4e4d-9062-0a98bc689729___RS_LB 5055.JPG  \n",
            "  inflating: Potato/Train/Potato___Late_blight/d378a0c5-d275-44a4-9f00-f7f180270f4d___RS_LB 2781.JPG  \n",
            "  inflating: Potato/Train/Potato___Late_blight/d3811753-f672-405c-afa3-8fbaa2715bf4___RS_LB 2720.JPG  \n",
            "  inflating: Potato/Train/Potato___Late_blight/d385010f-53c1-4e7d-9fd3-50f0c98dc245___RS_LB 3865.JPG  \n",
            "  inflating: Potato/Train/Potato___Late_blight/d38d9e28-89a0-4650-8a2d-dc5e6744b3b9___RS_LB 5204.JPG  \n",
            "  inflating: Potato/Train/Potato___Late_blight/d3aa996a-f1d8-41bb-99bc-8f33ca2ea9ce___RS_LB 4404.JPG  \n",
            "  inflating: Potato/Train/Potato___Late_blight/d3cbf715-a2a3-4024-ac5d-c6ae21a77720___RS_LB 2735.JPG  \n",
            "  inflating: Potato/Train/Potato___Late_blight/d3e6cc68-6d84-406f-9e02-b81f8051ecb3___RS_LB 3992.JPG  \n",
            "  inflating: Potato/Train/Potato___Late_blight/d42061d8-9da0-4190-8dd0-d3629f0cfa53___RS_LB 3954.JPG  \n",
            "  inflating: Potato/Train/Potato___Late_blight/d438f9b3-2952-425e-8c5f-a92a21b35f5f___RS_LB 4470.JPG  \n",
            "  inflating: Potato/Train/Potato___Late_blight/d43fa915-e947-4316-b0f5-0f925c5d9625___RS_LB 3969.JPG  \n",
            "  inflating: Potato/Train/Potato___Late_blight/d4463dcb-ae91-4329-8c6d-6da1eecbaaac___RS_LB 2788.JPG  \n",
            "  inflating: Potato/Train/Potato___Late_blight/d4486c3c-6d93-4d08-a3f5-7f4ae1f7ef3b___RS_LB 2829.JPG  \n",
            "  inflating: Potato/Train/Potato___Late_blight/d4d37fcb-95c0-4e20-809c-6b92e6a565f3___RS_LB 5110.JPG  \n",
            "  inflating: Potato/Train/Potato___Late_blight/d50d5ba8-c809-431c-8cc1-e297bc2706f7___RS_LB 4467.JPG  \n",
            "  inflating: Potato/Train/Potato___Late_blight/d5a52702-2160-4f20-a1d8-49db59f83f9a___RS_LB 3213.JPG  \n",
            "  inflating: Potato/Train/Potato___Late_blight/d5bf2575-1e57-4792-81a1-5770e701be1b___RS_LB 3209.JPG  \n",
            "  inflating: Potato/Train/Potato___Late_blight/d5f14365-91a1-41e4-95a5-9ae88c3ff4d6___RS_LB 5163.JPG  \n",
            "  inflating: Potato/Train/Potato___Late_blight/d648ee66-d38a-4df0-8696-c6fe5490a15b___RS_LB 4144.JPG  \n",
            "  inflating: Potato/Train/Potato___Late_blight/d66ee513-26cc-4676-8aeb-9902e0969d2b___RS_LB 3999.JPG  \n",
            "  inflating: Potato/Train/Potato___Late_blight/d6a4ae30-77a6-458c-99e4-c817e7234aa3___RS_LB 4706.JPG  \n",
            "  inflating: Potato/Train/Potato___Late_blight/d6fd274a-f184-482f-8043-b2fff10644ee___RS_LB 3962.JPG  \n",
            "  inflating: Potato/Train/Potato___Late_blight/d71490c0-7315-4301-b9cd-19de9357a2f7___RS_LB 3203.JPG  \n",
            "  inflating: Potato/Train/Potato___Late_blight/d752ca70-320b-4d33-970f-8f3eead9141e___RS_LB 3166.JPG  \n",
            "  inflating: Potato/Train/Potato___Late_blight/d78c58b2-c9d1-43f2-8b18-4455855c0f1f___RS_LB 3288.JPG  \n",
            "  inflating: Potato/Train/Potato___Late_blight/d7e7afff-cb91-4209-bf42-ce579f273cce___RS_LB 4468.JPG  \n",
            "  inflating: Potato/Train/Potato___Late_blight/d7ef98cc-2d20-42ef-983a-5e45805a8ee6___RS_LB 3841.JPG  \n",
            "  inflating: Potato/Train/Potato___Late_blight/d7fdf2fa-8a55-4ff5-86a2-ca73c5883e93___RS_LB 4665.JPG  \n",
            "  inflating: Potato/Train/Potato___Late_blight/d80e59e3-a88d-4c32-8dd1-a23a6fed45ae___RS_LB 2846.JPG  \n",
            "  inflating: Potato/Train/Potato___Late_blight/d8580222-d6c2-4519-94f2-f59c2d613d8b___RS_LB 4158.JPG  \n",
            "  inflating: Potato/Train/Potato___Late_blight/d879aaf6-d557-4607-b7a0-ecbb3761f152___RS_LB 4723.JPG  \n",
            "  inflating: Potato/Train/Potato___Late_blight/d8e3b97f-d362-4e05-8600-a103580aace4___RS_LB 4773.JPG  \n",
            "  inflating: Potato/Train/Potato___Late_blight/d8ef0e69-3dfc-4d13-8d49-a44fa9cfa62e___RS_LB 4140.JPG  \n",
            "  inflating: Potato/Train/Potato___Late_blight/d94eae91-7d2e-4394-b892-8c8c7fa9cf11___RS_LB 4864.JPG  \n",
            "  inflating: Potato/Train/Potato___Late_blight/d9817cc3-ef03-41e5-8892-1fddd27b7bcc___RS_LB 4878.JPG  \n",
            "  inflating: Potato/Train/Potato___Late_blight/d98195f0-bdf8-4e0d-9fd5-af86cfed2a6c___RS_LB 4790.JPG  \n",
            "  inflating: Potato/Train/Potato___Late_blight/d992e6d3-25c9-4bbb-a806-8bc1455e5c40___RS_LB 4968.JPG  \n",
            "  inflating: Potato/Train/Potato___Late_blight/d994fd7e-a338-42c5-ac37-ede01c18999e___RS_LB 5134.JPG  \n",
            "  inflating: Potato/Train/Potato___Late_blight/d99f0d05-6ee3-440c-9dc6-48f7ba2bfc24___RS_LB 2654.JPG  \n",
            "  inflating: Potato/Train/Potato___Late_blight/da16cb94-4f1d-4390-b446-19eac2110115___RS_LB 2912.JPG  \n",
            "  inflating: Potato/Train/Potato___Late_blight/dac19eb9-e4e3-4ca1-8183-268b839901c4___RS_LB 5208.JPG  \n",
            "  inflating: Potato/Train/Potato___Late_blight/dac53cd2-477e-4f7b-a59d-bb9018eec686___RS_LB 2879.JPG  \n",
            "  inflating: Potato/Train/Potato___Late_blight/dae7db93-d197-4616-a16b-5dcc59058bc2___RS_LB 3178.JPG  \n",
            "  inflating: Potato/Train/Potato___Late_blight/db973ce3-7198-4ae8-910a-bb1a3046e353___RS_LB 5152.JPG  \n",
            "  inflating: Potato/Train/Potato___Late_blight/dbad8fb5-90a0-4bcc-902e-7b7b632d0233___RS_LB 4036.JPG  \n",
            "  inflating: Potato/Train/Potato___Late_blight/dbbd22b5-a565-470a-9e72-2c7d7c26dbe5___RS_LB 4932.JPG  \n",
            "  inflating: Potato/Train/Potato___Late_blight/dc0ad08c-a096-4ad2-9a69-597c10e12f71___RS_LB 4869.JPG  \n",
            "  inflating: Potato/Train/Potato___Late_blight/dc289122-aa0d-454b-b617-16824440fce4___RS_LB 2959.JPG  \n",
            "  inflating: Potato/Train/Potato___Late_blight/dce12e0f-6f9d-4c29-ad7a-5e8216b690e0___RS_LB 4721.JPG  \n",
            "  inflating: Potato/Train/Potato___Late_blight/dcf61d08-eda8-41c1-9293-43895d68b426___RS_LB 4372.JPG  \n",
            "  inflating: Potato/Train/Potato___Late_blight/dcfa79c3-b0d0-4dd0-9796-5d529948b88e___RS_LB 5437.JPG  \n",
            "  inflating: Potato/Train/Potato___Late_blight/dd08ad51-110b-4de0-bfbb-862e53a6165c___RS_LB 4542.JPG  \n",
            "  inflating: Potato/Train/Potato___Late_blight/dd36e5d1-434f-41ce-8f7b-6528e9adc77d___RS_LB 4060.JPG  \n",
            "  inflating: Potato/Train/Potato___Late_blight/dd55ba8d-a425-4b06-9996-bbf315d71e6e___RS_LB 2737.JPG  \n",
            "  inflating: Potato/Train/Potato___Late_blight/dd730e05-5196-46f4-9e7b-0c01a9fdaa1b___RS_LB 3321.JPG  \n",
            "  inflating: Potato/Train/Potato___Late_blight/dd9b9122-fd29-4986-9dc3-330d4a48ccc3___RS_LB 5290.JPG  \n",
            "  inflating: Potato/Train/Potato___Late_blight/de0ae213-3479-4f07-b7f8-d59607a2caa8___RS_LB 2528.JPG  \n",
            "  inflating: Potato/Train/Potato___Late_blight/de282779-9d54-4b8f-8292-e06c3e020e16___RS_LB 3971.JPG  \n",
            "  inflating: Potato/Train/Potato___Late_blight/de54e40d-4c5f-48d9-9b6d-bc96bde09898___RS_LB 4086.JPG  \n",
            "  inflating: Potato/Train/Potato___Late_blight/de63bbba-d8d0-4e74-95d7-6d5adfcd0955___RS_LB 3222.JPG  \n",
            "  inflating: Potato/Train/Potato___Late_blight/def9c9e1-fd12-44d9-92ae-18c5ff0f52da___RS_LB 2605.JPG  \n",
            "  inflating: Potato/Train/Potato___Late_blight/df0f75cf-febd-4fde-84a0-7c4da9f97fd2___RS_LB 2534.JPG  \n",
            "  inflating: Potato/Train/Potato___Late_blight/df40ffa7-8efd-4720-8786-a30b9011dcfc___RS_LB 4150.JPG  \n",
            "  inflating: Potato/Train/Potato___Late_blight/df5eb1ff-9261-45ab-ae3f-bf942cdf1a72___RS_LB 2947.JPG  \n",
            "  inflating: Potato/Train/Potato___Late_blight/df60df5b-a619-4b38-926d-6372c0f6329a___RS_LB 5308.JPG  \n",
            "  inflating: Potato/Train/Potato___Late_blight/df6898c4-f3a1-4ff2-8f44-3bc45a8d4ec5___RS_LB 3316.JPG  \n",
            "  inflating: Potato/Train/Potato___Late_blight/df919a28-9f11-42f6-823c-15f70bf1325e___RS_LB 4936.JPG  \n",
            "  inflating: Potato/Train/Potato___Late_blight/dfa65276-0450-4a57-ba94-25384d378f22___RS_LB 4065.JPG  \n",
            "  inflating: Potato/Train/Potato___Late_blight/e01f9ba8-74b9-48d8-b96c-ac48463a4d29___RS_LB 2857.JPG  \n",
            "  inflating: Potato/Train/Potato___Late_blight/e0460bd7-100c-411f-ae0b-f69bfe360313___RS_LB 5310.JPG  \n",
            "  inflating: Potato/Train/Potato___Late_blight/e08c2b56-3a54-4fcc-b814-85c55020278b___RS_LB 3991.JPG  \n",
            "  inflating: Potato/Train/Potato___Late_blight/e0a085c0-20e4-4e36-87db-49f0b58fa349___RS_LB 4324.JPG  \n",
            "  inflating: Potato/Train/Potato___Late_blight/e0a559bf-6345-4c5a-8b42-5545b52a2f1b___RS_LB 5456.JPG  \n",
            "  inflating: Potato/Train/Potato___Late_blight/e0c879c8-ebf3-43d0-9693-7a747fb5ba75___RS_LB 3956.JPG  \n",
            "  inflating: Potato/Train/Potato___Late_blight/e0d0ea5a-242d-4d1c-9df1-0cc592d75e48___RS_LB 3011.JPG  \n",
            "  inflating: Potato/Train/Potato___Late_blight/e0e15d89-8c3b-43f5-8617-136b720e39cd___RS_LB 2668.JPG  \n",
            "  inflating: Potato/Train/Potato___Late_blight/e10ce839-9da1-4f23-9b5e-c5483f6eabbd___RS_LB 5328.JPG  \n",
            "  inflating: Potato/Train/Potato___Late_blight/e1197d2d-980a-45b1-9ab1-5b7cc36660bc___RS_LB 3885.JPG  \n",
            "  inflating: Potato/Train/Potato___Late_blight/e12ede80-8428-4424-b95d-5d3267d112a8___RS_LB 3079.JPG  \n",
            "  inflating: Potato/Train/Potato___Late_blight/e19d0007-3013-419d-a46a-0b1919f05cc4___RS_LB 4057.JPG  \n",
            "  inflating: Potato/Train/Potato___Late_blight/e231f522-dd72-4fbd-94b4-5b4d7b935269___RS_LB 4131.JPG  \n",
            "  inflating: Potato/Train/Potato___Late_blight/e2326741-ee59-4e3c-86bf-9e81ccf50b6b___RS_LB 4147.JPG  \n",
            "  inflating: Potato/Train/Potato___Late_blight/e25a378e-0aa3-4ac6-b0b1-281a500b9502___RS_LB 4835.JPG  \n",
            "  inflating: Potato/Train/Potato___Late_blight/e25e57fb-41d5-4f46-92f7-ce841bd97374___RS_LB 5448.JPG  \n",
            "  inflating: Potato/Train/Potato___Late_blight/e26ad557-11c8-44fd-aad1-dea51c613742___RS_LB 5115.JPG  \n",
            "  inflating: Potato/Train/Potato___Late_blight/e28b4ead-09f5-4e34-a162-0e0268f53763___RS_LB 2583.JPG  \n",
            "  inflating: Potato/Train/Potato___Late_blight/e2ce6696-9f6e-445c-a6c6-c765d659447a___RS_LB 4960.JPG  \n",
            "  inflating: Potato/Train/Potato___Late_blight/e2d4d58b-8754-4c63-b888-8355ddbcb989___RS_LB 4863.JPG  \n",
            "  inflating: Potato/Train/Potato___Late_blight/e36ccebd-29c6-466d-b46f-41fa38f6e9c0___RS_LB 5047.JPG  \n",
            "  inflating: Potato/Train/Potato___Late_blight/e3d4df7f-f184-453e-8a99-3cb0de5a2488___RS_LB 3959.JPG  \n",
            "  inflating: Potato/Train/Potato___Late_blight/e40a1e10-fca8-4831-b124-48bc07f92eb1___RS_LB 2897.JPG  \n",
            "  inflating: Potato/Train/Potato___Late_blight/e439b96c-2ff6-4d53-b8f0-1ed720536b0c___RS_LB 4449.JPG  \n",
            "  inflating: Potato/Train/Potato___Late_blight/e465af98-028c-4222-b300-d9688b613d89___RS_LB 5137.JPG  \n",
            "  inflating: Potato/Train/Potato___Late_blight/e4735c8f-e6da-46a1-b0fe-b1d2355a1bd4___RS_LB 2796.JPG  \n",
            "  inflating: Potato/Train/Potato___Late_blight/e47b3a9a-24ea-460a-8a8f-4fc9814a072e___RS_LB 3314.JPG  \n",
            "  inflating: Potato/Train/Potato___Late_blight/e48ffe4c-d920-4559-83ab-62d9d881d787___RS_LB 4129.JPG  \n",
            "  inflating: Potato/Train/Potato___Late_blight/e4a264b9-fbae-4f38-86ce-d0a7d70e92e1___RS_LB 5211.JPG  \n",
            "  inflating: Potato/Train/Potato___Late_blight/e4d454e4-c1e4-4597-8e76-77a93465b41d___RS_LB 2868.JPG  \n",
            "  inflating: Potato/Train/Potato___Late_blight/e575421c-a9d4-4c0e-8027-b12fca1e3ac9___RS_LB 2806.JPG  \n",
            "  inflating: Potato/Train/Potato___Late_blight/e6d7f5aa-d176-4e43-9e0c-afc2901442f6___RS_LB 3066.JPG  \n",
            "  inflating: Potato/Train/Potato___Late_blight/e71a27b3-20d5-40e8-ad01-4c1942d46654___RS_LB 4085.JPG  \n",
            "  inflating: Potato/Train/Potato___Late_blight/e749122f-0dcc-4613-87a9-5347a51a7b58___RS_LB 4409.JPG  \n",
            "  inflating: Potato/Train/Potato___Late_blight/e766a563-c87a-4d14-ae00-898ce62e15d4___RS_LB 5123.JPG  \n",
            "  inflating: Potato/Train/Potato___Late_blight/e7e39ba3-b9af-4d5f-afb1-aea45e13446a___RS_LB 2876.JPG  \n",
            "  inflating: Potato/Train/Potato___Late_blight/e8040f51-18ed-43ec-9fa3-b5eb972f4fec___RS_LB 2527.JPG  \n",
            "  inflating: Potato/Train/Potato___Late_blight/e9429874-1098-43af-bc38-0acc0b93f4f9___RS_LB 2682.JPG  \n",
            "  inflating: Potato/Train/Potato___Late_blight/e956d757-4016-4d20-96a6-6844787ddc46___RS_LB 4815.JPG  \n",
            "  inflating: Potato/Train/Potato___Late_blight/e95f2954-1b68-490d-9684-90b3080676b1___RS_LB 3997.JPG  \n",
            "  inflating: Potato/Train/Potato___Late_blight/e9642678-b019-4ac2-a960-66fcccb2ccaa___RS_LB 2948.JPG  \n",
            "  inflating: Potato/Train/Potato___Late_blight/e986907b-6948-4c72-93d3-29cb795cc9a1___RS_LB 3837.JPG  \n",
            "  inflating: Potato/Train/Potato___Late_blight/e9cc84b7-fc38-4e65-a129-c7a63df76780___RS_LB 2705.JPG  \n",
            "  inflating: Potato/Train/Potato___Late_blight/ea06da1e-81c9-4e2e-8266-1f3d56914ff3___RS_LB 2701.JPG  \n",
            "  inflating: Potato/Train/Potato___Late_blight/ea2bb076-a483-4570-88ac-8ab236d4bb92___RS_LB 2503.JPG  \n",
            "  inflating: Potato/Train/Potato___Late_blight/ea350085-28c1-4fc0-9fb9-386536cb971e___RS_LB 4890.JPG  \n",
            "  inflating: Potato/Train/Potato___Late_blight/ea356b9c-9090-4f0d-9083-d1f63c77372d___RS_LB 2800.JPG  \n",
            "  inflating: Potato/Train/Potato___Late_blight/ea542556-e7f6-416c-8451-149916f4574e___RS_LB 3086.JPG  \n",
            "  inflating: Potato/Train/Potato___Late_blight/ea5fc080-37a7-4954-ba8c-a5d67b6a0962___RS_LB 2888.JPG  \n",
            "  inflating: Potato/Train/Potato___Late_blight/ea620852-7590-4d82-8349-1470cb1fe3a8___RS_LB 2719.JPG  \n",
            "  inflating: Potato/Train/Potato___Late_blight/eb2bd15b-a92b-4302-98a1-bbc13a0f95bb___RS_LB 2671.JPG  \n",
            "  inflating: Potato/Train/Potato___Late_blight/eb34280e-0cfb-4166-a9b8-a15892c9ff5c___RS_LB 4450.JPG  \n",
            "  inflating: Potato/Train/Potato___Late_blight/eb5ff6de-b988-42d7-87bf-374a4b938af9___RS_LB 4234.JPG  \n",
            "  inflating: Potato/Train/Potato___Late_blight/ebd47dca-590b-43c4-812d-32f95b776690___RS_LB 3834.JPG  \n",
            "  inflating: Potato/Train/Potato___Late_blight/ec53a246-df50-44c1-a87c-c8296f25f20c___RS_LB 4717.JPG  \n",
            "  inflating: Potato/Train/Potato___Late_blight/ec5974a3-4c73-4129-a372-8ddec73eb246___RS_LB 3034.JPG  \n",
            "  inflating: Potato/Train/Potato___Late_blight/ec88be1e-7e05-4fa4-b456-529d7f1bf81c___RS_LB 3922.JPG  \n",
            "  inflating: Potato/Train/Potato___Late_blight/ec958877-f479-4c8c-a947-3686039f8921___RS_LB 2587.JPG  \n",
            "  inflating: Potato/Train/Potato___Late_blight/ecfc161f-11f6-449f-80c1-1b0254f5179a___RS_LB 4279.JPG  \n",
            "  inflating: Potato/Train/Potato___Late_blight/ed2d2803-3b9b-4c3c-ab8a-9aea2bf76ffd___RS_LB 5190.JPG  \n",
            "  inflating: Potato/Train/Potato___Late_blight/ede8e8be-6d71-466e-918e-44afa1403e30___RS_LB 5455.JPG  \n",
            "  inflating: Potato/Train/Potato___Late_blight/ee09546f-d7cd-4af9-9445-41745638c9c3___RS_LB 4471.JPG  \n",
            "  inflating: Potato/Train/Potato___Late_blight/ee1e965f-2bee-4a7a-8356-1118c9e41cd3___RS_LB 4120.JPG  \n",
            "  inflating: Potato/Train/Potato___Late_blight/ef48ec23-0655-43d7-9475-8e73086033a2___RS_LB 5219.JPG  \n",
            "  inflating: Potato/Train/Potato___Late_blight/ef49abc4-4b8e-4438-88a9-b3acfdb52014___RS_LB 2623.JPG  \n",
            "  inflating: Potato/Train/Potato___Late_blight/f07f6548-70d6-4f8c-81e6-d8193c19061b___RS_LB 4984.JPG  \n",
            "  inflating: Potato/Train/Potato___Late_blight/f083d357-23f8-45e6-9fac-87e5d0ab9cac___RS_LB 3317.JPG  \n",
            "  inflating: Potato/Train/Potato___Late_blight/f14f54ba-3706-4f6e-8152-01226e55c86e___RS_LB 4237.JPG  \n",
            "  inflating: Potato/Train/Potato___Late_blight/f1764cd0-d391-4214-93db-20299d62e853___RS_LB 3012.JPG  \n",
            "  inflating: Potato/Train/Potato___Late_blight/f18c34fd-e43a-4338-b3f3-6537f2f84f98___RS_LB 4111.JPG  \n",
            "  inflating: Potato/Train/Potato___Late_blight/f1a2b03a-d724-4f81-a8d7-d7f38f26ea29___RS_LB 3039.JPG  \n",
            "  inflating: Potato/Train/Potato___Late_blight/f1b1a037-34e4-4016-a0bc-703059820f24___RS_LB 4343.JPG  \n",
            "  inflating: Potato/Train/Potato___Late_blight/f2676f08-798e-4291-8aa2-0655ca54cb07___RS_LB 4292.JPG  \n",
            "  inflating: Potato/Train/Potato___Late_blight/f27d1c83-25e9-4ab8-8970-3ddfd2a4c6fc___RS_LB 3230.JPG  \n",
            "  inflating: Potato/Train/Potato___Late_blight/f2bfd338-f718-4794-a115-3337a0669988___RS_LB 2944.JPG  \n",
            "  inflating: Potato/Train/Potato___Late_blight/f37f6160-4f5b-447f-b497-cc6eb7662e3b___RS_LB 4951.JPG  \n",
            "  inflating: Potato/Train/Potato___Late_blight/f3ee2886-4ada-4287-94b6-c4c93005b887___RS_LB 4352.JPG  \n",
            "  inflating: Potato/Train/Potato___Late_blight/f46c0317-fc28-4b5b-a09d-b52ef54fae67___RS_LB 3889.JPG  \n",
            "  inflating: Potato/Train/Potato___Late_blight/f477f5a9-90cf-416b-8a3d-782ea2365c9f___RS_LB 3884.JPG  \n",
            "  inflating: Potato/Train/Potato___Late_blight/f4e0bb0f-5f98-497c-a090-4e4c47f6707b___RS_LB 5153.JPG  \n",
            "  inflating: Potato/Train/Potato___Late_blight/f4e6847d-d381-4849-9ff1-930cfb597d08___RS_LB 5097.JPG  \n",
            "  inflating: Potato/Train/Potato___Late_blight/f528b00d-99a6-41db-8d96-9eed58b519c1___RS_LB 4544.JPG  \n",
            "  inflating: Potato/Train/Potato___Late_blight/f528e881-b237-4797-ab54-0152eb901f53___RS_LB 3854.JPG  \n",
            "  inflating: Potato/Train/Potato___Late_blight/f5ad9b49-ea3a-46c0-8a54-d4e0aa76eda4___RS_LB 4379.JPG  \n",
            "  inflating: Potato/Train/Potato___Late_blight/f5cf6151-96d1-49bb-af1b-fa6026d749e8___RS_LB 4048.JPG  \n",
            "  inflating: Potato/Train/Potato___Late_blight/f5f41985-23db-4902-96a1-db4d7f95a26a___RS_LB 3177.JPG  \n",
            "  inflating: Potato/Train/Potato___Late_blight/f62c0408-af09-4883-a780-7bd335e60443___RS_LB 5258.JPG  \n",
            "  inflating: Potato/Train/Potato___Late_blight/f68e448a-c2f5-4638-a7cb-45e73083ae4a___RS_LB 3892.JPG  \n",
            "  inflating: Potato/Train/Potato___Late_blight/f7438ce7-c12a-40df-83a1-1ab0cde13bb0___RS_LB 3847.JPG  \n",
            "  inflating: Potato/Train/Potato___Late_blight/f7936082-7315-477d-9710-529a7024b32d___RS_LB 2546.JPG  \n",
            "  inflating: Potato/Train/Potato___Late_blight/f795a3d7-2915-447c-9e6f-df1d895f98bc___RS_LB 2792.JPG  \n",
            "  inflating: Potato/Train/Potato___Late_blight/f7bbae6e-df8d-4f2a-b8b8-52c94d9bf2b5___RS_LB 3212.JPG  \n",
            "  inflating: Potato/Train/Potato___Late_blight/f81452c0-aa6a-4d2e-a4ba-c761a2e7870f___RS_LB 4280.JPG  \n",
            "  inflating: Potato/Train/Potato___Late_blight/f87fce12-78df-4a8c-92ff-8c0b83cc82b9___RS_LB 3025.JPG  \n",
            "  inflating: Potato/Train/Potato___Late_blight/f8d2bf55-3044-4d09-9372-63aa960f1881___RS_LB 2538.JPG  \n",
            "  inflating: Potato/Train/Potato___Late_blight/f9102bc2-7c64-4dd8-afe5-d31db2159899___RS_LB 4401.JPG  \n",
            "  inflating: Potato/Train/Potato___Late_blight/f926e3c1-74bb-4397-85ca-725a54dfaf49___RS_LB 3053.JPG  \n",
            "  inflating: Potato/Train/Potato___Late_blight/f93b9fc8-469b-4a2f-8c0b-ca3d1a093185___RS_LB 3870.JPG  \n",
            "  inflating: Potato/Train/Potato___Late_blight/f95a6bbd-39a3-48e7-a612-8833c2b7b3ff___RS_LB 2784.JPG  \n",
            "  inflating: Potato/Train/Potato___Late_blight/f964b423-2146-4523-9f71-d7937c475bf0___RS_LB 3842.JPG  \n",
            "  inflating: Potato/Train/Potato___Late_blight/f973bbe0-ce70-4215-8d5b-9e7adc099261___RS_LB 2507.JPG  \n",
            "  inflating: Potato/Train/Potato___Late_blight/f9bd5093-1f62-4d00-bb66-7f65ce5c412b___RS_LB 2854.JPG  \n",
            "  inflating: Potato/Train/Potato___Late_blight/f9d861a9-0217-4de2-844f-fd23ccaa9def___RS_LB 3067.JPG  \n",
            "  inflating: Potato/Train/Potato___Late_blight/fabf3179-8fba-4551-93fe-28e7f6c0efc3___RS_LB 3269.JPG  \n",
            "  inflating: Potato/Train/Potato___Late_blight/faf67766-afc0-4f41-af0b-a3971fe325c7___RS_LB 4777.JPG  \n",
            "  inflating: Potato/Train/Potato___Late_blight/fb13e4c8-17e4-48a9-899b-dfc7f302196c___RS_LB 4374.JPG  \n",
            "  inflating: Potato/Train/Potato___Late_blight/fb61ea12-3f1a-4ea3-911b-d830eeb74717___RS_LB 2914.JPG  \n",
            "  inflating: Potato/Train/Potato___Late_blight/fb91b663-6a03-4165-8125-afc96e41ab5c___RS_LB 5130.JPG  \n",
            "  inflating: Potato/Train/Potato___Late_blight/fb9dc049-ec76-4502-9a11-13fb62a26ed4___RS_LB 3916.JPG  \n",
            "  inflating: Potato/Train/Potato___Late_blight/fbe08e9f-d4a0-4a6e-9741-c34fda88b3d2___RS_LB 4540.JPG  \n",
            "  inflating: Potato/Train/Potato___Late_blight/fc748621-bd56-4012-a617-9e30df58ecfc___RS_LB 4402.JPG  \n",
            "  inflating: Potato/Train/Potato___Late_blight/fc759d3f-64c7-4e45-9a0c-5a2f07fd1055___RS_LB 3030.JPG  \n",
            "  inflating: Potato/Train/Potato___Late_blight/fc9b06c8-7c63-445d-9858-a5a0c7be719b___RS_LB 3273.JPG  \n",
            "  inflating: Potato/Train/Potato___Late_blight/fcc8393e-18f5-48c2-bd87-a0dabc151810___RS_LB 4029.JPG  \n",
            "  inflating: Potato/Train/Potato___Late_blight/fd35fb86-6558-40f2-b8ac-6922e2107af5___RS_LB 4095.JPG  \n",
            "  inflating: Potato/Train/Potato___Late_blight/fd81a3e2-1d3e-4e52-a010-ad1b36a5220d___RS_LB 4067.JPG  \n",
            "  inflating: Potato/Train/Potato___Late_blight/fdb4e132-c71b-413f-93c0-c863dd4582a7___RS_LB 2582.JPG  \n",
            "  inflating: Potato/Train/Potato___Late_blight/fdb7d904-91df-4f00-85bd-0fb038723329___RS_LB 2628.JPG  \n",
            "  inflating: Potato/Train/Potato___Late_blight/fdc86644-2491-4ace-b7e3-190e1d68ebba___RS_LB 5129.JPG  \n",
            "  inflating: Potato/Train/Potato___Late_blight/fdf53f6c-db92-48b9-9e06-0358e4114be6___RS_LB 2656.JPG  \n",
            "  inflating: Potato/Train/Potato___Late_blight/fe3eb287-4bb0-4a6f-b50e-253370bd19dd___RS_LB 4073.JPG  \n",
            "  inflating: Potato/Train/Potato___Late_blight/fe4bbe61-ddd7-464f-8aa6-e292b8686c70___RS_LB 2902.JPG  \n",
            "  inflating: Potato/Train/Potato___Late_blight/fe72d959-6788-4b19-9285-e0b2919dc718___RS_LB 2516.JPG  \n",
            "  inflating: Potato/Train/Potato___Late_blight/fe93615b-4160-4956-a65c-cdbc79af2052___RS_LB 5131.JPG  \n",
            "  inflating: Potato/Train/Potato___Late_blight/fe9d57f1-8e00-4069-963a-b344cceca7b3___RS_LB 4486.JPG  \n",
            "  inflating: Potato/Train/Potato___Late_blight/feefc118-4434-4ffb-afbb-02fb292f72b6___RS_LB 2874.JPG  \n",
            "  inflating: Potato/Train/Potato___Late_blight/ff03a125-445b-40e1-a7ed-0bb9b155dfd8___RS_LB 5039.JPG  \n",
            "  inflating: Potato/Train/Potato___Late_blight/ff7160f9-f8d7-4576-82b8-009bf1b63b3b___RS_LB 4974.JPG  \n",
            "  inflating: Potato/Train/Potato___Late_blight/fff55a7e-2f86-4747-8d31-f1fde3c307aa___RS_LB 3081.JPG  \n",
            "  inflating: Potato/Train/Potato___healthy/Potato_healthy-100-_0_2061.jpg  \n",
            "  inflating: Potato/Train/Potato___healthy/Potato_healthy-100-_0_6496.jpg  \n",
            "  inflating: Potato/Train/Potato___healthy/Potato_healthy-100-_0_781.jpg  \n",
            "  inflating: Potato/Train/Potato___healthy/Potato_healthy-100-_0_9807.jpg  \n",
            "  inflating: Potato/Train/Potato___healthy/Potato_healthy-101-_0_2945.jpg  \n",
            "  inflating: Potato/Train/Potato___healthy/Potato_healthy-101-_0_6844.jpg  \n",
            "  inflating: Potato/Train/Potato___healthy/Potato_healthy-101-_0_7343.jpg  \n",
            "  inflating: Potato/Train/Potato___healthy/Potato_healthy-101-_0_8555.jpg  \n",
            "  inflating: Potato/Train/Potato___healthy/Potato_healthy-102-_0_1031.jpg  \n",
            "  inflating: Potato/Train/Potato___healthy/Potato_healthy-102-_0_1242.jpg  \n",
            "  inflating: Potato/Train/Potato___healthy/Potato_healthy-102-_0_1485.jpg  \n",
            "  inflating: Potato/Train/Potato___healthy/Potato_healthy-102-_0_5547.jpg  \n",
            "  inflating: Potato/Train/Potato___healthy/Potato_healthy-103-_0_2503.jpg  \n",
            "  inflating: Potato/Train/Potato___healthy/Potato_healthy-103-_0_3577.jpg  \n",
            "  inflating: Potato/Train/Potato___healthy/Potato_healthy-103-_0_391.jpg  \n",
            "  inflating: Potato/Train/Potato___healthy/Potato_healthy-103-_0_969.jpg  \n",
            "  inflating: Potato/Train/Potato___healthy/Potato_healthy-104-_0_1308.jpg  \n",
            "  inflating: Potato/Train/Potato___healthy/Potato_healthy-104-_0_1763.jpg  \n",
            "  inflating: Potato/Train/Potato___healthy/Potato_healthy-104-_0_4971.jpg  \n",
            "  inflating: Potato/Train/Potato___healthy/Potato_healthy-104-_0_7367.jpg  \n",
            "  inflating: Potato/Train/Potato___healthy/Potato_healthy-105-_0_1247.jpg  \n",
            "  inflating: Potato/Train/Potato___healthy/Potato_healthy-105-_0_135.jpg  \n",
            "  inflating: Potato/Train/Potato___healthy/Potato_healthy-105-_0_2465.jpg  \n",
            "  inflating: Potato/Train/Potato___healthy/Potato_healthy-105-_0_3215.jpg  \n",
            "  inflating: Potato/Train/Potato___healthy/Potato_healthy-106-_0_3656.jpg  \n",
            "  inflating: Potato/Train/Potato___healthy/Potato_healthy-106-_0_3726.jpg  \n",
            "  inflating: Potato/Train/Potato___healthy/Potato_healthy-106-_0_5740.jpg  \n",
            "  inflating: Potato/Train/Potato___healthy/Potato_healthy-106-_0_6848.jpg  \n",
            "  inflating: Potato/Train/Potato___healthy/Potato_healthy-107-_0_4065.jpg  \n",
            "  inflating: Potato/Train/Potato___healthy/Potato_healthy-107-_0_7290.jpg  \n",
            "  inflating: Potato/Train/Potato___healthy/Potato_healthy-107-_0_8773.jpg  \n",
            "  inflating: Potato/Train/Potato___healthy/Potato_healthy-107-_0_9038.jpg  \n",
            "  inflating: Potato/Train/Potato___healthy/Potato_healthy-108-_0_3557.jpg  \n",
            "  inflating: Potato/Train/Potato___healthy/Potato_healthy-108-_0_3679.jpg  \n",
            "  inflating: Potato/Train/Potato___healthy/Potato_healthy-108-_0_4265.jpg  \n",
            "  inflating: Potato/Train/Potato___healthy/Potato_healthy-108-_0_9925.jpg  \n",
            "  inflating: Potato/Train/Potato___healthy/Potato_healthy-109-_0_1222.jpg  \n",
            "  inflating: Potato/Train/Potato___healthy/Potato_healthy-109-_0_1825.jpg  \n",
            "  inflating: Potato/Train/Potato___healthy/Potato_healthy-109-_0_3833.jpg  \n",
            "  inflating: Potato/Train/Potato___healthy/Potato_healthy-109-_0_8248.jpg  \n",
            "  inflating: Potato/Train/Potato___healthy/Potato_healthy-110-_0_2276.jpg  \n",
            "  inflating: Potato/Train/Potato___healthy/Potato_healthy-110-_0_2603.jpg  \n",
            "  inflating: Potato/Train/Potato___healthy/Potato_healthy-110-_0_5933.jpg  \n",
            "  inflating: Potato/Train/Potato___healthy/Potato_healthy-110-_0_7682.jpg  \n",
            "  inflating: Potato/Train/Potato___healthy/Potato_healthy-111-_0_1596.jpg  \n",
            "  inflating: Potato/Train/Potato___healthy/Potato_healthy-111-_0_5138.jpg  \n",
            "  inflating: Potato/Train/Potato___healthy/Potato_healthy-111-_0_5319.jpg  \n",
            "  inflating: Potato/Train/Potato___healthy/Potato_healthy-111-_0_8306.jpg  \n",
            "  inflating: Potato/Train/Potato___healthy/Potato_healthy-112-_0_2810.jpg  \n",
            "  inflating: Potato/Train/Potato___healthy/Potato_healthy-112-_0_3525.jpg  \n",
            "  inflating: Potato/Train/Potato___healthy/Potato_healthy-112-_0_5840.jpg  \n",
            "  inflating: Potato/Train/Potato___healthy/Potato_healthy-112-_0_8907.jpg  \n",
            "  inflating: Potato/Train/Potato___healthy/Potato_healthy-113-_0_1284.jpg  \n",
            "  inflating: Potato/Train/Potato___healthy/Potato_healthy-113-_0_3025.jpg  \n",
            "  inflating: Potato/Train/Potato___healthy/Potato_healthy-113-_0_803.jpg  \n",
            "  inflating: Potato/Train/Potato___healthy/Potato_healthy-113-_0_8320.jpg  \n",
            "  inflating: Potato/Train/Potato___healthy/Potato_healthy-114-_0_1555.jpg  \n",
            "  inflating: Potato/Train/Potato___healthy/Potato_healthy-114-_0_7388.jpg  \n",
            "  inflating: Potato/Train/Potato___healthy/Potato_healthy-114-_0_7492.jpg  \n",
            "  inflating: Potato/Train/Potato___healthy/Potato_healthy-114-_0_8110.jpg  \n",
            "  inflating: Potato/Train/Potato___healthy/Potato_healthy-115-_0_1525.jpg  \n",
            "  inflating: Potato/Train/Potato___healthy/Potato_healthy-115-_0_4188.jpg  \n",
            "  inflating: Potato/Train/Potato___healthy/Potato_healthy-115-_0_5870.jpg  \n",
            "  inflating: Potato/Train/Potato___healthy/Potato_healthy-115-_0_8685.jpg  \n",
            "  inflating: Potato/Train/Potato___healthy/Potato_healthy-116-_0_6203.jpg  \n",
            "  inflating: Potato/Train/Potato___healthy/Potato_healthy-116-_0_6599.jpg  \n",
            "  inflating: Potato/Train/Potato___healthy/Potato_healthy-116-_0_7002.jpg  \n",
            "  inflating: Potato/Train/Potato___healthy/Potato_healthy-116-_0_7408.jpg  \n",
            "  inflating: Potato/Train/Potato___healthy/Potato_healthy-117-_0_2278.jpg  \n",
            "  inflating: Potato/Train/Potato___healthy/Potato_healthy-117-_0_3817.jpg  \n",
            "  inflating: Potato/Train/Potato___healthy/Potato_healthy-117-_0_5235.jpg  \n",
            "  inflating: Potato/Train/Potato___healthy/Potato_healthy-117-_0_9518.jpg  \n",
            "  inflating: Potato/Train/Potato___healthy/Potato_healthy-118-_0_2867.jpg  \n",
            "  inflating: Potato/Train/Potato___healthy/Potato_healthy-118-_0_343.jpg  \n",
            "  inflating: Potato/Train/Potato___healthy/Potato_healthy-118-_0_3622.jpg  \n",
            "  inflating: Potato/Train/Potato___healthy/Potato_healthy-118-_0_760.jpg  \n",
            "  inflating: Potato/Train/Potato___healthy/Potato_healthy-119-_0_3500.jpg  \n",
            "  inflating: Potato/Train/Potato___healthy/Potato_healthy-119-_0_3520.jpg  \n",
            "  inflating: Potato/Train/Potato___healthy/Potato_healthy-119-_0_6991.jpg  \n",
            "  inflating: Potato/Train/Potato___healthy/Potato_healthy-119-_0_9577.jpg  \n",
            "  inflating: Potato/Train/Potato___healthy/Potato_healthy-120-_0_3327.jpg  \n",
            "  inflating: Potato/Train/Potato___healthy/Potato_healthy-120-_0_3562.jpg  \n",
            "  inflating: Potato/Train/Potato___healthy/Potato_healthy-120-_0_7741.jpg  \n",
            "  inflating: Potato/Train/Potato___healthy/Potato_healthy-120-_0_9822.jpg  \n",
            "  inflating: Potato/Train/Potato___healthy/Potato_healthy-121-_0_2679.jpg  \n",
            "  inflating: Potato/Train/Potato___healthy/Potato_healthy-121-_0_5370.jpg  \n",
            "  inflating: Potato/Train/Potato___healthy/Potato_healthy-121-_0_6987.jpg  \n",
            "  inflating: Potato/Train/Potato___healthy/Potato_healthy-121-_0_8939.jpg  \n",
            "  inflating: Potato/Train/Potato___healthy/Potato_healthy-122-_0_1664.jpg  \n",
            "  inflating: Potato/Train/Potato___healthy/Potato_healthy-122-_0_3011.jpg  \n",
            "  inflating: Potato/Train/Potato___healthy/Potato_healthy-122-_0_4305.jpg  \n",
            "  inflating: Potato/Train/Potato___healthy/Potato_healthy-122-_0_9641.jpg  \n",
            "  inflating: Potato/Train/Potato___healthy/Potato_healthy-123-_0_2475.jpg  \n",
            "  inflating: Potato/Train/Potato___healthy/Potato_healthy-123-_0_4015.jpg  \n",
            "  inflating: Potato/Train/Potato___healthy/Potato_healthy-123-_0_5874.jpg  \n",
            "  inflating: Potato/Train/Potato___healthy/Potato_healthy-123-_0_7881.jpg  \n",
            "  inflating: Potato/Train/Potato___healthy/Potato_healthy-124-_0_2846.jpg  \n",
            "  inflating: Potato/Train/Potato___healthy/Potato_healthy-124-_0_50.jpg  \n",
            "  inflating: Potato/Train/Potato___healthy/Potato_healthy-124-_0_7217.jpg  \n",
            "  inflating: Potato/Train/Potato___healthy/Potato_healthy-124-_0_999.jpg  \n",
            "  inflating: Potato/Train/Potato___healthy/Potato_healthy-125-_0_50.jpg  \n",
            "  inflating: Potato/Train/Potato___healthy/Potato_healthy-125-_0_5739.jpg  \n",
            "  inflating: Potato/Train/Potato___healthy/Potato_healthy-125-_0_9331.jpg  \n",
            "  inflating: Potato/Train/Potato___healthy/Potato_healthy-125-_0_9379.jpg  \n",
            "  inflating: Potato/Train/Potato___healthy/Potato_healthy-126-_0_1876.jpg  \n",
            "  inflating: Potato/Train/Potato___healthy/Potato_healthy-126-_0_2490.jpg  \n",
            "  inflating: Potato/Train/Potato___healthy/Potato_healthy-126-_0_7156.jpg  \n",
            "  inflating: Potato/Train/Potato___healthy/Potato_healthy-126-_0_7888.jpg  \n",
            "  inflating: Potato/Train/Potato___healthy/Potato_healthy-127-_0_1140.jpg  \n",
            "  inflating: Potato/Train/Potato___healthy/Potato_healthy-127-_0_116.jpg  \n",
            "  inflating: Potato/Train/Potato___healthy/Potato_healthy-127-_0_4699.jpg  \n",
            "  inflating: Potato/Train/Potato___healthy/Potato_healthy-127-_0_5488.jpg  \n",
            "  inflating: Potato/Train/Potato___healthy/Potato_healthy-128-_0_1528.jpg  \n",
            "  inflating: Potato/Train/Potato___healthy/Potato_healthy-128-_0_4595.jpg  \n",
            "  inflating: Potato/Train/Potato___healthy/Potato_healthy-128-_0_7728.jpg  \n",
            "  inflating: Potato/Train/Potato___healthy/Potato_healthy-128-_0_9511.jpg  \n",
            "  inflating: Potato/Train/Potato___healthy/Potato_healthy-129-_0_1499.jpg  \n",
            "  inflating: Potato/Train/Potato___healthy/Potato_healthy-129-_0_3498.jpg  \n",
            "  inflating: Potato/Train/Potato___healthy/Potato_healthy-129-_0_582.jpg  \n",
            "  inflating: Potato/Train/Potato___healthy/Potato_healthy-129-_0_6943.jpg  \n",
            "  inflating: Potato/Train/Potato___healthy/Potato_healthy-130-_0_1600.jpg  \n",
            "  inflating: Potato/Train/Potato___healthy/Potato_healthy-130-_0_3286.jpg  \n",
            "  inflating: Potato/Train/Potato___healthy/Potato_healthy-130-_0_4327.jpg  \n",
            "  inflating: Potato/Train/Potato___healthy/Potato_healthy-130-_0_5106.jpg  \n",
            "  inflating: Potato/Train/Potato___healthy/Potato_healthy-131-_0_1918.jpg  \n",
            "  inflating: Potato/Train/Potato___healthy/Potato_healthy-131-_0_4532.jpg  \n",
            "  inflating: Potato/Train/Potato___healthy/Potato_healthy-131-_0_685.jpg  \n",
            "  inflating: Potato/Train/Potato___healthy/Potato_healthy-131-_0_9663.jpg  \n",
            "  inflating: Potato/Train/Potato___healthy/Potato_healthy-132-_0_3632.jpg  \n",
            "  inflating: Potato/Train/Potato___healthy/Potato_healthy-132-_0_4861.jpg  \n",
            "  inflating: Potato/Train/Potato___healthy/Potato_healthy-132-_0_5862.jpg  \n",
            "  inflating: Potato/Train/Potato___healthy/Potato_healthy-132-_0_7931.jpg  \n",
            "  inflating: Potato/Train/Potato___healthy/Potato_healthy-133-_0_1971.jpg  \n",
            "  inflating: Potato/Train/Potato___healthy/Potato_healthy-133-_0_645.jpg  \n",
            "  inflating: Potato/Train/Potato___healthy/Potato_healthy-133-_0_649.jpg  \n",
            "  inflating: Potato/Train/Potato___healthy/Potato_healthy-133-_0_7234.jpg  \n",
            "  inflating: Potato/Train/Potato___healthy/Potato_healthy-134-_0_2152.jpg  \n",
            "  inflating: Potato/Train/Potato___healthy/Potato_healthy-134-_0_5916.jpg  \n",
            "  inflating: Potato/Train/Potato___healthy/Potato_healthy-134-_0_6239.jpg  \n",
            "  inflating: Potato/Train/Potato___healthy/Potato_healthy-134-_0_7062.jpg  \n",
            "  inflating: Potato/Train/Potato___healthy/Potato_healthy-135-_0_1329.jpg  \n",
            "  inflating: Potato/Train/Potato___healthy/Potato_healthy-135-_0_2200.jpg  \n",
            "  inflating: Potato/Train/Potato___healthy/Potato_healthy-135-_0_5298.jpg  \n",
            "  inflating: Potato/Train/Potato___healthy/Potato_healthy-135-_0_6795.jpg  \n",
            "  inflating: Potato/Train/Potato___healthy/Potato_healthy-136-_0_3353.jpg  \n",
            "  inflating: Potato/Train/Potato___healthy/Potato_healthy-136-_0_7754.jpg  \n",
            "  inflating: Potato/Train/Potato___healthy/Potato_healthy-136-_0_8505.jpg  \n",
            "  inflating: Potato/Train/Potato___healthy/Potato_healthy-136-_0_8591.jpg  \n",
            "  inflating: Potato/Train/Potato___healthy/Potato_healthy-137-_0_4027.jpg  \n",
            "  inflating: Potato/Train/Potato___healthy/Potato_healthy-137-_0_7194.jpg  \n",
            "  inflating: Potato/Train/Potato___healthy/Potato_healthy-137-_0_7407.jpg  \n",
            "  inflating: Potato/Train/Potato___healthy/Potato_healthy-137-_0_823.jpg  \n",
            "  inflating: Potato/Train/Potato___healthy/Potato_healthy-138-_0_3052.jpg  \n",
            "  inflating: Potato/Train/Potato___healthy/Potato_healthy-138-_0_6091.jpg  \n",
            "  inflating: Potato/Train/Potato___healthy/Potato_healthy-138-_0_817.jpg  \n",
            "  inflating: Potato/Train/Potato___healthy/Potato_healthy-138-_0_8894.jpg  \n",
            "  inflating: Potato/Train/Potato___healthy/Potato_healthy-139-_0_5401.jpg  \n",
            "  inflating: Potato/Train/Potato___healthy/Potato_healthy-139-_0_5934.jpg  \n",
            "  inflating: Potato/Train/Potato___healthy/Potato_healthy-139-_0_6258.jpg  \n",
            "  inflating: Potato/Train/Potato___healthy/Potato_healthy-139-_0_7450.jpg  \n",
            "  inflating: Potato/Train/Potato___healthy/Potato_healthy-140-_0_2131.jpg  \n",
            "  inflating: Potato/Train/Potato___healthy/Potato_healthy-140-_0_4811.jpg  \n",
            "  inflating: Potato/Train/Potato___healthy/Potato_healthy-140-_0_4978.jpg  \n",
            "  inflating: Potato/Train/Potato___healthy/Potato_healthy-140-_0_6528.jpg  \n",
            "  inflating: Potato/Train/Potato___healthy/Potato_healthy-141-_0_1735.jpg  \n",
            "  inflating: Potato/Train/Potato___healthy/Potato_healthy-141-_0_4285.jpg  \n",
            "  inflating: Potato/Train/Potato___healthy/Potato_healthy-141-_0_669.jpg  \n",
            "  inflating: Potato/Train/Potato___healthy/Potato_healthy-141-_0_8399.jpg  \n",
            "  inflating: Potato/Train/Potato___healthy/Potato_healthy-142-_0_4668.jpg  \n",
            "  inflating: Potato/Train/Potato___healthy/Potato_healthy-142-_0_7619.jpg  \n",
            "  inflating: Potato/Train/Potato___healthy/Potato_healthy-142-_0_8891.jpg  \n",
            "  inflating: Potato/Train/Potato___healthy/Potato_healthy-142-_0_9295.jpg  \n",
            "  inflating: Potato/Train/Potato___healthy/Potato_healthy-143-_0_1483.jpg  \n",
            "  inflating: Potato/Train/Potato___healthy/Potato_healthy-143-_0_2100.jpg  \n",
            "  inflating: Potato/Train/Potato___healthy/Potato_healthy-143-_0_6977.jpg  \n",
            "  inflating: Potato/Train/Potato___healthy/Potato_healthy-143-_0_7619.jpg  \n",
            "  inflating: Potato/Train/Potato___healthy/Potato_healthy-144-_0_1482.jpg  \n",
            "  inflating: Potato/Train/Potato___healthy/Potato_healthy-144-_0_7561.jpg  \n",
            "  inflating: Potato/Train/Potato___healthy/Potato_healthy-144-_0_8422.jpg  \n",
            "  inflating: Potato/Train/Potato___healthy/Potato_healthy-144-_0_9253.jpg  \n",
            "  inflating: Potato/Train/Potato___healthy/Potato_healthy-145-_0_2509.jpg  \n",
            "  inflating: Potato/Train/Potato___healthy/Potato_healthy-145-_0_2752.jpg  \n",
            "  inflating: Potato/Train/Potato___healthy/Potato_healthy-145-_0_3641.jpg  \n",
            "  inflating: Potato/Train/Potato___healthy/Potato_healthy-145-_0_5007.jpg  \n",
            "  inflating: Potato/Train/Potato___healthy/Potato_healthy-146-_0_2806.jpg  \n",
            "  inflating: Potato/Train/Potato___healthy/Potato_healthy-146-_0_3702.jpg  \n",
            "  inflating: Potato/Train/Potato___healthy/Potato_healthy-146-_0_665.jpg  \n",
            "  inflating: Potato/Train/Potato___healthy/Potato_healthy-146-_0_9879.jpg  \n",
            "  inflating: Potato/Train/Potato___healthy/Potato_healthy-147-_0_1286.jpg  \n",
            "  inflating: Potato/Train/Potato___healthy/Potato_healthy-147-_0_547.jpg  \n",
            "  inflating: Potato/Train/Potato___healthy/Potato_healthy-147-_0_6777.jpg  \n",
            "  inflating: Potato/Train/Potato___healthy/Potato_healthy-147-_0_7690.jpg  \n",
            "  inflating: Potato/Train/Potato___healthy/Potato_healthy-148-_0_4600.jpg  \n",
            "  inflating: Potato/Train/Potato___healthy/Potato_healthy-148-_0_525.jpg  \n",
            "  inflating: Potato/Train/Potato___healthy/Potato_healthy-148-_0_7740.jpg  \n",
            "  inflating: Potato/Train/Potato___healthy/Potato_healthy-148-_0_9372.jpg  \n",
            "  inflating: Potato/Train/Potato___healthy/Potato_healthy-149-_0_3442.jpg  \n",
            "  inflating: Potato/Train/Potato___healthy/Potato_healthy-149-_0_4500.jpg  \n",
            "  inflating: Potato/Train/Potato___healthy/Potato_healthy-149-_0_6348.jpg  \n",
            "  inflating: Potato/Train/Potato___healthy/Potato_healthy-149-_0_7325.jpg  \n",
            "  inflating: Potato/Train/Potato___healthy/Potato_healthy-150-_0_2107.jpg  \n",
            "  inflating: Potato/Train/Potato___healthy/Potato_healthy-150-_0_6986.jpg  \n",
            "  inflating: Potato/Train/Potato___healthy/Potato_healthy-150-_0_8574.jpg  \n",
            "  inflating: Potato/Train/Potato___healthy/Potato_healthy-150-_0_988.jpg  \n",
            "  inflating: Potato/Train/Potato___healthy/Potato_healthy-76-_0_2420.jpg  \n",
            "  inflating: Potato/Train/Potato___healthy/Potato_healthy-76-_0_6833.jpg  \n",
            "  inflating: Potato/Train/Potato___healthy/Potato_healthy-76-_0_7539.jpg  \n",
            "  inflating: Potato/Train/Potato___healthy/Potato_healthy-76-_0_8496.jpg  \n",
            "  inflating: Potato/Train/Potato___healthy/Potato_healthy-77-_0_1895.jpg  \n",
            "  inflating: Potato/Train/Potato___healthy/Potato_healthy-77-_0_2426.jpg  \n",
            "  inflating: Potato/Train/Potato___healthy/Potato_healthy-77-_0_3620.jpg  \n",
            "  inflating: Potato/Train/Potato___healthy/Potato_healthy-77-_0_9977.jpg  \n",
            "  inflating: Potato/Train/Potato___healthy/Potato_healthy-78-_0_3384.jpg  \n",
            "  inflating: Potato/Train/Potato___healthy/Potato_healthy-78-_0_547.jpg  \n",
            "  inflating: Potato/Train/Potato___healthy/Potato_healthy-78-_0_7756.jpg  \n",
            "  inflating: Potato/Train/Potato___healthy/Potato_healthy-78-_0_9784.jpg  \n",
            "  inflating: Potato/Train/Potato___healthy/Potato_healthy-79-_0_3185.jpg  \n",
            "  inflating: Potato/Train/Potato___healthy/Potato_healthy-79-_0_5464.jpg  \n",
            "  inflating: Potato/Train/Potato___healthy/Potato_healthy-79-_0_8561.jpg  \n",
            "  inflating: Potato/Train/Potato___healthy/Potato_healthy-79-_0_9790.jpg  \n",
            "  inflating: Potato/Train/Potato___healthy/Potato_healthy-80-_0_623.jpg  \n",
            "  inflating: Potato/Train/Potato___healthy/Potato_healthy-80-_0_7484.jpg  \n",
            "  inflating: Potato/Train/Potato___healthy/Potato_healthy-80-_0_8328.jpg  \n",
            "  inflating: Potato/Train/Potato___healthy/Potato_healthy-80-_0_9349.jpg  \n",
            "  inflating: Potato/Train/Potato___healthy/Potato_healthy-81-_0_7043.jpg  \n",
            "  inflating: Potato/Train/Potato___healthy/Potato_healthy-81-_0_739.jpg  \n",
            "  inflating: Potato/Train/Potato___healthy/Potato_healthy-81-_0_894.jpg  \n",
            "  inflating: Potato/Train/Potato___healthy/Potato_healthy-81-_0_90.jpg  \n",
            "  inflating: Potato/Train/Potato___healthy/Potato_healthy-82-_0_434.jpg  \n",
            "  inflating: Potato/Train/Potato___healthy/Potato_healthy-82-_0_7714.jpg  \n",
            "  inflating: Potato/Train/Potato___healthy/Potato_healthy-82-_0_9934.jpg  \n",
            "  inflating: Potato/Train/Potato___healthy/Potato_healthy-82-_0_9977.jpg  \n",
            "  inflating: Potato/Train/Potato___healthy/Potato_healthy-83-_0_1205.jpg  \n",
            "  inflating: Potato/Train/Potato___healthy/Potato_healthy-83-_0_361.jpg  \n",
            "  inflating: Potato/Train/Potato___healthy/Potato_healthy-83-_0_5516.jpg  \n",
            "  inflating: Potato/Train/Potato___healthy/Potato_healthy-83-_0_9119.jpg  \n",
            "  inflating: Potato/Train/Potato___healthy/Potato_healthy-84-_0_23.jpg  \n",
            "  inflating: Potato/Train/Potato___healthy/Potato_healthy-84-_0_2807.jpg  \n",
            "  inflating: Potato/Train/Potato___healthy/Potato_healthy-84-_0_585.jpg  \n",
            "  inflating: Potato/Train/Potato___healthy/Potato_healthy-84-_0_775.jpg  \n",
            "  inflating: Potato/Train/Potato___healthy/Potato_healthy-85-_0_295.jpg  \n",
            "  inflating: Potato/Train/Potato___healthy/Potato_healthy-85-_0_3834.jpg  \n",
            "  inflating: Potato/Train/Potato___healthy/Potato_healthy-85-_0_6349.jpg  \n",
            "  inflating: Potato/Train/Potato___healthy/Potato_healthy-85-_0_9497.jpg  \n",
            "  inflating: Potato/Train/Potato___healthy/Potato_healthy-86-_0_1918.jpg  \n",
            "  inflating: Potato/Train/Potato___healthy/Potato_healthy-86-_0_8434.jpg  \n",
            "  inflating: Potato/Train/Potato___healthy/Potato_healthy-86-_0_8881.jpg  \n",
            "  inflating: Potato/Train/Potato___healthy/Potato_healthy-86-_0_9540.jpg  \n",
            "  inflating: Potato/Train/Potato___healthy/Potato_healthy-87-_0_3444.jpg  \n",
            "  inflating: Potato/Train/Potato___healthy/Potato_healthy-87-_0_4850.jpg  \n",
            "  inflating: Potato/Train/Potato___healthy/Potato_healthy-87-_0_6154.jpg  \n",
            "  inflating: Potato/Train/Potato___healthy/Potato_healthy-87-_0_9861.jpg  \n",
            "  inflating: Potato/Train/Potato___healthy/Potato_healthy-88-_0_192.jpg  \n",
            "  inflating: Potato/Train/Potato___healthy/Potato_healthy-88-_0_4742.jpg  \n",
            "  inflating: Potato/Train/Potato___healthy/Potato_healthy-88-_0_5017.jpg  \n",
            "  inflating: Potato/Train/Potato___healthy/Potato_healthy-88-_0_7898.jpg  \n",
            "  inflating: Potato/Train/Potato___healthy/Potato_healthy-89-_0_4320.jpg  \n",
            "  inflating: Potato/Train/Potato___healthy/Potato_healthy-89-_0_5430.jpg  \n",
            "  inflating: Potato/Train/Potato___healthy/Potato_healthy-89-_0_8074.jpg  \n",
            "  inflating: Potato/Train/Potato___healthy/Potato_healthy-89-_0_9282.jpg  \n",
            "  inflating: Potato/Train/Potato___healthy/Potato_healthy-90-_0_1065.jpg  \n",
            "  inflating: Potato/Train/Potato___healthy/Potato_healthy-90-_0_1873.jpg  \n",
            "  inflating: Potato/Train/Potato___healthy/Potato_healthy-90-_0_309.jpg  \n",
            "  inflating: Potato/Train/Potato___healthy/Potato_healthy-90-_0_463.jpg  \n",
            "  inflating: Potato/Train/Potato___healthy/Potato_healthy-91-_0_3899.jpg  \n",
            "  inflating: Potato/Train/Potato___healthy/Potato_healthy-91-_0_463.jpg  \n",
            "  inflating: Potato/Train/Potato___healthy/Potato_healthy-91-_0_5950.jpg  \n",
            "  inflating: Potato/Train/Potato___healthy/Potato_healthy-91-_0_6982.jpg  \n",
            "  inflating: Potato/Train/Potato___healthy/Potato_healthy-92-_0_3606.jpg  \n",
            "  inflating: Potato/Train/Potato___healthy/Potato_healthy-92-_0_6872.jpg  \n",
            "  inflating: Potato/Train/Potato___healthy/Potato_healthy-92-_0_7234.jpg  \n",
            "  inflating: Potato/Train/Potato___healthy/Potato_healthy-92-_0_8402.jpg  \n",
            "  inflating: Potato/Train/Potato___healthy/Potato_healthy-93-_0_1588.jpg  \n",
            "  inflating: Potato/Train/Potato___healthy/Potato_healthy-93-_0_2264.jpg  \n",
            "  inflating: Potato/Train/Potato___healthy/Potato_healthy-93-_0_2640.jpg  \n",
            "  inflating: Potato/Train/Potato___healthy/Potato_healthy-93-_0_5583.jpg  \n",
            "  inflating: Potato/Train/Potato___healthy/Potato_healthy-94-_0_2053.jpg  \n",
            "  inflating: Potato/Train/Potato___healthy/Potato_healthy-94-_0_2095.jpg  \n",
            "  inflating: Potato/Train/Potato___healthy/Potato_healthy-94-_0_3878.jpg  \n",
            "  inflating: Potato/Train/Potato___healthy/Potato_healthy-94-_0_396.jpg  \n",
            "  inflating: Potato/Train/Potato___healthy/Potato_healthy-95-_0_2109.jpg  \n",
            "  inflating: Potato/Train/Potato___healthy/Potato_healthy-95-_0_8300.jpg  \n",
            "  inflating: Potato/Train/Potato___healthy/Potato_healthy-95-_0_8785.jpg  \n",
            "  inflating: Potato/Train/Potato___healthy/Potato_healthy-95-_0_9979.jpg  \n",
            "  inflating: Potato/Train/Potato___healthy/Potato_healthy-96-_0_2636.jpg  \n",
            "  inflating: Potato/Train/Potato___healthy/Potato_healthy-96-_0_4579.jpg  \n",
            "  inflating: Potato/Train/Potato___healthy/Potato_healthy-96-_0_8573.jpg  \n",
            "  inflating: Potato/Train/Potato___healthy/Potato_healthy-96-_0_9666.jpg  \n",
            "  inflating: Potato/Train/Potato___healthy/Potato_healthy-97-_0_2674.jpg  \n",
            "  inflating: Potato/Train/Potato___healthy/Potato_healthy-97-_0_4243.jpg  \n",
            "  inflating: Potato/Train/Potato___healthy/Potato_healthy-97-_0_6462.jpg  \n",
            "  inflating: Potato/Train/Potato___healthy/Potato_healthy-97-_0_7679.jpg  \n",
            "  inflating: Potato/Train/Potato___healthy/Potato_healthy-98-_0_2414.jpg  \n",
            "  inflating: Potato/Train/Potato___healthy/Potato_healthy-98-_0_6820.jpg  \n",
            "  inflating: Potato/Train/Potato___healthy/Potato_healthy-98-_0_818.jpg  \n",
            "  inflating: Potato/Train/Potato___healthy/Potato_healthy-98-_0_9109.jpg  \n",
            "  inflating: Potato/Train/Potato___healthy/Potato_healthy-99-_0_1022.jpg  \n",
            "  inflating: Potato/Train/Potato___healthy/Potato_healthy-99-_0_387.jpg  \n",
            "  inflating: Potato/Train/Potato___healthy/Potato_healthy-99-_0_4731.jpg  \n",
            "  inflating: Potato/Train/Potato___healthy/Potato_healthy-99-_0_8323.jpg  \n",
            "  inflating: Potato/Valid/Potato___Early_blight/72013507-bfce-4b7a-b56e-f66a94cb4558___RS_Early.B 7930.JPG  \n",
            "  inflating: Potato/Valid/Potato___Early_blight/73273541-2855-4516-92c3-658703bd2d18___RS_Early.B 6814.JPG  \n",
            "  inflating: Potato/Valid/Potato___Early_blight/73845010-b5b2-4604-8055-388c4222592a___RS_Early.B 6767.JPG  \n",
            "  inflating: Potato/Valid/Potato___Early_blight/82611670-959a-401b-8ed0-4b4fdad5679e___RS_Early.B 8003.JPG  \n",
            "  inflating: Potato/Valid/Potato___Early_blight/82654962-5b0d-44ed-9ca4-84be55ba23a6___RS_Early.B 6877.JPG  \n",
            "  inflating: Potato/Valid/Potato___Early_blight/82927769-4d4a-4f19-a806-a02f435ad17d___RS_Early.B 7886.JPG  \n",
            "  inflating: Potato/Valid/Potato___Early_blight/85531704-18a5-4f98-8c1d-25709ecf77f8___RS_Early.B 8214.JPG  \n",
            "  inflating: Potato/Valid/Potato___Early_blight/86562214-f8b9-4105-9513-4847520aff9a___RS_Early.B 7515.JPG  \n",
            "  inflating: Potato/Valid/Potato___Early_blight/91008080-0b15-41f0-ab72-5b6a3582239d___RS_Early.B 6954.JPG  \n",
            "  inflating: Potato/Valid/Potato___Early_blight/91721448-8786-49f6-a66d-d410fe714676___RS_Early.B 7725.JPG  \n",
            "  inflating: Potato/Valid/Potato___Early_blight/93992994-fcb0-4d3e-b528-e6fd9fd1b317___RS_Early.B 6686.JPG  \n",
            "  inflating: Potato/Valid/Potato___Early_blight/99821810-926a-4ac4-9bc7-cbae991f7e68___RS_Early.B 7626.JPG  \n",
            "  inflating: Potato/Valid/Potato___Early_blight/a01521f0-27be-4688-9d28-07d09ef80920___RS_Early.B 7119.JPG  \n",
            "  inflating: Potato/Valid/Potato___Early_blight/a02f78b3-da52-400a-ab11-7184df9ea485___RS_Early.B 8403.JPG  \n",
            "  inflating: Potato/Valid/Potato___Early_blight/a08eec21-8500-4ac5-92a9-d9b14067f01c___RS_Early.B 8985.JPG  \n",
            "  inflating: Potato/Valid/Potato___Early_blight/a0d8a499-e9e4-4c88-829c-7c2270073735___RS_Early.B 8525.JPG  \n",
            "  inflating: Potato/Valid/Potato___Early_blight/a10b278a-fcce-4cf4-aada-254e89050be5___RS_Early.B 7524.JPG  \n",
            "  inflating: Potato/Valid/Potato___Early_blight/a1dd3cdf-0ff5-49f6-b66e-9b3632a07019___RS_Early.B 7833.JPG  \n",
            "  inflating: Potato/Valid/Potato___Early_blight/a29559c6-1d80-4486-a3c9-26986d6e28e0___RS_Early.B 6890.JPG  \n",
            "  inflating: Potato/Valid/Potato___Early_blight/a29ed5b2-153c-4f0e-a633-f698c9ff51d2___RS_Early.B 8840.JPG  \n",
            "  inflating: Potato/Valid/Potato___Early_blight/a2fe15c2-1900-4fbd-9e69-771b1693cc68___RS_Early.B 7398.JPG  \n",
            "  inflating: Potato/Valid/Potato___Early_blight/a38df468-bb4a-4bb3-9ee9-a2dffae718e9___RS_Early.B 8690.JPG  \n",
            "  inflating: Potato/Valid/Potato___Early_blight/a3ed964c-36f1-403c-8146-b2a3b79a352d___RS_Early.B 8310.JPG  \n",
            "  inflating: Potato/Valid/Potato___Early_blight/a3fe02f0-6d49-4e9a-ba9a-ac26e8b65ca9___RS_Early.B 7560.JPG  \n",
            "  inflating: Potato/Valid/Potato___Early_blight/a4168403-2458-4f28-84f7-949050905878___RS_Early.B 8450.JPG  \n",
            "  inflating: Potato/Valid/Potato___Early_blight/a41c6816-0755-4e55-b589-42b665a97a02___RS_Early.B 7064.JPG  \n",
            "  inflating: Potato/Valid/Potato___Early_blight/a4ac4e39-1342-4b1d-806a-98789876a701___RS_Early.B 8953.JPG  \n",
            "  inflating: Potato/Valid/Potato___Early_blight/a4cc86e3-ac4d-4b72-89a2-6cf106831908___RS_Early.B 7346.JPG  \n",
            "  inflating: Potato/Valid/Potato___Early_blight/a50c5f93-a5db-4eaf-9d82-2e420d2351e7___RS_Early.B 7060.JPG  \n",
            "  inflating: Potato/Valid/Potato___Early_blight/a5b278e7-448e-40ae-80c2-d286f2681d10___RS_Early.B 7900.JPG  \n",
            "  inflating: Potato/Valid/Potato___Early_blight/a5e73fd4-6d3e-4037-b440-f4e5234e4459___RS_Early.B 7645.JPG  \n",
            "  inflating: Potato/Valid/Potato___Early_blight/a60106e3-e037-495f-8b5a-080adcb9bdd9___RS_Early.B 8561.JPG  \n",
            "  inflating: Potato/Valid/Potato___Early_blight/a601dd4d-4e81-4327-9e4e-fd19262a1306___RS_Early.B 8265.JPG  \n",
            "  inflating: Potato/Valid/Potato___Early_blight/a6995958-6344-4d37-9b99-d3bc3d40ab67___RS_Early.B 7210.JPG  \n",
            "  inflating: Potato/Valid/Potato___Early_blight/a6dbc59a-ca8a-40e0-a896-3e2270d771bb___RS_Early.B 7195.JPG  \n",
            "  inflating: Potato/Valid/Potato___Early_blight/a6fef9f4-0006-4faa-95ab-3aadde49b229___RS_Early.B 8783.JPG  \n",
            "  inflating: Potato/Valid/Potato___Early_blight/a801f66c-b8bc-42e5-ad5b-99f68d219fa9___RS_Early.B 8552.JPG  \n",
            "  inflating: Potato/Valid/Potato___Early_blight/a85029ca-881b-45a8-bb64-d8c77492a49d___RS_Early.B 8833.JPG  \n",
            "  inflating: Potato/Valid/Potato___Early_blight/a8933319-d98e-4e71-a2ac-e22f7e1bca08___RS_Early.B 7499.JPG  \n",
            "  inflating: Potato/Valid/Potato___Early_blight/a89d6e67-d60e-49b5-8b87-e137b6a5181c___RS_Early.B 7472.JPG  \n",
            "  inflating: Potato/Valid/Potato___Early_blight/a938ba0c-780a-41e0-b26c-3c6b87047ac6___RS_Early.B 6878.JPG  \n",
            "  inflating: Potato/Valid/Potato___Early_blight/a9659799-4093-4d84-855e-2f4382729c01___RS_Early.B 8784.JPG  \n",
            "  inflating: Potato/Valid/Potato___Early_blight/aa0ad1ba-f08a-4376-82a1-fec51fbf6810___RS_Early.B 7478.JPG  \n",
            "  inflating: Potato/Valid/Potato___Early_blight/aa342b8f-88f5-4d9d-9740-4b1b4147c590___RS_Early.B 7939.JPG  \n",
            "  inflating: Potato/Valid/Potato___Early_blight/aa687aac-2f1a-44d8-89aa-3f7d413b4763___RS_Early.B 8055.JPG  \n",
            "  inflating: Potato/Valid/Potato___Early_blight/aa7e5986-6fa1-4b25-9861-cbae56886280___RS_Early.B 8545.JPG  \n",
            "  inflating: Potato/Valid/Potato___Early_blight/aaa394b2-f7d5-41a5-97eb-acc4068ef72d___RS_Early.B 9155.JPG  \n",
            "  inflating: Potato/Valid/Potato___Early_blight/ab0878eb-0310-4788-b2d7-14102cdd241e___RS_Early.B 7026.JPG  \n",
            "  inflating: Potato/Valid/Potato___Early_blight/ab23a940-3124-4101-b562-08ca34a8334b___RS_Early.B 7790.JPG  \n",
            "  inflating: Potato/Valid/Potato___Early_blight/ab808dff-e0fc-42d0-ad9a-c4cb7f69e59b___RS_Early.B 9210.JPG  \n",
            "  inflating: Potato/Valid/Potato___Early_blight/abb9a8c4-5d0f-443a-b7c9-780036ffe76c___RS_Early.B 7380.JPG  \n",
            "  inflating: Potato/Valid/Potato___Early_blight/abfaeb8b-fe1e-48e6-ab8f-c9a72680420d___RS_Early.B 7427.JPG  \n",
            "  inflating: Potato/Valid/Potato___Early_blight/ac40d7e9-e650-40f1-b894-22f495febefd___RS_Early.B 7276.JPG  \n",
            "  inflating: Potato/Valid/Potato___Early_blight/ac6c3aea-ad58-4b46-b0d2-195dba86e0f6___RS_Early.B 7926.JPG  \n",
            "  inflating: Potato/Valid/Potato___Early_blight/acb59a95-cbe4-4602-9b8a-9adbf12899af___RS_Early.B 6754.JPG  \n",
            "  inflating: Potato/Valid/Potato___Early_blight/acb84d77-5b1c-4beb-be27-99fee467bf1f___RS_Early.B 7577.JPG  \n",
            "  inflating: Potato/Valid/Potato___Early_blight/acff9d5e-4b38-4817-a239-93c115a0b3ff___RS_Early.B 8993.JPG  \n",
            "  inflating: Potato/Valid/Potato___Early_blight/ad8c76f3-16b3-4d7f-a9e9-cbec8c398d34___RS_Early.B 6694.JPG  \n",
            "  inflating: Potato/Valid/Potato___Early_blight/adc573cd-bbf3-4742-9bd5-1e3e6f27319a___RS_Early.B 8685.JPG  \n",
            "  inflating: Potato/Valid/Potato___Early_blight/ae25f262-234e-4ee1-96ad-3e47ddfbea9d___RS_Early.B 6670.JPG  \n",
            "  inflating: Potato/Valid/Potato___Early_blight/ae38f458-d36e-43ce-95a5-45b775692d8d___RS_Early.B 8644.JPG  \n",
            "  inflating: Potato/Valid/Potato___Early_blight/ae5a9be8-5bd6-4542-8766-6c7bb8c61ded___RS_Early.B 8182.JPG  \n",
            "  inflating: Potato/Valid/Potato___Early_blight/aed93c24-f226-4dd4-b5fb-b1f2d1202c63___RS_Early.B 8363.JPG  \n",
            "  inflating: Potato/Valid/Potato___Early_blight/af0ee942-50f5-43a7-a9fe-486ba1f5f989___RS_Early.B 7700.JPG  \n",
            "  inflating: Potato/Valid/Potato___Early_blight/af3bb3a3-e022-45f3-b209-6b3b53f13a47___RS_Early.B 7333.JPG  \n",
            "  inflating: Potato/Valid/Potato___Early_blight/af79e762-c2f7-4e37-926b-ce27dbc52fc4___RS_Early.B 6858.JPG  \n",
            "  inflating: Potato/Valid/Potato___Early_blight/b05850b8-bfb9-487d-b0ba-8f406eba933e___RS_Early.B 6936.JPG  \n",
            "  inflating: Potato/Valid/Potato___Early_blight/b09e0cba-0564-4dde-a90d-3c0d90d6336e___RS_Early.B 7776.JPG  \n",
            "  inflating: Potato/Valid/Potato___Early_blight/b14e0de2-ab48-45b5-9d4d-e45e7c88b68f___RS_Early.B 8554.JPG  \n",
            "  inflating: Potato/Valid/Potato___Early_blight/b17bf28e-c272-4a24-9f45-7d3a343de49f___RS_Early.B 7620.JPG  \n",
            "  inflating: Potato/Valid/Potato___Early_blight/b1b3c9c7-a4b9-4048-be45-fa9c5e507c66___RS_Early.B 7466.JPG  \n",
            "  inflating: Potato/Valid/Potato___Early_blight/b1b55149-b5bc-460e-87af-a745fb01855d___RS_Early.B 7477.JPG  \n",
            "  inflating: Potato/Valid/Potato___Early_blight/b21bc878-7b63-481e-a6d1-7e972627210e___RS_Early.B 7656.JPG  \n",
            "  inflating: Potato/Valid/Potato___Early_blight/b29e0fdf-c39f-4b3a-b12f-c693374f15cf___RS_Early.B 8820.JPG  \n",
            "  inflating: Potato/Valid/Potato___Early_blight/b2b7758e-f201-4d9c-bc27-d53bb09b2dac___RS_Early.B 7025.JPG  \n",
            "  inflating: Potato/Valid/Potato___Early_blight/b2e21749-afe2-4392-8d5d-23088d37873c___RS_Early.B 9028.JPG  \n",
            "  inflating: Potato/Valid/Potato___Early_blight/b2e6d502-8a02-4493-ae91-34bad50b6040___RS_Early.B 7537.JPG  \n",
            "  inflating: Potato/Valid/Potato___Early_blight/b301c9cd-7624-4261-ab4f-962936ebb92a___RS_Early.B 7632.JPG  \n",
            "  inflating: Potato/Valid/Potato___Early_blight/b328c22c-c9c6-41fd-9bac-daf2f26143b1___RS_Early.B 6854.JPG  \n",
            "  inflating: Potato/Valid/Potato___Early_blight/b35e4c48-e54e-4e42-a399-b236209314f4___RS_Early.B 8231.JPG  \n",
            "  inflating: Potato/Valid/Potato___Early_blight/b39bbf50-eae1-49ca-bd12-e776e3680d8b___RS_Early.B 6775.JPG  \n",
            "  inflating: Potato/Valid/Potato___Early_blight/b3d44557-f696-4fc9-b144-dec4f4ba9452___RS_Early.B 9110.JPG  \n",
            "  inflating: Potato/Valid/Potato___Early_blight/b4021eae-d195-400a-b7b7-9888367f5f2f___RS_Early.B 7881.JPG  \n",
            "  inflating: Potato/Valid/Potato___Early_blight/b472654c-a32f-4c8f-b424-da6e415febf9___RS_Early.B 8930.JPG  \n",
            "  inflating: Potato/Valid/Potato___Early_blight/b5127f55-debe-459a-98e5-4629750f9c38___RS_Early.B 7496.JPG  \n",
            "  inflating: Potato/Valid/Potato___Early_blight/b512ab1a-0ea5-47d6-b998-7c9f32ed3329___RS_Early.B 7250.JPG  \n",
            "  inflating: Potato/Valid/Potato___Early_blight/b549ab3b-06f1-45ef-bf34-86071552d870___RS_Early.B 8576.JPG  \n",
            "  inflating: Potato/Valid/Potato___Early_blight/b54a2105-b9a4-4665-9e34-44df46d0be5a___RS_Early.B 8507.JPG  \n",
            "  inflating: Potato/Valid/Potato___Early_blight/b692a411-91aa-4388-b641-a6c02286840c___RS_Early.B 7784.JPG  \n",
            "  inflating: Potato/Valid/Potato___Early_blight/b6b036b0-6869-48b8-b861-a6a85d1b2b97___RS_Early.B 6850.JPG  \n",
            "  inflating: Potato/Valid/Potato___Early_blight/b6b4aa28-edc4-4e9f-bc0d-bd4b0ec085a2___RS_Early.B 7559.JPG  \n",
            "  inflating: Potato/Valid/Potato___Early_blight/b6c68639-ad01-41f9-a10c-4233423ea2b0___RS_Early.B 8573.JPG  \n",
            "  inflating: Potato/Valid/Potato___Early_blight/b76550de-8e3a-46f1-b06f-6bd4ed3dc8a5___RS_Early.B 8456.JPG  \n",
            "  inflating: Potato/Valid/Potato___Early_blight/b7712e86-f508-4485-8a42-5dd447f3b510___RS_Early.B 7103.JPG  \n",
            "  inflating: Potato/Valid/Potato___Early_blight/b805f812-ef18-47ed-9756-1f5a5dd05b5d___RS_Early.B 7746.JPG  \n",
            "  inflating: Potato/Valid/Potato___Early_blight/b83aea19-9485-412f-808d-c0a590d75388___RS_Early.B 6951.JPG  \n",
            "  inflating: Potato/Valid/Potato___Early_blight/b8e08567-5193-41a4-b637-140b503830d9___RS_Early.B 9133.JPG  \n",
            "  inflating: Potato/Valid/Potato___Early_blight/b954c296-ae18-4efb-8a8c-450486faa919___RS_Early.B 6998.JPG  \n",
            "  inflating: Potato/Valid/Potato___Early_blight/b95c05a8-2d70-4af5-a384-5b5b4450b7c6___RS_Early.B 7724.JPG  \n",
            "  inflating: Potato/Valid/Potato___Early_blight/b99ba68b-4608-4335-a292-b4249d83762d___RS_Early.B 9096.JPG  \n",
            "  inflating: Potato/Valid/Potato___Late_blight/84182903-22be-4563-8276-d72413958ada___RS_LB 4027.JPG  \n",
            "  inflating: Potato/Valid/Potato___Late_blight/86323439-ca8d-4819-ae81-800e50f85770___RS_LB 2826.JPG  \n",
            "  inflating: Potato/Valid/Potato___Late_blight/86944800-4984-44f9-9c72-53fcb7324a3b___RS_LB 4015.JPG  \n",
            "  inflating: Potato/Valid/Potato___Late_blight/87681326-2843-4e63-9042-602b08a98a66___RS_LB 4145.JPG  \n",
            "  inflating: Potato/Valid/Potato___Late_blight/93905331-a3b3-43dd-8596-d8f7e6b3e88f___RS_LB 3306.JPG  \n",
            "  inflating: Potato/Valid/Potato___Late_blight/99064106-3789-4de4-b109-ebc83a20d94b___RS_LB 2757.JPG  \n",
            "  inflating: Potato/Valid/Potato___Late_blight/a0622f86-c94d-4b59-9483-68c57dee81fa___RS_LB 4794.JPG  \n",
            "  inflating: Potato/Valid/Potato___Late_blight/a0c129b8-4fb3-406d-b2f6-1309fec50c70___RS_LB 5139.JPG  \n",
            "  inflating: Potato/Valid/Potato___Late_blight/a10d340a-b35c-4310-be59-caa58bb0d500___RS_LB 5154.JPG  \n",
            "  inflating: Potato/Valid/Potato___Late_blight/a1523281-33d2-4cc4-910a-3d614a4cd085___RS_LB 2816.JPG  \n",
            "  inflating: Potato/Valid/Potato___Late_blight/a1f3508d-496b-4dd5-a820-d30acafd7d9b___RS_LB 2970.JPG  \n",
            "  inflating: Potato/Valid/Potato___Late_blight/a221647c-0dda-468b-93f9-81f50b14ff81___RS_LB 3942.JPG  \n",
            "  inflating: Potato/Valid/Potato___Late_blight/a24f3bec-3fbb-461a-81ef-ab791ceb66e2___RS_LB 4818.JPG  \n",
            "  inflating: Potato/Valid/Potato___Late_blight/a2b27b82-4459-4dcb-a065-92a75f3c9c4b___RS_LB 5018.JPG  \n",
            "  inflating: Potato/Valid/Potato___Late_blight/a30baff1-96fb-4df5-9511-e131359b5fd8___RS_LB 4464.JPG  \n",
            "  inflating: Potato/Valid/Potato___Late_blight/a3389c1f-d888-430d-bcf7-a546247ad6d2___RS_LB 3092.JPG  \n",
            "  inflating: Potato/Valid/Potato___Late_blight/a33c54fb-6b78-4235-b34e-42f85f6bc5b8___RS_LB 5060.JPG  \n",
            "  inflating: Potato/Valid/Potato___Late_blight/a343cad1-3b4d-4761-b222-d0bbc0f4bdc0___RS_LB 2569.JPG  \n",
            "  inflating: Potato/Valid/Potato___Late_blight/a34d3777-22c7-4723-8b85-f766e042c121___RS_LB 4375.JPG  \n",
            "  inflating: Potato/Valid/Potato___Late_blight/a3bf27ee-b4ec-4f72-a25b-9d47b4cd100d___RS_LB 2889.JPG  \n",
            "  inflating: Potato/Valid/Potato___Late_blight/a3e80876-49cd-4856-9253-8df14fc36dcd___RS_LB 3851.JPG  \n",
            "  inflating: Potato/Valid/Potato___Late_blight/a440233c-0ef8-408f-8ebb-1c12e8bc4464___RS_LB 4768.JPG  \n",
            "  inflating: Potato/Valid/Potato___Late_blight/a4534f9b-87ca-4ce0-a6f8-84f94544ef37___RS_LB 2775.JPG  \n",
            "  inflating: Potato/Valid/Potato___Late_blight/a5028ead-ac95-4a90-89cb-aaac512d502a___RS_LB 3957.JPG  \n",
            "  inflating: Potato/Valid/Potato___Late_blight/a5a6ebeb-2535-441d-acf5-33bce305fa14___RS_LB 3304.JPG  \n",
            "  inflating: Potato/Valid/Potato___Late_blight/a5aabda7-209a-4e1e-966c-de2a1ccc7869___RS_LB 5046.JPG  \n",
            "  inflating: Potato/Valid/Potato___Late_blight/a6623827-bcdc-40ed-81e6-5cde1a1da997___RS_LB 3179.JPG  \n",
            "  inflating: Potato/Valid/Potato___Late_blight/a69b634c-1bb1-4098-9da0-8393f9b8d6e1___RS_LB 5120.JPG  \n",
            "  inflating: Potato/Valid/Potato___Late_blight/a6b27bfe-0e60-4984-98ca-af4b2316dfff___RS_LB 3881.JPG  \n",
            "  inflating: Potato/Valid/Potato___Late_blight/a6f75dd1-c290-4116-be6a-e3c94e40aa2a___RS_LB 3265.JPG  \n",
            "  inflating: Potato/Valid/Potato___Late_blight/a7097c51-bb53-4149-8140-4b9c3d94dbd4___RS_LB 4108.JPG  \n",
            "  inflating: Potato/Valid/Potato___Late_blight/a74a91d8-1a9d-4fa8-bc4b-26a32635a84d___RS_LB 3840.JPG  \n",
            "  inflating: Potato/Valid/Potato___Late_blight/a7dad20a-b0c0-408b-a961-17928319e17f___RS_LB 4645.JPG  \n",
            "  inflating: Potato/Valid/Potato___Late_blight/a7dc8b54-5e4a-4055-ae98-eba4268cf966___RS_LB 5243.JPG  \n",
            "  inflating: Potato/Valid/Potato___Late_blight/a838f0ba-745a-4c0b-9895-f3349a6cee4a___RS_LB 4959.JPG  \n",
            "  inflating: Potato/Valid/Potato___Late_blight/a84f32fc-ec8a-42e9-9f43-9efcf6493199___RS_LB 4884.JPG  \n",
            "  inflating: Potato/Valid/Potato___Late_blight/a88a6388-09fa-4cfc-a82e-94d5fd3b4972___RS_LB 2748.JPG  \n",
            "  inflating: Potato/Valid/Potato___Late_blight/a896e0bb-67a4-4762-b74a-1c58b14622b0___RS_LB 5013.JPG  \n",
            "  inflating: Potato/Valid/Potato___Late_blight/a8db407c-12cb-460c-991a-8f60d20c06bc___RS_LB 5117.JPG  \n",
            "  inflating: Potato/Valid/Potato___Late_blight/a8f16f61-a090-4b29-9569-5e7d0e17fda5___RS_LB 4460.JPG  \n",
            "  inflating: Potato/Valid/Potato___Late_blight/a904edc1-4c4d-4171-a46e-ae914010884b___RS_LB 4373.JPG  \n",
            "  inflating: Potato/Valid/Potato___Late_blight/a9c8a264-33be-48f1-bd1d-2cc6c9c8e247___RS_LB 4888.JPG  \n",
            "  inflating: Potato/Valid/Potato___Late_blight/a9d4290d-55a1-4a8d-83a8-5277a00e5fbc___RS_LB 4076.JPG  \n",
            "  inflating: Potato/Valid/Potato___Late_blight/aa246de3-c183-4133-b4a9-2eba3fe3ae56___RS_LB 2951.JPG  \n",
            "  inflating: Potato/Valid/Potato___Late_blight/aa58c1c8-82a1-4e68-9ecb-3cd47341d09b___RS_LB 4331.JPG  \n",
            "  inflating: Potato/Valid/Potato___Late_blight/aaf6fed2-0c7d-47b5-99df-bb6950092fe5___RS_LB 2723.JPG  \n",
            "  inflating: Potato/Valid/Potato___Late_blight/ab72ec63-290e-4e95-ab0a-b551ed44ab3b___RS_LB 3286.JPG  \n",
            "  inflating: Potato/Valid/Potato___Late_blight/ab9b15fb-d4cc-4d67-a5bb-8b88f066c1db___RS_LB 4825.JPG  \n",
            "  inflating: Potato/Valid/Potato___Late_blight/ac35ccac-2c52-4af5-b0e3-3325f45e2c97___RS_LB 2749.JPG  \n",
            "  inflating: Potato/Valid/Potato___Late_blight/ac42817b-71f9-4336-ad8b-bdfb4b27a64a___RS_LB 4782.JPG  \n",
            "  inflating: Potato/Valid/Potato___Late_blight/acd7a42b-15eb-40e4-823c-49eff6b4e95e___RS_LB 4636.JPG  \n",
            "  inflating: Potato/Valid/Potato___Late_blight/aceeb511-1332-4d25-b9fe-64d53445396a___RS_LB 4837.JPG  \n",
            "  inflating: Potato/Valid/Potato___Late_blight/acf05b32-0d7e-423c-96b2-f78b6fdf975d___RS_LB 5309.JPG  \n",
            "  inflating: Potato/Valid/Potato___Late_blight/ad2396a9-306e-4ca9-88dc-56b2bde77c6b___RS_LB 2755.JPG  \n",
            "  inflating: Potato/Valid/Potato___Late_blight/ad628434-32ce-4365-90b0-f394d98fbe00___RS_LB 4905.JPG  \n",
            "  inflating: Potato/Valid/Potato___Late_blight/ae20cc4e-fe37-48f0-9566-2d2efc5afd38___RS_LB 4290.JPG  \n",
            "  inflating: Potato/Valid/Potato___Late_blight/ae52f85f-bce0-4fb9-a109-009e099a72e6___RS_LB 4972.JPG  \n",
            "  inflating: Potato/Valid/Potato___Late_blight/ae5b08fa-25b7-4006-8b1b-2415356b3847___RS_LB 5453.JPG  \n",
            "  inflating: Potato/Valid/Potato___Late_blight/ae805316-66e9-4aaf-b938-8460734b90ec___RS_LB 3004.JPG  \n",
            "  inflating: Potato/Valid/Potato___Late_blight/ae80781d-725e-486e-9677-4149b0d751ef___RS_LB 5442.JPG  \n",
            "  inflating: Potato/Valid/Potato___Late_blight/ae966e38-73b3-47c1-9421-20ac2f570f46___RS_LB 3240.JPG  \n",
            "  inflating: Potato/Valid/Potato___Late_blight/ae9e4c46-171c-460c-a37f-ddf13c260411___RS_LB 4961.JPG  \n",
            "  inflating: Potato/Valid/Potato___Late_blight/aec94baf-a0e8-43af-80af-4bab46d84ad8___RS_LB 5100.JPG  \n",
            "  inflating: Potato/Valid/Potato___Late_blight/af13137c-1561-4c1c-b85b-5ec8930f2b38___RS_LB 5425.JPG  \n",
            "  inflating: Potato/Valid/Potato___Late_blight/af17b876-b0e7-43ce-95e8-8591066dfdc9___RS_LB 3976.JPG  \n",
            "  inflating: Potato/Valid/Potato___Late_blight/afc0f88e-8a22-44d1-8575-8945058360c7___RS_LB 4895.JPG  \n",
            "  inflating: Potato/Valid/Potato___Late_blight/afcad9ca-9bd2-4c7b-b034-2b3d0360ac30___RS_LB 2741.JPG  \n",
            "  inflating: Potato/Valid/Potato___Late_blight/b0137e92-ce1b-4523-95f0-7a827c206ee0___RS_LB 2913.JPG  \n",
            "  inflating: Potato/Valid/Potato___Late_blight/b0945b27-3331-4f03-b1c9-1465e12577aa___RS_LB 4355.JPG  \n",
            "  inflating: Potato/Valid/Potato___Late_blight/b0db9fbb-ff7f-4b5c-901c-19c7797c1d4a___RS_LB 2969.JPG  \n",
            "  inflating: Potato/Valid/Potato___Late_blight/b0e6c386-35dc-4982-acc6-f393c7f58c67___RS_LB 5036.JPG  \n",
            "  inflating: Potato/Valid/Potato___Late_blight/b0eebb8f-c322-4b56-8897-2cc98d474440___RS_LB 5286.JPG  \n",
            "  inflating: Potato/Valid/Potato___Late_blight/b101bc59-5734-4c39-896f-de29d98b1dce___RS_LB 4702.JPG  \n",
            "  inflating: Potato/Valid/Potato___Late_blight/b14b93eb-5c1b-4df8-a30f-17afd953e7fc___RS_LB 4101.JPG  \n",
            "  inflating: Potato/Valid/Potato___Late_blight/b167bd40-798f-4e70-a735-f191350dd057___RS_LB 4017.JPG  \n",
            "  inflating: Potato/Valid/Potato___Late_blight/b22a71a5-31a9-40c5-a3df-313e52748a61___RS_LB 4610.JPG  \n",
            "  inflating: Potato/Valid/Potato___Late_blight/b2492a9e-c038-48a7-8524-8f0aca7dc870___RS_LB 4291.JPG  \n",
            "  inflating: Potato/Valid/Potato___Late_blight/b340ff00-3d44-4394-90c5-797dc39f8389___RS_LB 4953.JPG  \n",
            "  inflating: Potato/Valid/Potato___Late_blight/b367b969-aec9-4555-9ea2-0a982b38be62___RS_LB 4682.JPG  \n",
            "  inflating: Potato/Valid/Potato___Late_blight/b3e1ec14-6de4-4afc-9ceb-254469c8ce15___RS_LB 3910.JPG  \n",
            "  inflating: Potato/Valid/Potato___Late_blight/b469e38c-ef99-4ed1-b294-1e65727138fb___RS_LB 4056.JPG  \n",
            "  inflating: Potato/Valid/Potato___Late_blight/b4adb8c4-2cea-4027-b0fd-528406b14c86___RS_LB 4066.JPG  \n",
            "  inflating: Potato/Valid/Potato___Late_blight/b4e52186-de58-4c06-bbd2-2fb3dbeda13e___RS_LB 2655.JPG  \n",
            "  inflating: Potato/Valid/Potato___Late_blight/b574ad16-1c07-4f70-bf1d-e2314d2dd81f___RS_LB 2849.JPG  \n",
            "  inflating: Potato/Valid/Potato___Late_blight/b57c6336-3be6-4021-b240-8547da86d218___RS_LB 5007.JPG  \n",
            "  inflating: Potato/Valid/Potato___Late_blight/b598f9a7-b582-4fef-9c3d-cc985f2f9c03___RS_LB 3294.JPG  \n",
            "  inflating: Potato/Valid/Potato___Late_blight/b59e4b5d-4ef0-4b8f-a111-ee745e3d0334___RS_LB 4891.JPG  \n",
            "  inflating: Potato/Valid/Potato___Late_blight/b5f127d1-1b1a-4baa-9158-58cf4b679990___RS_LB 4488.JPG  \n",
            "  inflating: Potato/Valid/Potato___Late_blight/b64e4518-147a-4a75-9f9b-33db8902aa12___RS_LB 3202.JPG  \n",
            "  inflating: Potato/Valid/Potato___Late_blight/b65fddcf-cc40-4632-a0c4-70fff2f68009___RS_LB 4481.JPG  \n",
            "  inflating: Potato/Valid/Potato___Late_blight/b69f17e7-b4e1-4911-91e4-01976bacba2d___RS_LB 5053.JPG  \n",
            "  inflating: Potato/Valid/Potato___Late_blight/b6ad95ed-8f05-42a1-ac35-581696454497___RS_LB 3855.JPG  \n",
            "  inflating: Potato/Valid/Potato___Late_blight/b6b937ed-f629-4136-8d5a-38b734f7f662___RS_LB 4595.JPG  \n",
            "  inflating: Potato/Valid/Potato___Late_blight/b74d0fd1-9af7-4053-8538-ee937236a64d___RS_LB 4918.JPG  \n",
            "  inflating: Potato/Valid/Potato___Late_blight/b811c2af-734e-4689-aa43-4ab1d4faec32___RS_LB 4719.JPG  \n",
            "  inflating: Potato/Valid/Potato___Late_blight/b89a9e11-b184-4b4d-bc56-5f27a2626982___RS_LB 2512.JPG  \n",
            "  inflating: Potato/Valid/Potato___Late_blight/b8b4064f-208a-46f9-b13e-5096fdbdb429___RS_LB 2591.JPG  \n",
            "  inflating: Potato/Valid/Potato___Late_blight/b9ad8d86-aadb-44b4-9bba-d6adb446afd7___RS_LB 5188.JPG  \n",
            "  inflating: Potato/Valid/Potato___Late_blight/b9aecfc3-98d5-467a-8773-ee2905918c71___RS_LB 5161.JPG  \n",
            "  inflating: Potato/Valid/Potato___Late_blight/b9cde1e2-71f8-46a2-9fa4-0bfc7d16815f___RS_LB 2610.JPG  \n",
            "  inflating: Potato/Valid/Potato___healthy/Potato_healthy-51-_0_1086.jpg  \n",
            "  inflating: Potato/Valid/Potato___healthy/Potato_healthy-51-_0_3856.jpg  \n",
            "  inflating: Potato/Valid/Potato___healthy/Potato_healthy-51-_0_8404.jpg  \n",
            "  inflating: Potato/Valid/Potato___healthy/Potato_healthy-51-_0_8624.jpg  \n",
            "  inflating: Potato/Valid/Potato___healthy/Potato_healthy-52-_0_1070.jpg  \n",
            "  inflating: Potato/Valid/Potato___healthy/Potato_healthy-52-_0_6188.jpg  \n",
            "  inflating: Potato/Valid/Potato___healthy/Potato_healthy-52-_0_9102.jpg  \n",
            "  inflating: Potato/Valid/Potato___healthy/Potato_healthy-52-_0_9254.jpg  \n",
            "  inflating: Potato/Valid/Potato___healthy/Potato_healthy-53-_0_2222.jpg  \n",
            "  inflating: Potato/Valid/Potato___healthy/Potato_healthy-53-_0_3858.jpg  \n",
            "  inflating: Potato/Valid/Potato___healthy/Potato_healthy-53-_0_4365.jpg  \n",
            "  inflating: Potato/Valid/Potato___healthy/Potato_healthy-53-_0_4792.jpg  \n",
            "  inflating: Potato/Valid/Potato___healthy/Potato_healthy-54-_0_1162.jpg  \n",
            "  inflating: Potato/Valid/Potato___healthy/Potato_healthy-54-_0_1322.jpg  \n",
            "  inflating: Potato/Valid/Potato___healthy/Potato_healthy-54-_0_550.jpg  \n",
            "  inflating: Potato/Valid/Potato___healthy/Potato_healthy-54-_0_996.jpg  \n",
            "  inflating: Potato/Valid/Potato___healthy/Potato_healthy-55-_0_178.jpg  \n",
            "  inflating: Potato/Valid/Potato___healthy/Potato_healthy-55-_0_5377.jpg  \n",
            "  inflating: Potato/Valid/Potato___healthy/Potato_healthy-55-_0_6986.jpg  \n",
            "  inflating: Potato/Valid/Potato___healthy/Potato_healthy-55-_0_811.jpg  \n",
            "  inflating: Potato/Valid/Potato___healthy/Potato_healthy-56-_0_1572.jpg  \n",
            "  inflating: Potato/Valid/Potato___healthy/Potato_healthy-56-_0_2321.jpg  \n",
            "  inflating: Potato/Valid/Potato___healthy/Potato_healthy-56-_0_2886.jpg  \n",
            "  inflating: Potato/Valid/Potato___healthy/Potato_healthy-56-_0_8468.jpg  \n",
            "  inflating: Potato/Valid/Potato___healthy/Potato_healthy-57-_0_2521.jpg  \n",
            "  inflating: Potato/Valid/Potato___healthy/Potato_healthy-57-_0_3897.jpg  \n",
            "  inflating: Potato/Valid/Potato___healthy/Potato_healthy-57-_0_4780.jpg  \n",
            "  inflating: Potato/Valid/Potato___healthy/Potato_healthy-57-_0_7883.jpg  \n",
            "  inflating: Potato/Valid/Potato___healthy/Potato_healthy-58-_0_1602.jpg  \n",
            "  inflating: Potato/Valid/Potato___healthy/Potato_healthy-58-_0_2114.jpg  \n",
            "  inflating: Potato/Valid/Potato___healthy/Potato_healthy-58-_0_2149.jpg  \n",
            "  inflating: Potato/Valid/Potato___healthy/Potato_healthy-58-_0_8650.jpg  \n",
            "  inflating: Potato/Valid/Potato___healthy/Potato_healthy-59-_0_6521.jpg  \n",
            "  inflating: Potato/Valid/Potato___healthy/Potato_healthy-59-_0_7767.jpg  \n",
            "  inflating: Potato/Valid/Potato___healthy/Potato_healthy-59-_0_8807.jpg  \n",
            "  inflating: Potato/Valid/Potato___healthy/Potato_healthy-59-_0_8811.jpg  \n",
            "  inflating: Potato/Valid/Potato___healthy/Potato_healthy-60-_0_4148.jpg  \n",
            "  inflating: Potato/Valid/Potato___healthy/Potato_healthy-60-_0_4593.jpg  \n",
            "  inflating: Potato/Valid/Potato___healthy/Potato_healthy-60-_0_4949.jpg  \n",
            "  inflating: Potato/Valid/Potato___healthy/Potato_healthy-60-_0_9098.jpg  \n",
            "  inflating: Potato/Valid/Potato___healthy/Potato_healthy-61-_0_3502.jpg  \n",
            "  inflating: Potato/Valid/Potato___healthy/Potato_healthy-61-_0_3839.jpg  \n",
            "  inflating: Potato/Valid/Potato___healthy/Potato_healthy-61-_0_5273.jpg  \n",
            "  inflating: Potato/Valid/Potato___healthy/Potato_healthy-61-_0_7286.jpg  \n",
            "  inflating: Potato/Valid/Potato___healthy/Potato_healthy-62-_0_5087.jpg  \n",
            "  inflating: Potato/Valid/Potato___healthy/Potato_healthy-62-_0_8296.jpg  \n",
            "  inflating: Potato/Valid/Potato___healthy/Potato_healthy-62-_0_90.jpg  \n",
            "  inflating: Potato/Valid/Potato___healthy/Potato_healthy-62-_0_9772.jpg  \n",
            "  inflating: Potato/Valid/Potato___healthy/Potato_healthy-63-_0_3514.jpg  \n",
            "  inflating: Potato/Valid/Potato___healthy/Potato_healthy-63-_0_3737.jpg  \n",
            "  inflating: Potato/Valid/Potato___healthy/Potato_healthy-63-_0_4230.jpg  \n",
            "  inflating: Potato/Valid/Potato___healthy/Potato_healthy-63-_0_8585.jpg  \n",
            "  inflating: Potato/Valid/Potato___healthy/Potato_healthy-64-_0_2009.jpg  \n",
            "  inflating: Potato/Valid/Potato___healthy/Potato_healthy-64-_0_243.jpg  \n",
            "  inflating: Potato/Valid/Potato___healthy/Potato_healthy-64-_0_4404.jpg  \n",
            "  inflating: Potato/Valid/Potato___healthy/Potato_healthy-64-_0_5310.jpg  \n",
            "  inflating: Potato/Valid/Potato___healthy/Potato_healthy-65-_0_1994.jpg  \n",
            "  inflating: Potato/Valid/Potato___healthy/Potato_healthy-65-_0_4009.jpg  \n",
            "  inflating: Potato/Valid/Potato___healthy/Potato_healthy-65-_0_7409.jpg  \n",
            "  inflating: Potato/Valid/Potato___healthy/Potato_healthy-65-_0_838.jpg  \n",
            "  inflating: Potato/Valid/Potato___healthy/Potato_healthy-66-_0_240.jpg  \n",
            "  inflating: Potato/Valid/Potato___healthy/Potato_healthy-66-_0_305.jpg  \n",
            "  inflating: Potato/Valid/Potato___healthy/Potato_healthy-66-_0_405.jpg  \n",
            "  inflating: Potato/Valid/Potato___healthy/Potato_healthy-66-_0_4872.jpg  \n",
            "  inflating: Potato/Valid/Potato___healthy/Potato_healthy-67-_0_4206.jpg  \n",
            "  inflating: Potato/Valid/Potato___healthy/Potato_healthy-67-_0_5842.jpg  \n",
            "  inflating: Potato/Valid/Potato___healthy/Potato_healthy-67-_0_6557.jpg  \n",
            "  inflating: Potato/Valid/Potato___healthy/Potato_healthy-67-_0_8929.jpg  \n",
            "  inflating: Potato/Valid/Potato___healthy/Potato_healthy-68-_0_3217.jpg  \n",
            "  inflating: Potato/Valid/Potato___healthy/Potato_healthy-68-_0_4638.jpg  \n",
            "  inflating: Potato/Valid/Potato___healthy/Potato_healthy-68-_0_795.jpg  \n",
            "  inflating: Potato/Valid/Potato___healthy/Potato_healthy-68-_0_8403.jpg  \n",
            "  inflating: Potato/Valid/Potato___healthy/Potato_healthy-69-_0_4316.jpg  \n",
            "  inflating: Potato/Valid/Potato___healthy/Potato_healthy-69-_0_5477.jpg  \n",
            "  inflating: Potato/Valid/Potato___healthy/Potato_healthy-69-_0_620.jpg  \n",
            "  inflating: Potato/Valid/Potato___healthy/Potato_healthy-69-_0_9193.jpg  \n",
            "  inflating: Potato/Valid/Potato___healthy/Potato_healthy-70-_0_6709.jpg  \n",
            "  inflating: Potato/Valid/Potato___healthy/Potato_healthy-70-_0_7278.jpg  \n",
            "  inflating: Potato/Valid/Potato___healthy/Potato_healthy-70-_0_8166.jpg  \n",
            "  inflating: Potato/Valid/Potato___healthy/Potato_healthy-70-_0_8201.jpg  \n",
            "  inflating: Potato/Valid/Potato___healthy/Potato_healthy-71-_0_443.jpg  \n",
            "  inflating: Potato/Valid/Potato___healthy/Potato_healthy-71-_0_5097.jpg  \n",
            "  inflating: Potato/Valid/Potato___healthy/Potato_healthy-71-_0_5892.jpg  \n",
            "  inflating: Potato/Valid/Potato___healthy/Potato_healthy-71-_0_9850.jpg  \n",
            "  inflating: Potato/Valid/Potato___healthy/Potato_healthy-72-_0_464.jpg  \n",
            "  inflating: Potato/Valid/Potato___healthy/Potato_healthy-72-_0_50.jpg  \n",
            "  inflating: Potato/Valid/Potato___healthy/Potato_healthy-72-_0_5665.jpg  \n",
            "  inflating: Potato/Valid/Potato___healthy/Potato_healthy-72-_0_6701.jpg  \n",
            "  inflating: Potato/Valid/Potato___healthy/Potato_healthy-73-_0_1309.jpg  \n",
            "  inflating: Potato/Valid/Potato___healthy/Potato_healthy-73-_0_1358.jpg  \n",
            "  inflating: Potato/Valid/Potato___healthy/Potato_healthy-73-_0_2832.jpg  \n",
            "  inflating: Potato/Valid/Potato___healthy/Potato_healthy-73-_0_9057.jpg  \n",
            "  inflating: Potato/Valid/Potato___healthy/Potato_healthy-74-_0_1881.jpg  \n",
            "  inflating: Potato/Valid/Potato___healthy/Potato_healthy-74-_0_3338.jpg  \n",
            "  inflating: Potato/Valid/Potato___healthy/Potato_healthy-74-_0_7197.jpg  \n",
            "  inflating: Potato/Valid/Potato___healthy/Potato_healthy-74-_0_8041.jpg  \n",
            "  inflating: Potato/Valid/Potato___healthy/Potato_healthy-75-_0_3868.jpg  \n",
            "  inflating: Potato/Valid/Potato___healthy/Potato_healthy-75-_0_5081.jpg  \n",
            "  inflating: Potato/Valid/Potato___healthy/Potato_healthy-75-_0_6555.jpg  \n",
            "  inflating: Potato/Valid/Potato___healthy/Potato_healthy-75-_0_8809.jpg  \n"
          ]
        }
      ]
    },
    {
      "cell_type": "code",
      "source": [
        "# import neccessary libararies\n",
        "import tensorflow as tf\n",
        "from tensorflow.keras import models, layers\n",
        "import matplotlib.pyplot as plt\n"
      ],
      "metadata": {
        "id": "EYm370JvpnIj"
      },
      "execution_count": 9,
      "outputs": []
    },
    {
      "cell_type": "code",
      "source": [
        "Image_size = 256\n",
        "Batch_size = 15\n",
        "Channels =3\n",
        "EPOCHS = 20"
      ],
      "metadata": {
        "id": "jixgfEVLrHTb"
      },
      "execution_count": 10,
      "outputs": []
    },
    {
      "cell_type": "code",
      "source": [
        "#load dataset\n",
        "dataset = tf.keras.preprocessing.image_dataset_from_directory(\"/content/Potato/Train\",\n",
        "shuffle = True,\n",
        "image_size = (Image_size,Image_size),\n",
        "batch_size = Batch_size\n",
        ")\n"
      ],
      "metadata": {
        "colab": {
          "base_uri": "https://localhost:8080/"
        },
        "id": "gNyvglVTqMMV",
        "outputId": "a7d41e0e-93e2-4359-ffa2-36dca8514d69"
      },
      "execution_count": 11,
      "outputs": [
        {
          "output_type": "stream",
          "name": "stdout",
          "text": [
            "Found 900 files belonging to 3 classes.\n"
          ]
        }
      ]
    },
    {
      "cell_type": "code",
      "source": [
        "classname = dataset.class_names\n",
        "classname"
      ],
      "metadata": {
        "id": "uHB2nncvu0Y_",
        "colab": {
          "base_uri": "https://localhost:8080/"
        },
        "outputId": "2e9d5a17-cb18-4dcd-ca92-52bc7bbff0c2"
      },
      "execution_count": 12,
      "outputs": [
        {
          "output_type": "execute_result",
          "data": {
            "text/plain": [
              "['Potato___Early_blight', 'Potato___Late_blight', 'Potato___healthy']"
            ]
          },
          "metadata": {},
          "execution_count": 12
        }
      ]
    },
    {
      "cell_type": "code",
      "source": [
        "len(dataset)"
      ],
      "metadata": {
        "id": "UBbo-g6Pvxe0",
        "colab": {
          "base_uri": "https://localhost:8080/"
        },
        "outputId": "66efc8ef-92a2-4c09-9e98-f1d8486bc9a4"
      },
      "execution_count": 13,
      "outputs": [
        {
          "output_type": "execute_result",
          "data": {
            "text/plain": [
              "60"
            ]
          },
          "metadata": {},
          "execution_count": 13
        }
      ]
    },
    {
      "cell_type": "code",
      "source": [
        "#explore dataset\n",
        "#to remove messed area\n",
        "plt.figure(figsize=(10,10))\n",
        "for image_batch, label_batch in dataset.take(1):\n",
        "  for i in range(12):\n",
        "    ax = plt.subplot(3,4,i+1)\n",
        "    #to print first image\n",
        "    plt.imshow(image_batch[0].numpy().astype(\"uint8\"))\n",
        "    plt.axis(\"off\")\n",
        "    #to give class name\n",
        "    plt.title(classname[label_batch[0]])\n",
        "    print(image_batch.shape)\n",
        "    print(label_batch.numpy())\n"
      ],
      "metadata": {
        "id": "EnaJlCJvwYbN",
        "colab": {
          "base_uri": "https://localhost:8080/",
          "height": 969
        },
        "outputId": "2790fc92-d532-4c7d-bcaa-118edf0df4bb"
      },
      "execution_count": 14,
      "outputs": [
        {
          "output_type": "stream",
          "name": "stdout",
          "text": [
            "(15, 256, 256, 3)\n",
            "[0 1 0 0 0 0 1 2 1 2 0 2 0 0 0]\n",
            "(15, 256, 256, 3)\n",
            "[0 1 0 0 0 0 1 2 1 2 0 2 0 0 0]\n",
            "(15, 256, 256, 3)\n",
            "[0 1 0 0 0 0 1 2 1 2 0 2 0 0 0]\n",
            "(15, 256, 256, 3)\n",
            "[0 1 0 0 0 0 1 2 1 2 0 2 0 0 0]\n",
            "(15, 256, 256, 3)\n",
            "[0 1 0 0 0 0 1 2 1 2 0 2 0 0 0]\n",
            "(15, 256, 256, 3)\n",
            "[0 1 0 0 0 0 1 2 1 2 0 2 0 0 0]\n",
            "(15, 256, 256, 3)\n",
            "[0 1 0 0 0 0 1 2 1 2 0 2 0 0 0]\n",
            "(15, 256, 256, 3)\n",
            "[0 1 0 0 0 0 1 2 1 2 0 2 0 0 0]\n",
            "(15, 256, 256, 3)\n",
            "[0 1 0 0 0 0 1 2 1 2 0 2 0 0 0]\n",
            "(15, 256, 256, 3)\n",
            "[0 1 0 0 0 0 1 2 1 2 0 2 0 0 0]\n",
            "(15, 256, 256, 3)\n",
            "[0 1 0 0 0 0 1 2 1 2 0 2 0 0 0]\n",
            "(15, 256, 256, 3)\n",
            "[0 1 0 0 0 0 1 2 1 2 0 2 0 0 0]\n"
          ]
        },
        {
          "output_type": "display_data",
          "data": {
            "text/plain": [
              "<Figure size 720x720 with 12 Axes>"
            ],
            "image/png": "[encoded data removed]"
          },
          "metadata": {
            "needs_background": "light"
          }
        }
      ]
    },
    {
      "cell_type": "code",
      "source": [
        "len(dataset)"
      ],
      "metadata": {
        "id": "13buuiYf2CGJ",
        "colab": {
          "base_uri": "https://localhost:8080/"
        },
        "outputId": "b31507c6-327b-46a9-ca8d-0083d6e45cf9"
      },
      "execution_count": 15,
      "outputs": [
        {
          "output_type": "execute_result",
          "data": {
            "text/plain": [
              "60"
            ]
          },
          "metadata": {},
          "execution_count": 15
        }
      ]
    },
    {
      "cell_type": "code",
      "source": [
        "#80% == training, 10%==>test,\n",
        "#10%==>validation"
      ],
      "metadata": {
        "id": "c_Ha12eGzjow"
      },
      "execution_count": 16,
      "outputs": []
    },
    {
      "cell_type": "code",
      "source": [
        "training_size =0.8\n",
        "len(dataset)*training_size\n"
      ],
      "metadata": {
        "id": "eYFJMd8124E4",
        "colab": {
          "base_uri": "https://localhost:8080/"
        },
        "outputId": "cab75e29-4271-4034-aa67-d1b3a828ed5f"
      },
      "execution_count": 17,
      "outputs": [
        {
          "output_type": "execute_result",
          "data": {
            "text/plain": [
              "48.0"
            ]
          },
          "metadata": {},
          "execution_count": 17
        }
      ]
    },
    {
      "cell_type": "code",
      "source": [
        "train_ds = dataset.take(48)\n",
        "len(train_ds)"
      ],
      "metadata": {
        "id": "4pFWUXaD3mNF",
        "colab": {
          "base_uri": "https://localhost:8080/"
        },
        "outputId": "1fa8c804-22d2-44c0-ff64-28f7118e1d5b"
      },
      "execution_count": 18,
      "outputs": [
        {
          "output_type": "execute_result",
          "data": {
            "text/plain": [
              "48"
            ]
          },
          "metadata": {},
          "execution_count": 18
        }
      ]
    },
    {
      "cell_type": "code",
      "source": [
        "test_data = dataset.skip(48)\n",
        "len(test_data)"
      ],
      "metadata": {
        "id": "m1VQuxt1368r",
        "colab": {
          "base_uri": "https://localhost:8080/"
        },
        "outputId": "d90840cb-e68e-424b-9f14-49f02b15f8f8"
      },
      "execution_count": 19,
      "outputs": [
        {
          "output_type": "execute_result",
          "data": {
            "text/plain": [
              "12"
            ]
          },
          "metadata": {},
          "execution_count": 19
        }
      ]
    },
    {
      "cell_type": "code",
      "source": [
        "val_size = 0.1\n",
        "len(dataset)*val_size\n"
      ],
      "metadata": {
        "id": "VFAVKRNO56M-",
        "colab": {
          "base_uri": "https://localhost:8080/"
        },
        "outputId": "855e158a-5ba0-48e3-a247-4840c0b41d51"
      },
      "execution_count": 20,
      "outputs": [
        {
          "output_type": "execute_result",
          "data": {
            "text/plain": [
              "6.0"
            ]
          },
          "metadata": {},
          "execution_count": 20
        }
      ]
    },
    {
      "cell_type": "code",
      "source": [
        "val_ds =test_data.take(6)\n",
        "len(val_ds)"
      ],
      "metadata": {
        "id": "U-Z9RIu66URT",
        "colab": {
          "base_uri": "https://localhost:8080/"
        },
        "outputId": "4611d493-a55f-4fd1-8b76-392bee51398b"
      },
      "execution_count": 21,
      "outputs": [
        {
          "output_type": "execute_result",
          "data": {
            "text/plain": [
              "6"
            ]
          },
          "metadata": {},
          "execution_count": 21
        }
      ]
    },
    {
      "cell_type": "code",
      "source": [
        "test_ds= test_data.skip(6)\n",
        "len(test_ds)"
      ],
      "metadata": {
        "id": "hzaVx9o16f7g",
        "colab": {
          "base_uri": "https://localhost:8080/"
        },
        "outputId": "55c38c17-5638-4312-b946-c2697d1fb386"
      },
      "execution_count": 22,
      "outputs": [
        {
          "output_type": "execute_result",
          "data": {
            "text/plain": [
              "6"
            ]
          },
          "metadata": {},
          "execution_count": 22
        }
      ]
    },
    {
      "cell_type": "code",
      "source": [
        "# a fuction to give train, test and validation size\n",
        "def get_dataset_partition(dataset, train_split=0.8 , test_split=0.1 , val_split=0.1,shuffle =True,shuffle_size=10000):\n",
        "  if shuffle:\n",
        "    dataset = dataset.shuffle(shuffle_size,seed=12)\n",
        "  dataset_size = len(dataset)\n",
        "  train_size =int(dataset_size*train_split)\n",
        "  val_size = int(dataset_size*val_split)\n",
        "  train_ds =dataset.take(train_size)\n",
        "  val_ds = dataset.skip(train_size).take(val_size)\n",
        "  test_ds = dataset.skip(train_size).skip(val_size)\n",
        "\n",
        "\n",
        "  return train_ds, test_ds, val_ds\n"
      ],
      "metadata": {
        "id": "f1wj82Zm8FNe"
      },
      "execution_count": 23,
      "outputs": []
    },
    {
      "cell_type": "markdown",
      "source": [
        ""
      ],
      "metadata": {
        "id": "28115yLDA8L6"
      }
    },
    {
      "cell_type": "code",
      "source": [
        "train_ds, test_ds,val_ds = get_dataset_partition(dataset)"
      ],
      "metadata": {
        "id": "Hef5btnWU8Ov"
      },
      "execution_count": 24,
      "outputs": []
    },
    {
      "cell_type": "code",
      "source": [
        "len(train_ds)"
      ],
      "metadata": {
        "id": "AA_K6MhWVnr1",
        "colab": {
          "base_uri": "https://localhost:8080/"
        },
        "outputId": "5eaefafc-f9cc-46d7-b3b7-b4fd96075d37"
      },
      "execution_count": 25,
      "outputs": [
        {
          "output_type": "execute_result",
          "data": {
            "text/plain": [
              "48"
            ]
          },
          "metadata": {},
          "execution_count": 25
        }
      ]
    },
    {
      "cell_type": "code",
      "source": [
        "len(test_ds)"
      ],
      "metadata": {
        "id": "w1KWehioVtui",
        "colab": {
          "base_uri": "https://localhost:8080/"
        },
        "outputId": "a084faaf-13eb-4a34-8c88-5d9ce0f4f6bf"
      },
      "execution_count": 26,
      "outputs": [
        {
          "output_type": "execute_result",
          "data": {
            "text/plain": [
              "6"
            ]
          },
          "metadata": {},
          "execution_count": 26
        }
      ]
    },
    {
      "cell_type": "code",
      "source": [
        "len(val_ds)"
      ],
      "metadata": {
        "id": "X7pRlz-UVxGL",
        "colab": {
          "base_uri": "https://localhost:8080/"
        },
        "outputId": "92289713-4a3c-41bf-c491-7961d343ab1e"
      },
      "execution_count": 27,
      "outputs": [
        {
          "output_type": "execute_result",
          "data": {
            "text/plain": [
              "6"
            ]
          },
          "metadata": {},
          "execution_count": 27
        }
      ]
    },
    {
      "cell_type": "code",
      "source": [
        "#cache==>read the image from the disk for the next iteration when you need the same image, it will keep the image in the memory\n",
        "#prefetch--> if you are using gpu or cpu, if gpu is busy in training prefetch will load the next set of batch from your disk,\n",
        "# that will improve the performance\n",
        "train_ds= train_ds.cache().shuffle(1000).prefetch(buffer_size=tf.data.AUTOTUNE)\n",
        "test_ds= test_ds.cache().shuffle(1000).prefetch(buffer_size=tf.data.AUTOTUNE)\n",
        "val_ds= val_ds.cache().shuffle(1000).prefetch(buffer_size=tf.data.AUTOTUNE)"
      ],
      "metadata": {
        "id": "pslu4ZJMWAr-"
      },
      "execution_count": 28,
      "outputs": []
    },
    {
      "cell_type": "code",
      "source": [
        "#image preprocessing(scaling)\n",
        "#we have rgb channels from 0-255 so we have to convert it b/w 0 and 1, devide it by 255\n",
        "resize_and_rescale = tf.keras.Sequential([\n",
        "                                        layers.experimental.preprocessing.Resizing(Image_size,Image_size),\n",
        "                                        layers.experimental.preprocessing.Rescaling(1.0/255)\n",
        "                                        ])\n"
      ],
      "metadata": {
        "id": "n560hPBXYxdu"
      },
      "execution_count": 29,
      "outputs": []
    },
    {
      "cell_type": "code",
      "source": [
        "#data augumentation\n",
        "data_aug = tf.keras.Sequential([\n",
        "                     layers.experimental.preprocessing.RandomFlip(\"horizontal_and_vertical\"),\n",
        "                     layers.experimental.preprocessing.RandomRotation(0.2),\n",
        "])"
      ],
      "metadata": {
        "id": "GYBmeKpuc5DA"
      },
      "execution_count": 30,
      "outputs": []
    },
    {
      "cell_type": "code",
      "source": [
        "#building a model using cnn or model architecture\n",
        "Input_shape =(Batch_size,Image_size,Image_size,Channels)\n",
        "n_classes = 3\n",
        "model = models.Sequential([\n",
        "                           resize_and_rescale,\n",
        "                           data_aug,\n",
        "                           layers.Conv2D(32,(3,3),activation='relu',input_shape = Input_shape),\n",
        "                           layers.MaxPooling2D((2,2)),\n",
        "                           layers.Conv2D(64,kernel_size=(3,3),activation='relu'),\n",
        "                           layers.MaxPooling2D((2,2)),\n",
        "                           layers.Conv2D(64,kernel_size=(3,3),activation='relu'),\n",
        "                           layers.MaxPooling2D((2,2)),\n",
        "                           layers.Conv2D(64,(3,3),activation='relu'),\n",
        "                           layers.MaxPooling2D((2,2)),\n",
        "                            layers.Conv2D(64,(3,3),activation='relu'),\n",
        "                           layers.MaxPooling2D((2,2)),\n",
        "                           layers.Conv2D(64,(3,3),activation='relu'),\n",
        "                           layers.MaxPooling2D((2,2)),\n",
        "                          layers.Flatten(),\n",
        "                           layers.Dense(64,activation='relu'),\n",
        "                          layers.Dense(64,activation='softmax')\n",
        "\n",
        "])\n",
        "model.build(input_shape=Input_shape)"
      ],
      "metadata": {
        "id": "xUwlxeMQeHW2"
      },
      "execution_count": 31,
      "outputs": []
    },
    {
      "cell_type": "code",
      "source": [
        "model.summary()"
      ],
      "metadata": {
        "id": "jspmxCjEkZdD",
        "colab": {
          "base_uri": "https://localhost:8080/"
        },
        "outputId": "2737687f-941a-4f61-9b09-f42c7b7f5c02"
      },
      "execution_count": 32,
      "outputs": [
        {
          "output_type": "stream",
          "name": "stdout",
          "text": [
            "Model: \"sequential_2\"\n",
            "_________________________________________________________________\n",
            " Layer (type)                Output Shape              Param #   \n",
            "=================================================================\n",
            " sequential (Sequential)     (15, 256, 256, 3)         0         \n",
            "                                                                 \n",
            " sequential_1 (Sequential)   (15, 256, 256, 3)         0         \n",
            "                                                                 \n",
            " conv2d (Conv2D)             (15, 254, 254, 32)        896       \n",
            "                                                                 \n",
            " max_pooling2d (MaxPooling2D  (15, 127, 127, 32)       0         \n",
            " )                                                               \n",
            "                                                                 \n",
            " conv2d_1 (Conv2D)           (15, 125, 125, 64)        18496     \n",
            "                                                                 \n",
            " max_pooling2d_1 (MaxPooling  (15, 62, 62, 64)         0         \n",
            " 2D)                                                             \n",
            "                                                                 \n",
            " conv2d_2 (Conv2D)           (15, 60, 60, 64)          36928     \n",
            "                                                                 \n",
            " max_pooling2d_2 (MaxPooling  (15, 30, 30, 64)         0         \n",
            " 2D)                                                             \n",
            "                                                                 \n",
            " conv2d_3 (Conv2D)           (15, 28, 28, 64)          36928     \n",
            "                                                                 \n",
            " max_pooling2d_3 (MaxPooling  (15, 14, 14, 64)         0         \n",
            " 2D)                                                             \n",
            "                                                                 \n",
            " conv2d_4 (Conv2D)           (15, 12, 12, 64)          36928     \n",
            "                                                                 \n",
            " max_pooling2d_4 (MaxPooling  (15, 6, 6, 64)           0         \n",
            " 2D)                                                             \n",
            "                                                                 \n",
            " conv2d_5 (Conv2D)           (15, 4, 4, 64)            36928     \n",
            "                                                                 \n",
            " max_pooling2d_5 (MaxPooling  (15, 2, 2, 64)           0         \n",
            " 2D)                                                             \n",
            "                                                                 \n",
            " flatten (Flatten)           (15, 256)                 0         \n",
            "                                                                 \n",
            " dense (Dense)               (15, 64)                  16448     \n",
            "                                                                 \n",
            " dense_1 (Dense)             (15, 64)                  4160      \n",
            "                                                                 \n",
            "=================================================================\n",
            "Total params: 187,712\n",
            "Trainable params: 187,712\n",
            "Non-trainable params: 0\n",
            "_________________________________________________________________\n"
          ]
        }
      ]
    },
    {
      "cell_type": "code",
      "source": [
        "model.compile(optimizer='adam',\n",
        "              loss = tf.keras.losses.SparseCategoricalCrossentropy(from_logits=False),\n",
        "              metrics = 'accuracy'\n",
        "              )"
      ],
      "metadata": {
        "id": "zczQALYCk3f5"
      },
      "execution_count": 33,
      "outputs": []
    },
    {
      "cell_type": "code",
      "source": [
        "history = model.fit(\n",
        "           train_ds,\n",
        "           epochs=EPOCHS,\n",
        "           batch_size= Batch_size,\n",
        "           verbose = 1,\n",
        "          validation_data = val_ds\n",
        "\n",
        "\n",
        ")"
      ],
      "metadata": {
        "id": "yMPx9WAynh1a",
        "colab": {
          "base_uri": "https://localhost:8080/"
        },
        "outputId": "af4cd2c4-4c0d-4480-ba22-5e29512d6691"
      },
      "execution_count": 34,
      "outputs": [
        {
          "output_type": "stream",
          "name": "stdout",
          "text": [
            "Epoch 1/20\n",
            "48/48 [==============================] - 20s 64ms/step - loss: 1.7579 - accuracy: 0.3889 - val_loss: 1.0238 - val_accuracy: 0.5222\n",
            "Epoch 2/20\n",
            "48/48 [==============================] - 2s 37ms/step - loss: 0.8101 - accuracy: 0.6236 - val_loss: 0.7144 - val_accuracy: 0.6889\n",
            "Epoch 3/20\n",
            "48/48 [==============================] - 2s 35ms/step - loss: 0.6141 - accuracy: 0.7111 - val_loss: 0.4178 - val_accuracy: 0.8111\n",
            "Epoch 4/20\n",
            "48/48 [==============================] - 2s 35ms/step - loss: 0.4950 - accuracy: 0.7792 - val_loss: 0.5067 - val_accuracy: 0.8222\n",
            "Epoch 5/20\n",
            "48/48 [==============================] - 2s 35ms/step - loss: 0.4243 - accuracy: 0.8264 - val_loss: 0.3571 - val_accuracy: 0.8222\n",
            "Epoch 6/20\n",
            "48/48 [==============================] - 2s 35ms/step - loss: 0.3518 - accuracy: 0.8583 - val_loss: 0.3873 - val_accuracy: 0.8333\n",
            "Epoch 7/20\n",
            "48/48 [==============================] - 2s 36ms/step - loss: 0.3260 - accuracy: 0.8486 - val_loss: 0.3811 - val_accuracy: 0.8778\n",
            "Epoch 8/20\n",
            "48/48 [==============================] - 2s 42ms/step - loss: 0.3059 - accuracy: 0.8875 - val_loss: 0.3573 - val_accuracy: 0.8444\n",
            "Epoch 9/20\n",
            "48/48 [==============================] - 2s 45ms/step - loss: 0.3494 - accuracy: 0.8611 - val_loss: 0.6608 - val_accuracy: 0.7778\n",
            "Epoch 10/20\n",
            "48/48 [==============================] - 2s 38ms/step - loss: 0.2662 - accuracy: 0.8847 - val_loss: 0.4617 - val_accuracy: 0.8222\n",
            "Epoch 11/20\n",
            "48/48 [==============================] - 2s 36ms/step - loss: 0.3125 - accuracy: 0.8778 - val_loss: 0.3644 - val_accuracy: 0.8556\n",
            "Epoch 12/20\n",
            "48/48 [==============================] - 2s 36ms/step - loss: 0.2525 - accuracy: 0.9083 - val_loss: 0.2817 - val_accuracy: 0.8556\n",
            "Epoch 13/20\n",
            "48/48 [==============================] - 2s 36ms/step - loss: 0.2624 - accuracy: 0.9000 - val_loss: 0.3028 - val_accuracy: 0.8889\n",
            "Epoch 14/20\n",
            "48/48 [==============================] - 2s 36ms/step - loss: 0.2341 - accuracy: 0.9097 - val_loss: 0.2479 - val_accuracy: 0.9222\n",
            "Epoch 15/20\n",
            "48/48 [==============================] - 2s 36ms/step - loss: 0.2519 - accuracy: 0.9097 - val_loss: 0.7915 - val_accuracy: 0.7556\n",
            "Epoch 16/20\n",
            "48/48 [==============================] - 2s 36ms/step - loss: 0.3767 - accuracy: 0.8556 - val_loss: 0.2828 - val_accuracy: 0.8889\n",
            "Epoch 17/20\n",
            "48/48 [==============================] - 2s 36ms/step - loss: 0.2261 - accuracy: 0.9139 - val_loss: 0.2591 - val_accuracy: 0.8778\n",
            "Epoch 18/20\n",
            "48/48 [==============================] - 2s 36ms/step - loss: 0.2096 - accuracy: 0.9139 - val_loss: 0.2583 - val_accuracy: 0.8778\n",
            "Epoch 19/20\n",
            "48/48 [==============================] - 2s 36ms/step - loss: 0.2210 - accuracy: 0.9181 - val_loss: 0.3303 - val_accuracy: 0.8444\n",
            "Epoch 20/20\n",
            "48/48 [==============================] - 2s 36ms/step - loss: 0.2102 - accuracy: 0.9167 - val_loss: 0.6252 - val_accuracy: 0.8444\n"
          ]
        }
      ]
    },
    {
      "cell_type": "code",
      "source": [
        "scores = model.evaluate(test_ds)"
      ],
      "metadata": {
        "id": "YwQzgfXs5G6Z",
        "colab": {
          "base_uri": "https://localhost:8080/"
        },
        "outputId": "248136af-1895-46a7-ccff-69c2a42a3c7b"
      },
      "execution_count": 35,
      "outputs": [
        {
          "output_type": "stream",
          "name": "stdout",
          "text": [
            "6/6 [==============================] - 1s 16ms/step - loss: 0.4684 - accuracy: 0.8778\n"
          ]
        }
      ]
    },
    {
      "cell_type": "code",
      "source": [
        "scores"
      ],
      "metadata": {
        "id": "6VbkK0NJPEnL",
        "colab": {
          "base_uri": "https://localhost:8080/"
        },
        "outputId": "c772449b-61dd-4d5a-a823-0e1573203de6"
      },
      "execution_count": 36,
      "outputs": [
        {
          "output_type": "execute_result",
          "data": {
            "text/plain": [
              "[0.46841904520988464, 0.8777777552604675]"
            ]
          },
          "metadata": {},
          "execution_count": 36
        }
      ]
    },
    {
      "cell_type": "code",
      "source": [
        "history"
      ],
      "metadata": {
        "id": "UEezWuU_nTNg",
        "colab": {
          "base_uri": "https://localhost:8080/"
        },
        "outputId": "42eb18c2-ca9c-4265-e9de-9e73d4e717fb"
      },
      "execution_count": 37,
      "outputs": [
        {
          "output_type": "execute_result",
          "data": {
            "text/plain": [
              "<keras.callbacks.History at 0x7fe0700ad850>"
            ]
          },
          "metadata": {},
          "execution_count": 37
        }
      ]
    },
    {
      "cell_type": "code",
      "source": [
        "history.params"
      ],
      "metadata": {
        "id": "bkSq5H8GPf2_",
        "colab": {
          "base_uri": "https://localhost:8080/"
        },
        "outputId": "6fd3ed2a-09b8-4607-bff0-6b54d2abc548"
      },
      "execution_count": 38,
      "outputs": [
        {
          "output_type": "execute_result",
          "data": {
            "text/plain": [
              "{'epochs': 20, 'steps': 48, 'verbose': 1}"
            ]
          },
          "metadata": {},
          "execution_count": 38
        }
      ]
    },
    {
      "cell_type": "code",
      "source": [
        "history.history.keys()"
      ],
      "metadata": {
        "id": "KLZVuXjePovs",
        "colab": {
          "base_uri": "https://localhost:8080/"
        },
        "outputId": "98320f26-8a43-437b-dee6-134e5644faba"
      },
      "execution_count": 39,
      "outputs": [
        {
          "output_type": "execute_result",
          "data": {
            "text/plain": [
              "dict_keys(['loss', 'accuracy', 'val_loss', 'val_accuracy'])"
            ]
          },
          "metadata": {},
          "execution_count": 39
        }
      ]
    },
    {
      "cell_type": "code",
      "source": [
        "acc = history.history['accuracy']\n",
        "val_acc = history.history['val_accuracy']\n",
        "loss = history.history['loss']\n",
        "val_loss = history.history['val_loss']"
      ],
      "metadata": {
        "id": "I4XxoskoPzRi"
      },
      "execution_count": 40,
      "outputs": []
    },
    {
      "cell_type": "code",
      "source": [
        "plt.figure(figsize = (8,8))\n",
        "plt.subplot(1,2,1)\n",
        "plt.plot(range(EPOCHS),acc,label=\"Training Accuracy\")\n",
        "plt.plot(range(EPOCHS),val_acc,label=\"Validation Accuracy \")\n",
        "plt.legend(loc = 'lower right')\n",
        "plt.title('Training and Validation Accuracy')"
      ],
      "metadata": {
        "id": "yJUJMZJ9Qbpx",
        "colab": {
          "base_uri": "https://localhost:8080/",
          "height": 516
        },
        "outputId": "97fd7b97-aed5-4992-e8b8-83ad18a6747b"
      },
      "execution_count": 41,
      "outputs": [
        {
          "output_type": "execute_result",
          "data": {
            "text/plain": [
              "Text(0.5, 1.0, 'Training and Validation Accuracy')"
            ]
          },
          "metadata": {},
          "execution_count": 41
        },
        {
          "output_type": "display_data",
          "data": {
            "text/plain": [
              "<Figure size 576x576 with 1 Axes>"
            ],
            "image/png": "[encoded data removed]"
          },
          "metadata": {
            "needs_background": "light"
          }
        }
      ]
    },
    {
      "cell_type": "code",
      "source": [
        "np.argmax([9.99989629e-01, 1.03472948e-05, 6.74252624e-12, 2.07862707e-198])"
      ],
      "metadata": {
        "id": "XwEuakXHVsRv",
        "colab": {
          "base_uri": "https://localhost:8080/"
        },
        "outputId": "972feeb7-84a3-4325-de2d-a52dff2116a6"
      },
      "execution_count": 44,
      "outputs": [
        {
          "output_type": "execute_result",
          "data": {
            "text/plain": [
              "0"
            ]
          },
          "metadata": {},
          "execution_count": 44
        }
      ]
    },
    {
      "cell_type": "code",
      "source": [
        "import numpy as np\n",
        "for image_batch, label_batch in test_ds.take(1):\n",
        "  first_image=(image_batch[0].numpy().astype('uint8'))\n",
        "  first_label = label_batch[0].numpy()\n",
        "  print(\"first image to predict\")\n",
        "  plt.imshow(first_image)\n",
        "  print(\"actual label:\", classname[first_label])\n",
        "\n",
        "  batch_prediction= model.predict(image_batch)\n",
        "  print(\"prediction label:\",classname[np.argmax(batch_prediction[0])])\n"
      ],
      "metadata": {
        "id": "voc9nhaPSNj6",
        "colab": {
          "base_uri": "https://localhost:8080/",
          "height": 321
        },
        "outputId": "60b39179-018a-4459-8069-e447e1e8e0b7"
      },
      "execution_count": 43,
      "outputs": [
        {
          "output_type": "stream",
          "name": "stdout",
          "text": [
            "first image to predict\n",
            "actual label: Potato___healthy\n",
            "prediction label: Potato___healthy\n"
          ]
        },
        {
          "output_type": "display_data",
          "data": {
            "text/plain": [
              "<Figure size 432x288 with 1 Axes>"
            ],
            "image/png": "[encoded data removed]"
          },
          "metadata": {
            "needs_background": "light"
          }
        }
      ]
    }
  ]
}