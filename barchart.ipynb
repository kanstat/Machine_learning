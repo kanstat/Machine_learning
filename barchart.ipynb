{
  "nbformat": 4,
  "nbformat_minor": 0,
  "metadata": {
    "colab": {
      "name": "barchart.ipynb",
      "provenance": [],
      "authorship_tag": "ABX9TyOFnpaO6qk0sp4Df6AWbIw2",
      "include_colab_link": true
    },
    "kernelspec": {
      "name": "python3",
      "display_name": "Python 3"
    },
    "language_info": {
      "name": "python"
    }
  },
  "cells": [
    {
      "cell_type": "markdown",
      "metadata": {
        "id": "view-in-github",
        "colab_type": "text"
      },
      "source": [
        "<a href=\"https://colab.research.google.com/github/kanstat/Machine_learning/blob/main/barchart.ipynb\" target=\"_parent\"><img src=\"https://colab.research.google.com/assets/colab-badge.svg\" alt=\"Open In Colab\"/></a>"
      ]
    },
    {
      "cell_type": "code",
      "execution_count": 1,
      "metadata": {
        "id": "aHEeOoPoeh56"
      },
      "outputs": [],
      "source": [
        "import matplotlib.pyplot as plt \n",
        "import numpy as np\n"
      ]
    },
    {
      "cell_type": "code",
      "source": [
        "company = ['google','amazon','microsoft','facebook']\n",
        "revenue = [90,136,89,27]\n",
        "profit = [40,50,23,4]\n"
      ],
      "metadata": {
        "id": "y2PlPKCbetFH"
      },
      "execution_count": 2,
      "outputs": []
    },
    {
      "cell_type": "code",
      "source": [
        "xpos = np.arange(len(company))\n",
        "xpos"
      ],
      "metadata": {
        "colab": {
          "base_uri": "https://localhost:8080/"
        },
        "id": "p-QdFrsefRPW",
        "outputId": "68f4835e-98a5-4b0a-cca2-7d62ca8d9910"
      },
      "execution_count": 3,
      "outputs": [
        {
          "output_type": "execute_result",
          "data": {
            "text/plain": [
              "array([0, 1, 2, 3])"
            ]
          },
          "metadata": {},
          "execution_count": 3
        }
      ]
    },
    {
      "cell_type": "code",
      "source": [
        "plt.xticks(xpos,company)\n",
        "plt.ylabel('revenue')\n",
        "plt.bar(xpos-0.2,revenue,width=0.4,label = 'revenue')\n",
        "plt.bar(xpos+0.2,profit,width=0.4,label = 'profit')\n",
        "plt.title('us stocks')\n",
        "plt.legend()"
      ],
      "metadata": {
        "colab": {
          "base_uri": "https://localhost:8080/",
          "height": 298
        },
        "id": "pkMnT_3Lffsa",
        "outputId": "d6045b7d-565f-4725-ba33-c2600a44a8b0"
      },
      "execution_count": 4,
      "outputs": [
        {
          "output_type": "execute_result",
          "data": {
            "text/plain": [
              "<matplotlib.legend.Legend at 0x7f0595f85d90>"
            ]
          },
          "metadata": {},
          "execution_count": 4
        },
        {
          "output_type": "display_data",
          "data": {
            "text/plain": [
              "<Figure size 432x288 with 1 Axes>"
            ],
            "image/png": "[encoded data removed]"
          },
          "metadata": {
            "needs_background": "light"
          }
        }
      ]
    }
  ]
}