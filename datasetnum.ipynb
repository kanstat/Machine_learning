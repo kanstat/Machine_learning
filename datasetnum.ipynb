{
  "nbformat": 4,
  "nbformat_minor": 0,
  "metadata": {
    "colab": {
      "name": "datasetnum.ipynb",
      "provenance": [],
      "collapsed_sections": [],
      "authorship_tag": "ABX9TyPQYU9lyT0c4/56niUK4N8d",
      "include_colab_link": true
    },
    "kernelspec": {
      "name": "python3",
      "display_name": "Python 3"
    },
    "language_info": {
      "name": "python"
    }
  },
  "cells": [
    {
      "cell_type": "markdown",
      "metadata": {
        "id": "view-in-github",
        "colab_type": "text"
      },
      "source": [
        "<a href=\"https://colab.research.google.com/github/kanstat/Machine_learning/blob/main/datasetnum.ipynb\" target=\"_parent\"><img src=\"https://colab.research.google.com/assets/colab-badge.svg\" alt=\"Open In Colab\"/></a>"
      ]
    },
    {
      "cell_type": "code",
      "execution_count": 1,
      "metadata": {
        "id": "nl28aIgmf-F2"
      },
      "outputs": [],
      "source": [
        "#creating a dataset using numpy and pandas\n",
        "#import numpy \n",
        "import numpy as np\n",
        "#import pandas\n",
        "import pandas as pd\n",
        "# import matplot.lib\n",
        "import matplotlib.pyplot as plt\n"
      ]
    },
    {
      "cell_type": "code",
      "source": [
        "# defining the mean\n",
        "mu = 0.5\n",
        "# defining the standard deviation\n",
        "sigma = 0.1\n",
        "# random module uses seeds \n",
        "np.random.seed(0)\n",
        "#define x coordinate\n",
        "X = np.random.normal(mu,sigma,(395,1))\n",
        "# define the y coordinate\n",
        "Y =np.random.normal(mu*2,sigma*3,(395,1))\n",
        "#plot a graph\n",
        "plt.scatter(X,Y,color='r')\n",
        "plt.show()"
      ],
      "metadata": {
        "colab": {
          "base_uri": "https://localhost:8080/",
          "height": 265
        },
        "id": "PDiW_-fjg9ih",
        "outputId": "ddef34b5-54ec-4946-83ee-cc5fbb1fffec"
      },
      "execution_count": 2,
      "outputs": [
        {
          "output_type": "display_data",
          "data": {
            "text/plain": [
              "<Figure size 432x288 with 1 Axes>"
            ],
            "image/png": "[encoded data removed]"
          },
          "metadata": {
            "needs_background": "light"
          }
        }
      ]
    }
  ]
}